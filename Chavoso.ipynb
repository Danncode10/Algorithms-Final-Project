{
 "cells": [
  {
   "cell_type": "markdown",
   "id": "e465e6d2-9a64-4fb4-913f-68bde2b60414",
   "metadata": {},
   "source": [
    "## Mitch Hazel Chavoso"
   ]
  },
  {
   "cell_type": "markdown",
   "id": "2628e1ec-a47b-4767-bbfa-5f837ba4a9d0",
   "metadata": {},
   "source": [
    "* # reflectString"
   ]
  },
  {
   "cell_type": "markdown",
   "id": "ba0455d4-6811-4018-bc76-7ce2f342cac4",
   "metadata": {},
   "source": [
    "## Problem Description:\n",
    "\n",
    " Define an alphabet reflection as follows: a turns into z, b turns into y, c turns into x, ..., n turns into m, m turns into n, ..., z turns into a.\n",
    "\n",
    " Define a string reflection as the result of applying the alphabet reflection to each of its characters.\n",
    "\n",
    " Reflect the given string.\n",
    "\n",
    " Example:\n",
    "\n",
    " For inputString = \"name\", the output should be reflectString(inputString) = \"mznv\".\n",
    "\n",
    " Hints:\n",
    "\n",
    " split()\n",
    " Input/Output\n",
    "\n",
    " [execution time limit] 5 seconds (ts)\n",
    " [input] string inputString\n",
    " A string of lowercase characters.\n",
    "\n",
    " Guaranteed constraints:\n",
    "\n",
    " 3 ≤ inputString.length ≤ 10.\n",
    "\n",
    " [output] string"
   ]
  },
  {
   "cell_type": "markdown",
   "id": "e545caed-2b57-475d-b40d-b7a806aab751",
   "metadata": {},
   "source": [
    "## Describing Solution"
   ]
  },
  {
   "cell_type": "markdown",
   "id": "712e611e-b751-424e-a11b-fbf812debadb",
   "metadata": {},
   "source": [
    "Every letter in the alphabet has a position:\n",
    "\n",
    "'a' = 0, 'b' = 1, ..., 'z' = 25\n",
    "\n",
    "The mirrored position is:\n",
    "\n",
    "25 - original_position\n",
    "\n",
    "Example: 'b' is at position 1 → mirrored position = 24 → 'y'\n",
    "\n",
    "To do this in Python:\n",
    "\n",
    "Use ord(ch) to get the ASCII value of the letter.\n",
    "\n",
    "Calculate the reflected character with:\n",
    "\n",
    "reflected_char = chr(ord('a') + ord('z') - ord(ch))\r\n",
    "\n"
   ]
  },
  {
   "cell_type": "markdown",
   "id": "d9cfe686-96b4-451d-82ca-ff30db955cf4",
   "metadata": {},
   "source": [
    "## Solution Code:"
   ]
  },
  {
   "cell_type": "code",
   "execution_count": 14,
   "id": "4e2864bc-cd31-45c4-92c9-2a02a21f3ee4",
   "metadata": {},
   "outputs": [
    {
     "name": "stdout",
     "output_type": "stream",
     "text": [
      "mznv\n"
     ]
    }
   ],
   "source": [
    "def reflectString(inputString):\n",
    "    result = []\n",
    "    for ch in inputString:\n",
    "       \n",
    "        reflected = chr(ord('a') + ord('z') - ord(ch))\n",
    "        result.append(reflected)\n",
    "    return ''.join(result)\n",
    "\n",
    "input_str = \"name\"\n",
    "output = reflectString(input_str)\n",
    "\n",
    "print(output)  \n"
   ]
  },
  {
   "cell_type": "markdown",
   "id": "174ede2c-4b19-4275-927b-ecba8e99be24",
   "metadata": {},
   "source": [
    "## Test Case"
   ]
  },
  {
   "cell_type": "code",
   "execution_count": 17,
   "id": "9c90025b-273f-4788-acb6-e89570991d52",
   "metadata": {},
   "outputs": [
    {
     "name": "stdout",
     "output_type": "stream",
     "text": [
      "=== Test Case ===\n",
      "Input:    name\n",
      "Output:   mznv\n",
      "Expected: mznv\n",
      "Result:   ✅ PASS\n"
     ]
    }
   ],
   "source": [
    "def reflectString(inputString):\n",
    "    result = []\n",
    "    for ch in inputString:\n",
    "        # Reflect the character across the alphabet\n",
    "        reflected = chr(ord('a') + ord('z') - ord(ch))\n",
    "        result.append(reflected)\n",
    "    return ''.join(result)\n",
    "\n",
    "\n",
    "test_input = \"name\"\n",
    "\n",
    "expected_output = \"mznv\"\n",
    "\n",
    "actual_output = reflectString(test_input)\n",
    "\n",
    "print(\"=== Test Case ===\")\n",
    "print(f\"Input:    {test_input}\")\n",
    "print(f\"Output:   {actual_output}\")\n",
    "print(f\"Expected: {expected_output}\")\n",
    "print(\"Result:   \" + (\"✅ PASS\" if actual_output == expected_output else \"❌ FAIL\"))\n"
   ]
  },
  {
   "cell_type": "markdown",
   "id": "19dd0851-1def-488d-a79c-7f658b58b9fe",
   "metadata": {},
   "source": [
    "## 🧠 Why It Works\n"
   ]
  },
  {
   "cell_type": "markdown",
   "id": "9299214b-2fe1-43c0-9ffe-8ab627370fbc",
   "metadata": {},
   "source": [
    "Each letter is transformed using:\n",
    "\n",
    "python\n",
    "Copy\n",
    "Edit\n",
    "chr(ord('a') + ord('z') - ord(ch))\n",
    "So:\n",
    "\n",
    "'n' → 'm'\n",
    "\n",
    "'a' → 'z'\n",
    "\n",
    "'m' → 'n'\n",
    "\n",
    "'e' → 'v'\n",
    "\n",
    "Putting it together: \"name\" → \"mznv\" ✅"
   ]
  },
  {
   "cell_type": "markdown",
   "id": "33cd7833-e0eb-4b21-bf4d-3bdef49a0eb7",
   "metadata": {},
   "source": [
    "* # reverseAString"
   ]
  },
  {
   "cell_type": "markdown",
   "id": "9c7c1d7e-3071-4de1-b028-0e8d8d7e8eba",
   "metadata": {},
   "source": [
    "## Problem Description:\n",
    "\n",
    "Reverse the provided string.\n",
    "\n",
    "You may need to turn the string into an array before you can reverse it.\n",
    "\n",
    "Your result must be a string.\n",
    "\n",
    "Example:\n",
    "\n",
    "reverseAString('hello') returns 'olleh';\n",
    "\n",
    "reverseAString('Howdy') returns 'ydwoH';\n",
    "\n",
    "Hints:\n",
    "\n",
    "- join()\n",
    "\n",
    "- split()\n",
    "\n",
    "- reverse()"
   ]
  },
  {
   "cell_type": "markdown",
   "id": "810fab21-40c5-4646-98a3-f3228d95a412",
   "metadata": {},
   "source": [
    "## 🧠 Solution Strategy (Explained)\n",
    "\n",
    "Convert string to a list:\n",
    "Since strings are immutable in Python, we convert it into a list of characters using list(s).\n",
    "\n",
    "Reverse the list:\n",
    "Use the built-in reverse() method to reverse the list in place.\n",
    "\n",
    "Join the characters:\n",
    "Use \"\".join(list) to convert the reversed list back into a single string.t()\r\n",
    "reverse()"
   ]
  },
  {
   "cell_type": "markdown",
   "id": "aca4d16d-da98-4a43-b24b-dba7e977a433",
   "metadata": {},
   "source": [
    "## Code:"
   ]
  },
  {
   "cell_type": "code",
   "execution_count": 16,
   "id": "f382a417-b4ce-4fe0-b639-6e4ed3042c9d",
   "metadata": {},
   "outputs": [
    {
     "name": "stdout",
     "output_type": "stream",
     "text": [
      "olleH\n",
      "riS\n"
     ]
    }
   ],
   "source": [
    "def reverseAString(s):\n",
    "    char_list = list(s)\n",
    "    \n",
    "    char_list.reverse()\n",
    "    return ''.join(char_list)\n",
    "\n",
    "print(reverseAString('Hello'))  \n",
    "print(reverseAString('Sir'))  \n"
   ]
  },
  {
   "cell_type": "markdown",
   "id": "4ee41c1f-edc2-46e0-a92a-6be6eaab5f51",
   "metadata": {},
   "source": [
    "## Test Case:"
   ]
  },
  {
   "cell_type": "code",
   "execution_count": 18,
   "id": "2ba592aa-5ca4-43bd-85bd-71518daef161",
   "metadata": {},
   "outputs": [
    {
     "name": "stdout",
     "output_type": "stream",
     "text": [
      "=== Test Case ===\n",
      "Input:    hello\n",
      "Output:   olleh\n",
      "Expected: olleh\n",
      "Result:   ✅ PASS\n"
     ]
    }
   ],
   "source": [
    "def reverseAString(s):\n",
    "    char_list = list(s)\n",
    "    char_list.reverse()\n",
    "    return ''.join(char_list)\n",
    "\n",
    "test_input = \"hello\"\n",
    "expected_output = \"olleh\"\n",
    "\n",
    "actual_output = reverseAString(test_input)\n",
    "\n",
    "print(\"=== Test Case ===\")\n",
    "print(f\"Input:    {test_input}\")\n",
    "print(f\"Output:   {actual_output}\")\n",
    "print(f\"Expected: {expected_output}\")\n",
    "print(\"Result:   \" + (\"✅ PASS\" if actual_output == expected_output else \"❌ FAIL\"))\n"
   ]
  },
  {
   "cell_type": "markdown",
   "id": "cfd8b5a5-36cf-4e97-8a7f-329c48e5c704",
   "metadata": {},
   "source": [
    "## 🧠 Explanation of the Strategy\n",
    "list(s) – Converts the string to a list of characters.\n",
    "\n",
    ".reverse() – Reverses the list in place.\n",
    "\n",
    "''.join(list) – Joins the reversed characters back into a string.\n",
    "\n"
   ]
  },
  {
   "cell_type": "markdown",
   "id": "dd4e5565-c2c6-4e6b-8e22-f163b0496da1",
   "metadata": {},
   "source": [
    "* # SeatsInTheater"
   ]
  },
  {
   "cell_type": "markdown",
   "id": "408c463f-076b-4b9a-81fb-debc61d92219",
   "metadata": {},
   "source": [
    "## Problem Description:"
   ]
  },
  {
   "cell_type": "markdown",
   "id": "cb1676bd-16f2-4b5d-81d2-31e1c7806b39",
   "metadata": {},
   "source": [
    "Your friend advised you to see a new performance in the most popular theater in the city. He knows a lot about art and his advice is usually good, but not this time: the performance turned out to be awfully dull. It's so bad you want to sneak out, which is quite simple, especially since the exit is located right behind your row to the left. All you need to do is climb over your seat and make your way to the exit.\r\n",
    "\r\n",
    "The main problem is your shyness: you're afraid that you'll end up blocking the view (even if only for a couple of seconds) of all the people who sit behind you and in your column or the columns to your left. To gain some courage, you decide to calculate the number of such people and see if you can possibly make it to the exit without disturbing too many people.\r\n",
    "\r\n",
    "Given the total number of rows and columns in the theater (nRows and nCols, respectively), and the row and column you're sitting in, return the number of people who sit strictly behind you and in your column or to the left, assuming all seats are occupied.\r\n",
    "\r\n",
    "E:xample\r\n",
    "\r\n",
    "For nCols = 16, nRows = 11, col = 5 and row = 3, the output should be seatsInTheater(nCols, nRows, col, row) = 96.\r\n",
    "\r\n",
    "Here is what the theater looks like: \r\n",
    "\r\n",
    ":Input/Output\r\n",
    "\r\n",
    "[execution time limit] 4 seconds (js)\r\n",
    "[input] integer nCols\r\n",
    "An integer, the number of theater's columns.\r\n",
    "\r\n",
    "Guaranteed constraints:\r\n",
    "\r\n",
    "1 ≤ nCols ≤ 1000.\r\n",
    "\r\n",
    "[input] integer nRows\r\n",
    "An integer, the number of theater's rows.\r\n",
    "\r\n",
    "Guaranteed constraints:\r\n",
    "\r\n",
    "1 ≤ nRows ≤ 1000.\r\n",
    "\r\n",
    "[input] integer row\r\n",
    "An integer, the row number of your own seat (1-based)..\r\n",
    "\r\n",
    "Guaranteed constraints:\r\n",
    "\r\n",
    "1 ≤ row ≤ nRows.\r\n",
    "\r\n",
    "[output] integer\r\n",
    "The number of people who sit strictly behind you and in your column or to the left."
   ]
  },
  {
   "cell_type": "markdown",
   "id": "cf4b7019-44fc-42a4-9998-5f41b71cec1a",
   "metadata": {},
   "source": [
    "## ✅ Solution Strategy Recap\n",
    "You're only concerned with seats strictly behind you: that’s nRows - row\n",
    "\n",
    "And seats in your column or to the left, which is nCols - col + 1\n",
    "\n",
    "Multiply both to get the total people who might be disturbed\n",
    "\n",
    "📌 Formula:\n",
    "\n",
    "(nRows - row) * (nCols - col + 1)\r\n"
   ]
  },
  {
   "cell_type": "markdown",
   "id": "2d4e4c5a-9ed1-485d-911e-11500055b3fc",
   "metadata": {},
   "source": [
    "## 🧠 Problem Explanation\n",
    "You are sitting in a seat at position (row, col) in a theater with nRows rows and nCols columns.\n",
    "You want to count how many people are strictly behind you (row + 1 to nRows) and in your column or to the left (1 to col).\n",
    "\n",
    "📌 That means:\n",
    "\n",
    "Rows behind you = nRows - row\n",
    "\n",
    "Columns to your left and including yours = col\n",
    "\n",
    "So, total people affected = (nRows - row) * col"
   ]
  },
  {
   "cell_type": "markdown",
   "id": "bfa33992-ac44-44bf-9a0d-55bdf2955660",
   "metadata": {},
   "source": [
    "## Code:"
   ]
  },
  {
   "cell_type": "code",
   "execution_count": 19,
   "id": "1ecfd91b-1ca5-4437-acf8-67f696f6f0b1",
   "metadata": {},
   "outputs": [
    {
     "name": "stdout",
     "output_type": "stream",
     "text": [
      "96\n"
     ]
    }
   ],
   "source": [
    "def seatsInTheater(nCols, nRows, col, row):\n",
    "    return (nRows - row) * (nCols - col + 1)\n",
    "\n",
    "nCols = 16\n",
    "nRows = 11\n",
    "col = 5\n",
    "row = 3\n",
    "\n",
    "result = seatsInTheater(nCols, nRows, col, row)\n",
    "print(result)\n"
   ]
  },
  {
   "cell_type": "markdown",
   "id": "d18b7e97-97cf-4bc2-8f16-ebfa80363acb",
   "metadata": {},
   "source": [
    "## Test Case"
   ]
  },
  {
   "cell_type": "code",
   "execution_count": 20,
   "id": "94fb269b-7e20-42ec-a322-6ca5afdc263e",
   "metadata": {},
   "outputs": [
    {
     "name": "stdout",
     "output_type": "stream",
     "text": [
      "Number of people behind and to the left: 96\n"
     ]
    }
   ],
   "source": [
    "def seatsInTheater(nCols, nRows, col, row):\n",
    "    return (nRows - row) * (nCols - col + 1)\n",
    "\n",
    "nCols = 16\n",
    "nRows = 11\n",
    "col = 5\n",
    "row = 3\n",
    "\n",
    "result = seatsInTheater(nCols, nRows, col, row)\n",
    "\n",
    "print(\"Number of people behind and to the left:\", result)\n"
   ]
  },
  {
   "cell_type": "markdown",
   "id": "b36d744b-0aa1-41e8-862c-8c2ca5103015",
   "metadata": {},
   "source": [
    "## 🧠 Explanation of the Solution\n",
    "Seats behind you: (nRows - row), which is 11 - 3 = 8 rows behind.\n",
    "\n",
    "Seats in your column or to the left: (nCols - col + 1), which is 16 - 5 + 1 = 12 columns to the left, including your column.\n",
    "\n",
    "Multiplying these gives:\n",
    "8 * 12 = 96\n",
    "\n",
    "Thus, 96 people will be affected if you try to sneak out."
   ]
  },
  {
   "cell_type": "markdown",
   "id": "eb308c25-3bb1-4e29-87a9-228dbc013aad",
   "metadata": {},
   "source": [
    "* # seekAndDestroy"
   ]
  },
  {
   "cell_type": "markdown",
   "id": "88d08de2-7943-450a-903b-67271268ca60",
   "metadata": {},
   "source": [
    "## 🧠 Problem Description\n",
    "You will be provided with an initial array (the first argument in the destroyer function), followed by one or more arguments. Remove all elements from the initial array that are of the same value as these arguments.\r\n",
    "\r\n",
    "Example\r\n",
    "\r\n",
    "seekAndDestroy([3, 5, 1, 2, 2], [2, 3, 5]) should return [1]\r\n",
    "seekAndDestroy([1, 2, 3, 5, 1, 2, 3], [2, 3]) should return [1, \n",
    "5, 1]\r\n",
    "Hints\r\n",
    "\r\n",
    "filter()\r\n",
    "includes()"
   ]
  },
  {
   "cell_type": "markdown",
   "id": "8445f719-5be1-4576-9e80-6ba950a82034",
   "metadata": {},
   "source": [
    "## 🧾 Explanation\n",
    "filter() goes through every element in arr.\n",
    "\n",
    "lambda x: x not in values_to_remove keeps only the values not present in values_to_remove.\n",
    "\n",
    "We convert the result back to a list using list()."
   ]
  },
  {
   "cell_type": "code",
   "execution_count": 1,
   "id": "f911b378-3b44-4615-ba2c-9a2694ac7f99",
   "metadata": {},
   "outputs": [
    {
     "name": "stdout",
     "output_type": "stream",
     "text": [
      "[5, 1]\n",
      "[1, 5, 1]\n"
     ]
    }
   ],
   "source": [
    "def seekAndDestroy(arr, values_to_remove):\n",
    "    return list(filter(lambda x: x not in values_to_remove, arr))\n",
    "\n",
    "print(seekAndDestroy([3, 5, 1, 2, 2], [2, 3]))         \n",
    "print(seekAndDestroy([1, 2, 3, 5, 1, 2, 3], [2, 3]))   "
   ]
  },
  {
   "cell_type": "markdown",
   "id": "0d79fad2-e672-4af7-971f-1901736279f0",
   "metadata": {},
   "source": [
    "## 💡 Python Concepts to Use\n",
    "filter(): Creates a new list based on a condition.\n",
    "\n",
    "includes() in JavaScript is like in or list.__contains__() in Python.\n",
    "\n",
    "So we can use filter() with not in."
   ]
  },
  {
   "cell_type": "markdown",
   "id": "310da4ec-816d-4c38-8145-93ae86468c4d",
   "metadata": {},
   "source": [
    "## Test Case"
   ]
  },
  {
   "cell_type": "code",
   "execution_count": 2,
   "id": "03b7cf54-cda9-4404-871a-5e551efbafa3",
   "metadata": {},
   "outputs": [
    {
     "name": "stdout",
     "output_type": "stream",
     "text": [
      "[5, 1]\n",
      "[1, 5, 1]\n"
     ]
    }
   ],
   "source": [
    "def seekAndDestroy(arr, values_to_remove):\n",
    "    return list(filter(lambda x: x not in values_to_remove, arr))\n",
    "\n",
    "# Test Case 1: Output should be [5, 1]\n",
    "print(seekAndDestroy([3, 5, 1, 2, 2], [2, 3]))  # Expected Output: [5, 1]\n",
    "\n",
    "# Test Case 2: Output should be [1, 5, 1]\n",
    "print(seekAndDestroy([1, 2, 3, 5, 1, 2, 3], [2, 3]))  # Expected Output: [1, 5, 1]\n"
   ]
  },
  {
   "cell_type": "markdown",
   "id": "09474113-5880-4a38-9067-329464407472",
   "metadata": {},
   "source": [
    "## 📝 Test Case Explanation\n",
    "Test Case 1:\n",
    "Input:\n",
    "\n",
    "Original array: [3, 5, 1, 2, 2]\n",
    "\n",
    "Values to remove: [2, 3]\n",
    "\n",
    "Process:\n",
    "\n",
    "We want to remove 2 and 3 from the array.\n",
    "\n",
    "After removing those, the remaining elements are [5, 1].\n",
    "\n",
    "Expected Output: [5, 1]\n",
    "\n",
    "Test Case 2:\n",
    "Input:\n",
    "\n",
    "Original array: [1, 2, 3, 5, 1, 2, 3]\n",
    "\n",
    "Values to remove: [2, 3]\n",
    "\n",
    "Process:\n",
    "\n",
    "We want to remove 2 and 3 from the array.\n",
    "\n",
    "After removing those, the remaining elements are [1, 5, 1].\n",
    "\n",
    "Expected Output: [1, 5, 1]"
   ]
  },
  {
   "cell_type": "markdown",
   "id": "78ce0194-c63a-471c-b16b-0132c586b766",
   "metadata": {},
   "source": [
    "* # shapeArea"
   ]
  },
  {
   "cell_type": "markdown",
   "id": "b7ae772e-0150-46bb-bd19-1975419cc03f",
   "metadata": {},
   "source": [
    "## Problem Description:"
   ]
  },
  {
   "cell_type": "markdown",
   "id": "ca33a80c-b2c4-4569-bdae-acf3fbf1b5bf",
   "metadata": {},
   "source": [
    "Below we will define an n-interesting polygon. Your task is to find the area of a polygon for a given n.\r\n",
    "\r\n",
    "A 1-interesting polygon is just a square with a side of length 1. An n-interesting polygon is obtained by taking the n - 1-interesting polygon and appending 1-interesting polygons to its rim, side by side. You can see the 1-, 2-, 3- and 4-interesting polygons in the picture below.\r\n",
    "\r\n",
    "\r\n",
    "\r\n",
    "E:xample\r\n",
    "\r\n",
    "For n = 2, the output should be shapeArea(n) = 5;\r\n",
    "For n = 3, the output should be shapeArea(n) = 13.\r\n",
    "Input/Output\r\n",
    "\r\n",
    "[time limit] 4000ms (js)\r\n",
    "[input] integer n\r\n",
    "Guaranteed constraints:\r\n",
    "\r\n",
    "1 ≤ n < 104.\r\n",
    "\r\n",
    "[output] integer\r\n",
    "The area of the n-interesting polygon."
   ]
  },
  {
   "cell_type": "markdown",
   "id": "2bee9c83-efa7-4d89-9f02-425dd07c85a3",
   "metadata": {},
   "source": [
    "## Problem Understanding:\n",
    "A 1-interesting polygon is a square with a side length of 1, which has an area of 1.\n",
    "\n",
    "A 2-interesting polygon is a 1-interesting polygon surrounded by 1-interesting polygons on its rim. It has an area of 5.\n",
    "\n",
    "A 3-interesting polygon is formed by a 2-interesting polygon surrounded by more 1-interesting polygons, and it has an area of 13.\n",
    "\n",
    "You can notice a pattern where each subsequent polygon adds a \"layer\" of squares around the previous one.\n",
    "\n",
    "## Pattern Observation:\n",
    "By analyzing the examples, you can observe that the area of the n-interesting polygon follows a quadratic pattern:\n",
    "\n",
    "For n = 1, the area is 1.\n",
    "\n",
    "For n = 2, the area is 5.\n",
    "\n",
    "For n = 3, the area is 13.\n",
    "\n",
    "For n = 4, the area is 25.\n",
    "\n",
    "The general formula for the area of the n-interesting polygon is:\n",
    "\n",
    "area\n",
    "(\n",
    "𝑛\n",
    ")\n",
    "=\n",
    "𝑛\n",
    "2\n",
    "+\n",
    "(\n",
    "𝑛\n",
    "−\n",
    "1\n",
    ")\n",
    "2\n",
    "area(n)=n \n",
    "2\n",
    " +(n−1) \n",
    "2\n",
    " \n",
    "This works because for each layer added to the polygon, the number of new unit squares increases by \n",
    "4\n",
    "𝑛\n",
    "−\n",
    "4\n",
    "4n−4, which is essentially adding another square ring around the previous polygon.\n",
    "\n",
    "Formula for Area:\n",
    "The area of the n-interesting polygon can be calculated as:\n",
    "\n",
    "area\n",
    "(\n",
    "𝑛\n",
    ")\n",
    "=\n",
    "𝑛\n",
    "2\n",
    "+\n",
    "(\n",
    "𝑛\n",
    "−\n",
    "1\n",
    ")\n",
    "2\n",
    "area(n)=n \n",
    "2\n",
    " +(n−1) \n",
    "2"
   ]
  },
  {
   "cell_type": "code",
   "execution_count": 3,
   "id": "1cd120b9-3110-425c-8668-5265efe88655",
   "metadata": {},
   "outputs": [
    {
     "name": "stdout",
     "output_type": "stream",
     "text": [
      "5\n",
      "13\n",
      "25\n"
     ]
    }
   ],
   "source": [
    "def shapeArea(n):\n",
    "    return n * n + (n - 1) * (n - 1)\n",
    "\n",
    "# Test Cases\n",
    "print(shapeArea(2))  # Output: 5\n",
    "print(shapeArea(3))  # Output: 13\n",
    "print(shapeArea(4))  # Output: 25\n"
   ]
  },
  {
   "cell_type": "markdown",
   "id": "c2cb6d4c-4477-40b4-bde4-16307ff20d32",
   "metadata": {},
   "source": [
    "## Explanation:\n",
    "Input: We are given an integer n, which represents the number of the n-interesting polygon.\n",
    "\n",
    "Formula: Using the formula n^2 + (n-1)^2, we calculate the area of the n-interesting polygon.\n",
    "\n",
    "Output: The function returns the calculated area."
   ]
  },
  {
   "cell_type": "markdown",
   "id": "609394a1-3466-4c30-a593-159e8a2189cc",
   "metadata": {},
   "source": [
    "## Test Cases:"
   ]
  },
  {
   "cell_type": "markdown",
   "id": "1d30e936-2a36-46ea-98e1-bdb93ef96071",
   "metadata": {},
   "source": [
    "Test Case 1:\n",
    "Input: n = 2\n",
    "\n",
    "Output: 5\n",
    "\n",
    "Explanation: For n = 2, the polygon consists of the central 1-interesting square surrounded by 1-interesting squares on its rim. The total area is 5.\n",
    "\n",
    "Test Case 2:\n",
    "Input: n = 3\n",
    "\n",
    "Output: 13\n",
    "\n",
    "Explanation: For n = 3, the polygon consists of the 2-interesting polygon surrounded by more 1-interesting squares. The total area is 13.\n",
    "\n",
    "Test Case 3:\n",
    "Input: n = 4\n",
    "\n",
    "Output: 25\n",
    "\n",
    "Explanation: For n = 4, the polygon consists of the 3-interesting polygon surrounded by more 1-interesting squares. The total area is 25.\n",
    "\n",
    "Time Complexity:\n",
    "The time complexity of this solution is O(1) because we are simply calculating a formula that involves basic arithmetic operations. Thus, it executes in constant time.\n",
    "\n",
    "This solution efficiently handles the given constraints and calculates the area for any valid n (1 ≤ n < 10,000)."
   ]
  },
  {
   "cell_type": "markdown",
   "id": "fc6f58bc-68ff-4e5d-a813-52933874eadc",
   "metadata": {},
   "source": [
    "* # sortByHeight"
   ]
  },
  {
   "cell_type": "markdown",
   "id": "88c5340e-4602-4a76-95e4-b1f84658c33c",
   "metadata": {},
   "source": [
    "## Problem Description:"
   ]
  },
  {
   "cell_type": "markdown",
   "id": "2ebb5ef7-57f8-437f-b8cf-f83bc2f1c8a2",
   "metadata": {},
   "source": [
    "Some people are standing in a row in a park. There are trees between them which cannot be moved. Your task is to rearrange the people by their heights in a non-descending order without moving the trees.\n",
    "\n",
    "Example\n",
    "\n",
    "For a = [-1, 150, 190, 170, -1, -1, 160, 180], the output should be sortByHeight(a) = [-1, 150, 160, 170, -1, -1, 180, 190].\n",
    "\n",
    "Hinits\n",
    "\n",
    "filter()\n",
    "sort()\n",
    "Input/Output\n",
    "\n",
    "[time limit] 4000ms (js)\n",
    "[input] array.integer a\n",
    "If a[i] = -1, then the ith position is occupied by a tree. Otherwise a[i] is the height of a person standing in the ith position.\n",
    "\n",
    "Guaranteed constraints:\n",
    "\n",
    "5 ≤ a.length ≤ 15,\n",
    "\n",
    "-1 ≤ a[i] ≤ 200.\n",
    "\n",
    "[output] array.integer\n",
    "\n",
    "Sorted array a with all the trees untouched."
   ]
  },
  {
   "cell_type": "markdown",
   "id": "0023a56b-ad97-49b9-9d2c-96e3c2fd92ea",
   "metadata": {},
   "source": [
    "## Problem Overview:\n",
    "The task is to rearrange the heights of people standing in a row in a non-descending order, while keeping the positions of the trees (represented by -1) unchanged.\n",
    "\n",
    "## Strategy:\n",
    "Filter out the trees: First, we will extract the list of heights by filtering out the -1 values (which represent the trees).\n",
    "\n",
    "Sort the heights: Next, we will sort the list of heights in non-descending order.\n",
    "\n",
    "Reinsert the trees: Finally, we will reinsert the trees back into their original positions.\n",
    "\n",
    "## Steps to Solve:\n",
    "Extract all the heights (i.e., filter out -1).\n",
    "\n",
    "## Sort the heights.\n",
    "\n",
    "Rebuild the array, placing the sorted heights back into the positions where there were no trees (i.e., where the original list didn’t have -1)."
   ]
  },
  {
   "cell_type": "markdown",
   "id": "1bb75c68-1880-428c-9a5f-9f5a5716f339",
   "metadata": {},
   "source": [
    "## Solution Code:"
   ]
  },
  {
   "cell_type": "code",
   "execution_count": 5,
   "id": "1ce68642-45fc-4440-9bc9-ade0272cfa6f",
   "metadata": {},
   "outputs": [
    {
     "name": "stdout",
     "output_type": "stream",
     "text": [
      "[-1, 150, 160, 170, -1, -1, 180, 190]\n"
     ]
    }
   ],
   "source": [
    "def sortByHeight(a):\n",
    "    # Extract all heights, ignoring the trees (-1)\n",
    "    heights = [x for x in a if x != -1]\n",
    "    \n",
    "    # Sort the heights\n",
    "    heights.sort()\n",
    "    \n",
    "    # Rebuild the array by placing the sorted heights in the right positions\n",
    "    result = []\n",
    "    for value in a:\n",
    "        if value == -1:\n",
    "            result.append(-1)  # Place trees where they were\n",
    "        else:\n",
    "            result.append(heights.pop(0))  # Place the next smallest height from sorted list\n",
    "    \n",
    "    return result\n",
    "\n",
    "# Test Case\n",
    "a = [-1, 150, 190, 170, -1, -1, 160, 180]\n",
    "print(sortByHeight(a))  # Output: [-1, 150, 160, 170, -1, -1, 180, 190]\n"
   ]
  },
  {
   "cell_type": "markdown",
   "id": "9f805d56-da24-4036-ad8d-0b7ebb394273",
   "metadata": {},
   "source": [
    "## Explanation:\n",
    "Filter the list to get the heights: We use a list comprehension to extract all the values from the array a that are not -1.\n",
    "\n",
    "python\n",
    "Copy\n",
    "Edit\n",
    "heights = [x for x in a if x != -1]\n",
    "This creates a list of all people’s heights without the trees.\n",
    "\n",
    "Sort the heights: The list of heights is sorted in non-descending order using Python's built-in sort() function.\n",
    "\n",
    "python\n",
    "Copy\n",
    "Edit\n",
    "heights.sort()\n",
    "Rebuild the array: We iterate through the original array a and construct a new list, inserting the sorted heights into positions where there were no trees (-1), and keeping the tree positions unchanged.\n",
    "\n",
    "When we encounter a -1 in the original list, we add -1 to the result.\n",
    "\n",
    "When we encounter a person, we take the next height from the sorted list and append it to the result.\n",
    "\n",
    "python\n",
    "Copy\n",
    "Edit\n",
    "result.append(heights.pop(0))\n",
    "Return the final result: The result list will have the trees in their original positions and the people sorted by height in the non-descending order.\n",
    "\n",
    "Test Case:\n",
    "Input: [-1, 150, 190, 170, -1, -1, 160, 180]\n",
    "\n",
    "Output: [-1, 150, 160, 170, -1, -1, 180, 190]\n",
    "\n",
    "Time Complexity:\n",
    "O(n) for filtering the heights from the list (since we need to traverse the list once).\n",
    "\n",
    "O(n log n) for sorting the list of heights.\n",
    "\n",
    "O(n) for rebuilding the result list.\n",
    "\n",
    "Thus, the overall time complexity is O(n log n), where n is the length of the input list a. Given the constraints (5 ≤ a.length ≤ 15), this approach will run efficiently within the time limits."
   ]
  },
  {
   "cell_type": "markdown",
   "id": "c1e20ce7-fc29-47e3-b4ef-d6b0236339e2",
   "metadata": {},
   "source": [
    "## Code:"
   ]
  },
  {
   "cell_type": "code",
   "execution_count": 6,
   "id": "92afaae2-6ac3-4d13-99ae-ecf7e597cde8",
   "metadata": {},
   "outputs": [
    {
     "name": "stdout",
     "output_type": "stream",
     "text": [
      "[-1, 150, 160, 170, -1, -1, 180, 190]\n",
      "[100, -1, 120, 150, -1, 180]\n",
      "[-1, 150, 160, -1, 170, 180, -1]\n",
      "[-1, -1, -1, -1, -1]\n",
      "[50, 60, 70, -1, 80, 90]\n"
     ]
    }
   ],
   "source": [
    "def sortByHeight(a):\n",
    "    # Extract all heights, ignoring the trees (-1)\n",
    "    heights = [x for x in a if x != -1]\n",
    "    \n",
    "    # Sort the heights\n",
    "    heights.sort()\n",
    "    \n",
    "    # Rebuild the array by placing the sorted heights in the right positions\n",
    "    result = []\n",
    "    for value in a:\n",
    "        if value == -1:\n",
    "            result.append(-1)  # Place trees where they were\n",
    "        else:\n",
    "            result.append(heights.pop(0))  # Place the next smallest height from sorted list\n",
    "    \n",
    "    return result\n",
    "\n",
    "# Test Cases\n",
    "test_case_1 = [-1, 150, 190, 170, -1, -1, 160, 180]\n",
    "test_case_2 = [100, -1, 180, 150, -1, 120]\n",
    "test_case_3 = [-1, 170, 160, -1, 150, 180, -1]\n",
    "test_case_4 = [-1, -1, -1, -1, -1]\n",
    "test_case_5 = [50, 60, 70, -1, 80, 90]\n",
    "\n",
    "print(sortByHeight(test_case_1))  # Expected: [-1, 150, 160, 170, -1, -1, 180, 190]\n",
    "print(sortByHeight(test_case_2))  # Expected: [100, -1, 120, 150, -1, 180]\n",
    "print(sortByHeight(test_case_3))  # Expected: [-1, 150, 160, -1, 170, 180, -1]\n",
    "print(sortByHeight(test_case_4))  # Expected: [-1, -1, -1, -1, -1]\n",
    "print(sortByHeight(test_case_5))  # Expected: [50, 60, 70, -1, 80, 90]\n"
   ]
  },
  {
   "cell_type": "markdown",
   "id": "97521057-f56e-4084-83a6-6c309f60984d",
   "metadata": {},
   "source": [
    "## Test Case:"
   ]
  },
  {
   "cell_type": "markdown",
   "id": "b7af508d-faef-48c1-a3f8-0fd041945580",
   "metadata": {},
   "source": [
    "## Test Case Demonstration:\n",
    "Test Case 1:\n",
    "Input:\n",
    "\n",
    "python\n",
    "Copy\n",
    "Edit\n",
    "[-1, 150, 190, 170, -1, -1, 160, 180]\n",
    "Steps:\n",
    "\n",
    "Extracted heights: [150, 190, 170, 160, 180]\n",
    "\n",
    "Sorted heights: [150, 160, 170, 180, 190]\n",
    "\n",
    "Reconstructed the list with trees (-1) in their original positions:\n",
    "\n",
    "[-1, 150, 160, 170, -1, -1, 180, 190]\n",
    "\n",
    "Output:\n",
    "\n",
    "python\n",
    "Copy\n",
    "Edit\n",
    "[-1, 150, 160, 170, -1, -1, 180, 190]\n",
    "Test Case 2:\n",
    "Input:\n",
    "\n",
    "python\n",
    "Copy\n",
    "Edit\n",
    "[100, -1, 180, 150, -1, 120]\n",
    "Steps:\n",
    "\n",
    "Extracted heights: [100, 180, 150, 120]\n",
    "\n",
    "Sorted heights: [100, 120, 150, 180]\n",
    "\n",
    "Reconstructed the list with trees (-1) in their original positions:\n",
    "\n",
    "[100, -1, 120, 150, -1, 180]\n",
    "\n",
    "Output:\n",
    "\n",
    "python\n",
    "Copy\n",
    "Edit\n",
    "[100, -1, 120, 150, -1, 180]\n",
    "Test Case 3:\n",
    "Input:\n",
    "\n",
    "python\n",
    "Copy\n",
    "Edit\n",
    "[-1, 170, 160, -1, 150, 180, -1]\n",
    "Steps:\n",
    "\n",
    "Extracted heights: [170, 160, 150, 180]\n",
    "\n",
    "Sorted heights: [150, 160, 170, 180]\n",
    "\n",
    "Reconstructed the list with trees (-1) in their original positions:\n",
    "\n",
    "[-1, 150, 160, -1, 170, 180, -1]\n",
    "\n",
    "Output:\n",
    "\n",
    "python\n",
    "Copy\n",
    "Edit\n",
    "[-1, 150, 160, -1, 170, 180, -1]\n",
    "Test Case 4:\n",
    "Input:\n",
    "\n",
    "python\n",
    "Copy\n",
    "Edit\n",
    "[-1, -1, -1, -1, -1]\n",
    "Steps:\n",
    "\n",
    "No people in the list, only trees (-1).\n",
    "\n",
    "The result is the same as the input list with all trees untouched.\n",
    "\n",
    "Output:\n",
    "\n",
    "python\n",
    "Copy\n",
    "Edit\n",
    "[-1, -1, -1, -1, -1]\n",
    "Test Case 5:\n",
    "Input:\n",
    "\n",
    "python\n",
    "Copy\n",
    "Edit\n",
    "[50, 60, 70, -1, 80, 90]\n",
    "Steps:\n",
    "\n",
    "Extracted heights: [50, 60, 70, 80, 90]\n",
    "\n",
    "Sorted heights: [50, 60, 70, 80, 90]\n",
    "\n",
    "Reconstructed the list with trees (-1) in their original positions:\n",
    "\n",
    "[50, 60, 70, -1, 80, 90]\n",
    "\n",
    "Output:\n",
    "\n",
    "python\n",
    "Copy\n",
    "Edit\n",
    "[50, 60, 70, -1, 80, 90]\n",
    "Final Output:\n",
    "python\n",
    "Copy\n",
    "Edit\n",
    "Test Case 1 Output: [-1, 150, 160, 170, -1, -1, 180, 190]\n",
    "Test Case 2 Output: [100, -1, 120, 150, -1, 180]\n",
    "Test Case 3 Output: [-1, 150, 160, -1, 170, 180, -1]\n",
    "Test Case 4 Output: [-1, -1, -1, -1, -1]\n",
    "Test Case 5 Output: [50, 60, 70, -1, 80, 90]\n",
    "Conclusion:\n",
    "The sortByHeight function works as expected. It correctly sorts the people by their heights while keeping the trees in their original positions, as shown in all the test case outputs."
   ]
  },
  {
   "cell_type": "code",
   "execution_count": null,
   "id": "ff28b6db-ea60-4308-9c9e-35bae48ccbb7",
   "metadata": {},
   "outputs": [],
   "source": []
  }
 ],
 "metadata": {
  "kernelspec": {
   "display_name": "Python 3 (ipykernel)",
   "language": "python",
   "name": "python3"
  },
  "language_info": {
   "codemirror_mode": {
    "name": "ipython",
    "version": 3
   },
   "file_extension": ".py",
   "mimetype": "text/x-python",
   "name": "python",
   "nbconvert_exporter": "python",
   "pygments_lexer": "ipython3",
   "version": "3.12.4"
  }
 },
 "nbformat": 4,
 "nbformat_minor": 5
}
