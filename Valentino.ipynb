{
 "cells": [
  {
   "cell_type": "markdown",
   "id": "b526c7c2-62b7-481a-b491-482fec1a0204",
   "metadata": {},
   "source": [
    "## Prince Daniel A. Valentino"
   ]
  },
  {
   "cell_type": "markdown",
   "id": "0d0cf1b3-4294-4ea2-b1a8-441b9d2c88f9",
   "metadata": {},
   "source": [
    "### - Crossing Sum"
   ]
  },
  {
   "cell_type": "code",
   "execution_count": 5,
   "id": "1327df2c-9a97-4dbb-b039-be1e6dbe6cb7",
   "metadata": {},
   "outputs": [
    {
     "name": "stdout",
     "output_type": "stream",
     "text": [
      "Matrix:\n",
      "[1, 2, 3]\n",
      "[4, 5, 6]\n",
      "[7, 8, 9]\n",
      "\n",
      "Selected row: 1, Selected column: 1\n",
      "Crossing sum (excluding intersection): 25\n"
     ]
    }
   ],
   "source": [
    "def crossingSum(matrix, row, col):\n",
    "    row_sum = sum(matrix[row])\n",
    "    col_sum = sum(matrix[i][col] for i in range(len(matrix)))\n",
    "    return row_sum + col_sum - matrix[row][col]\n",
    "\n",
    "# Sample 2D matrix\n",
    "matrix = [\n",
    "    [1, 2, 3],\n",
    "    [4, 5, 6],\n",
    "    [7, 8, 9]\n",
    "]\n",
    "\n",
    "# Specify row and column indices\n",
    "row_index = 1\n",
    "col_index = 1\n",
    "\n",
    "# Call the function\n",
    "result = crossingSum(matrix, row_index, col_index)\n",
    "\n",
    "# Print result\n",
    "print(\"Matrix:\")\n",
    "for row in matrix:\n",
    "    print(row)\n",
    "\n",
    "print(f\"\\nSelected row: {row_index}, Selected column: {col_index}\")\n",
    "print(f\"Crossing sum (excluding intersection): {result}\")\n"
   ]
  },
  {
   "cell_type": "markdown",
   "id": "ab54efbd-f6c0-45e3-b11b-9fd448ca0440",
   "metadata": {},
   "source": [
    "# 🧠 `crossingSum` — Easy Explanation\r\n",
    "\r\n",
    "## 🔍 What does it do?\r\n",
    "\r\n",
    "The `crossingSum` function takes a 2D list (matrix), and adds:\r\n",
    "\r\n",
    "- All the numbers in a **specific row**  \r\n",
    "- All the numbers in a **specific column**\r\n",
    "\r\n",
    "It **subtracts the number at the intersection** of the row and column once so it's not double-counten this matrix:\r\n",
    "\r\n"
   ]
  },
  {
   "cell_type": "markdown",
   "id": "5a73abac-fb86-4b02-b553-e0d95c5d2e7b",
   "metadata": {},
   "source": [
    "## - depositProfit "
   ]
  },
  {
   "cell_type": "code",
   "execution_count": 15,
   "id": "0a29682a-f307-47ad-a797-652047e57dd9",
   "metadata": {},
   "outputs": [
    {
     "name": "stdout",
     "output_type": "stream",
     "text": [
      "Initial Deposit: 100\n",
      "Annual Interest Rate: 20 %\n",
      "Target Threshold: 170\n",
      "Years Required to Reach or Exceed Threshold: 3\n"
     ]
    }
   ],
   "source": [
    "def depositProfit(deposit, rate, threshold):\n",
    "    years = 0\n",
    "    while deposit < threshold:\n",
    "        deposit += deposit * (rate / 100)\n",
    "        years += 1\n",
    "    return years\n",
    "\n",
    "# Sample input\n",
    "initial_deposit = 100\n",
    "interest_rate = 20  # in percent\n",
    "target_amount = 170\n",
    "\n",
    "# Function call\n",
    "years_needed = depositProfit(initial_deposit, interest_rate, target_amount)\n",
    "\n",
    "# Output\n",
    "print(\"Initial Deposit:\", initial_deposit)\n",
    "print(\"Annual Interest Rate:\", interest_rate, \"%\")\n",
    "print(\"Target Threshold:\", target_amount)\n",
    "print(\"Years Required to Reach or Exceed Threshold:\", years_needed)\n"
   ]
  },
  {
   "cell_type": "markdown",
   "id": "a98f6bb9-bdc1-457c-9317-3f96d1a8c68c",
   "metadata": {},
   "source": [
    "# 💰 `depositProfit` — Easy Explanation\r\n",
    "\r\n",
    "## 🔍 What does it do?\r\n",
    "\r\n",
    "The `depositProfit` function calculates how many **full years** it will take for a bank account balance to grow from an **initial deposit** to a **target amount**, given a fixed **annual interest rate*reases by:\r\n",
    "\r\n"
   ]
  },
  {
   "cell_type": "markdown",
   "id": "3ca84e7a-2b9a-4ad9-af12-e128ab8324eb",
   "metadata": {},
   "source": [
    "## - differentSymbolsNaive"
   ]
  },
  {
   "cell_type": "code",
   "execution_count": 20,
   "id": "83fdb5c8-4df3-452b-b849-7d1fae824aaf",
   "metadata": {},
   "outputs": [
    {
     "name": "stdout",
     "output_type": "stream",
     "text": [
      "Input: abcd | Unique symbols: 4\n",
      "Input: aabbcc | Unique symbols: 3\n",
      "Input: aaaaa | Unique symbols: 1\n",
      "Input: abcabcabc | Unique symbols: 3\n"
     ]
    }
   ],
   "source": [
    "def differentSymbolsNaive(s):\n",
    "    return len(set(s))  # Convert string to a set and return its length\n",
    "\n",
    "# Example 1\n",
    "s1 = \"abcd\"\n",
    "print(f\"Input: {s1} | Unique symbols: {differentSymbolsNaive(s1)}\")\n",
    "\n",
    "# Example 2\n",
    "s2 = \"aabbcc\"\n",
    "print(f\"Input: {s2} | Unique symbols: {differentSymbolsNaive(s2)}\")\n",
    "\n",
    "# Example 3\n",
    "s3 = \"aaaaa\"\n",
    "print(f\"Input: {s3} | Unique symbols: {differentSymbolsNaive(s3)}\")\n",
    "\n",
    "# Example 4\n",
    "s4 = \"abcabcabc\"\n",
    "print(f\"Input: {s4} | Unique symbols: {differentSymbolsNaive(s4)}\")\n"
   ]
  },
  {
   "cell_type": "markdown",
   "id": "e01ecc40-231c-4591-9385-4e3bea225152",
   "metadata": {},
   "source": [
    "# 🔢 `differentSymbolsNaive` — Easy Explanation\n",
    "\n",
    "## 🔍 What does it do?\n",
    "\n",
    "The `differentSymbolsNaive` function counts how many **unique symbols** (characters) are in a given string.\n",
    "\n",
    "It removes any **duplicate characters** and then returns the number of **distinct characters** in the string.\n",
    "\n",
    "---\n",
    "\n",
    "## ✅ How It Works\n",
    "\n",
    "- Convert the string into a **set**. A set automatically removes duplicate values.\n",
    "- Return the number of elements in the set (which is the count of **unique symbols**).\n",
    "\n",
    "---\n",
    "\n",
    "## 🧾 Python Code\n",
    "\n",
    "```python\n",
    "def differentSymbolsNaive(s):\n",
    "    return len(set(s))  # Convert string to a set and return its length\n",
    "\n",
    "# Example 1\n",
    "s1 = \"abcd\"\n",
    "print(f\"Input: {s1} | Unique symbols: {differentSymbolsNaive(s1)}\")\n",
    "\n",
    "# Example 2\n",
    "s2 = \"aabbcc\"\n",
    "print(f\"Input: {s2} | Unique symbols: {differentSymbolsNaive(s2)}\")\n",
    "\n",
    "# Example 3\n",
    "s3 = \"aaaaa\"\n",
    "print(f\"Input: {s3} | Unique symbols: {differentSymbolsNaive(s3)}\")\n",
    "\n",
    "# Example 4\n",
    "s4 = \"abcabcabc\"\n",
    "print(f\"Input: {s4} | Unique symbols: {differentSymbolsNaive(s4)}\")\n"
   ]
  },
  {
   "cell_type": "markdown",
   "id": "519c6185-f534-4c4d-8729-62993c1259a7",
   "metadata": {},
   "source": [
    "## - digitDegree"
   ]
  },
  {
   "cell_type": "code",
   "execution_count": 28,
   "id": "f6346fd9-7b88-4fc2-9684-fb9957adfeed",
   "metadata": {},
   "outputs": [
    {
     "name": "stdout",
     "output_type": "stream",
     "text": [
      "Input: 9875 | Digit Degree: 3\n",
      "Input: 12345 | Digit Degree: 2\n",
      "Input: 9 | Digit Degree: 0\n",
      "Input: 999 | Digit Degree: 2\n"
     ]
    }
   ],
   "source": [
    "def digitDegree(n):\n",
    "    degree = 0\n",
    "    while n >= 10:  # Repeat until the number is a single digit\n",
    "        n = sum(int(digit) for digit in str(n))  # Sum the digits of the number\n",
    "        degree += 1  # Increment the degree each time we sum the digits\n",
    "    return degree\n",
    "\n",
    "# Example 1\n",
    "n1 = 9875\n",
    "print(f\"Input: {n1} | Digit Degree: {digitDegree(n1)}\")\n",
    "\n",
    "# Example 2\n",
    "n2 = 12345\n",
    "print(f\"Input: {n2} | Digit Degree: {digitDegree(n2)}\")\n",
    "\n",
    "# Example 3\n",
    "n3 = 9\n",
    "print(f\"Input: {n3} | Digit Degree: {digitDegree(n3)}\")\n",
    "\n",
    "# Example 4\n",
    "n4 = 999\n",
    "print(f\"Input: {n4} | Digit Degree: {digitDegree(n4)}\")\n",
    "\n"
   ]
  },
  {
   "cell_type": "markdown",
   "id": "7fd62585-e455-4626-8843-668b47409130",
   "metadata": {},
   "source": [
    "# 🔢 `digitDegree` — Easy Explanation\r\n",
    "\r\n",
    "## 🔍 What does it do?\r\n",
    "\r\n",
    "The `digitDegree` function calculates how many times we need to sum the digits of a number until it becomes a single-digit number.\r\n",
    "\r\n",
    "It repeatedly adds the digits of the number until the result is a single-digit number and returns how many operations (degree) were needed.\r\n",
    "\r\n",
    "---\r\n",
    "\r\n",
    "## ✅ How It Works\r\n",
    "\r\n",
    "1. **While Loop**: We keep summing the digits of the number until it becomes a single-digit number.\r\n",
    "2. **Sum of Digits**: Each time, we convert the number to a string, break it into digits, convert them back to integers, and sum them up.\r\n",
    "3. **Degree**: Each time we sum the digits, the **degree** is increased by 1.\r\n",
    "\r\n",
    "---\r\n",
    "\r\n",
    "## 🧾 Python Code\r\n",
    "\r\n",
    "```python\r\n",
    "def digitDegree(n):\r\n",
    "    degree = 0\r\n",
    "    while n >= 10:  # Repeat until the number is a single digit\r\n",
    "        n = sum(int(digit) for digit in str(n))  # Sum the digits of the number\r\n",
    "        degree += 1  # Increment the degree each time we sum the digits\r\n",
    "    return degree\r\n",
    "\r\n",
    "# Example 1\r\n",
    "n1 = 9875\r\n",
    "print(f\"Input: {n1} | Digit Degree: {digitDegree(n1)}\")\r\n",
    "\r\n",
    "# Example 2\r\n",
    "n2 = 12345\r\n",
    "print(f\"Input: {n2} | Digit Degree: {digitDegree(n2)}\")\r\n",
    "\r\n",
    "# Example 3\r\n",
    "n3 = 9\r\n",
    "print(f\"Input: {n3} | Digit Degree: {digitDegree(n3)}\")\r\n",
    "\r\n",
    "# Example 4\r\n",
    "n4 = 999\r\n",
    "print(f\"Input: {n4} | Digit Degree: {digitDegree(n4)}\")\r\n"
   ]
  },
  {
   "cell_type": "markdown",
   "id": "d95aa4dd-9a9c-4552-9322-a3d2cd702f8c",
   "metadata": {},
   "source": [
    "## -domainType"
   ]
  },
  {
   "cell_type": "code",
   "execution_count": 37,
   "id": "0190cd9d-4976-4a50-b55d-a917a89bc933",
   "metadata": {},
   "outputs": [
    {
     "name": "stdout",
     "output_type": "stream",
     "text": [
      "Domain: example.com | Type: commercial\n",
      "Domain: example.org | Type: organization\n",
      "Domain: example.net | Type: network\n",
      "Domain: example.xyz | Type: unknown\n"
     ]
    }
   ],
   "source": [
    "def domainType(domain):\n",
    "    if domain.endswith('.com'):\n",
    "        return 'commercial'\n",
    "    elif domain.endswith('.org'):\n",
    "        return 'organization'\n",
    "    elif domain.endswith('.net'):\n",
    "        return 'network'\n",
    "    else:\n",
    "        return 'unknown'\n",
    "\n",
    "# Example 1\n",
    "domain1 = \"example.com\"\n",
    "print(f\"Domain: {domain1} | Type: {domainType(domain1)}\")\n",
    "\n",
    "# Example 2\n",
    "domain2 = \"example.org\"\n",
    "print(f\"Domain: {domain2} | Type: {domainType(domain2)}\")\n",
    "\n",
    "# Example 3\n",
    "domain3 = \"example.net\"\n",
    "print(f\"Domain: {domain3} | Type: {domainType(domain3)}\")\n",
    "\n",
    "# Example 4\n",
    "domain4 = \"example.xyz\"\n",
    "print(f\"Domain: {domain4} | Type: {domainType(domain4)}\")\n"
   ]
  },
  {
   "cell_type": "markdown",
   "id": "31d2f6b2-0bc4-4a77-973e-75d98a4dd6d6",
   "metadata": {},
   "source": [
    "# 🌐 `domainType` — Easy Explanation\r\n",
    "\r\n",
    "## 🔍 What does it do?\r\n",
    "\r\n",
    "The `domainType` function checks the type of a domain name based on its suffix. It identifies if the domain ends with `.com`, `.org`, or `.net`, and categorizes it accordingly. If the domain doesn't match any of these suffixes, it returns `\"unknown\"`.\r\n",
    "\r\n",
    "---\r\n",
    "\r\n",
    "## ✅ How It Works\r\n",
    "\r\n",
    "1. **Check domain suffix**: The function checks the end of the domain name to see if it ends with `.com`, `.org`, or `.net`.\r\n",
    "2. **Return type**: \r\n",
    "   - `.com` → \"commercial\"\r\n",
    "   - `.org` → \"organization\"\r\n",
    "   - `.net` → \"network\"\r\n",
    "3. If the domain doesn't match any known suffix, it returns `\"unknown\"`.\r\n",
    "\r\n",
    "---\r\n",
    "\r\n",
    "## 🧾 Python Code\r\n",
    "\r\n",
    "```python\r\n",
    "def domainType(domain):\r\n",
    "    if domain.endswith('.com'):\r\n",
    "        return 'commercial'\r\n",
    "    elif domain.endswith('.org'):\r\n",
    "        return 'organization'\r\n",
    "    elif domain.endswith('.net'):\r\n",
    "        return 'network'\r\n",
    "    else:\r\n",
    "        return 'unknown'\r\n",
    "\r\n",
    "# Example 1\r\n",
    "domain1 = \"example.com\"\r\n",
    "print(f\"Domain: {domain1} | Type: {domainType(domain1)}\")\r\n",
    "\r\n",
    "# Example 2\r\n",
    "domain2 = \"example.org\"\r\n",
    "print(f\"Domain: {domain2} | Type: {domainType(domain2)}\")\r\n",
    "\r\n",
    "# Example 3\r\n",
    "domain3 = \"example.net\"\r\n",
    "print(f\"Domain: {domain3} | Type: {domainType(domain3)}\")\r\n",
    "\r\n",
    "# Example 4\r\n",
    "domain4 = \"example.xyz\"\r\n",
    "print(f\"Domain: {domain4} | Type: {domainType(domain4)}\")\r\n"
   ]
  },
  {
   "cell_type": "markdown",
   "id": "82477d03-cf79-4117-ba07-afd0eee2d13f",
   "metadata": {},
   "source": [
    "## - electionWinners"
   ]
  },
  {
   "cell_type": "code",
   "execution_count": 43,
   "id": "024572d6-98fe-44f9-a301-9b3390cee2a6",
   "metadata": {},
   "outputs": [
    {
     "name": "stdout",
     "output_type": "stream",
     "text": [
      "Votes: [2, 3, 5, 2] | Winners: [1, 2]\n",
      "Votes: [1, 3, 2, 4] | Winners: [3]\n",
      "Votes: [5, 2, 4] | Winners: [0, 2]\n"
     ]
    }
   ],
   "source": [
    "def electionWinners(votes, k):\n",
    "    max_votes = max(votes)\n",
    "    winners = [i for i, v in enumerate(votes) if v + k > max_votes]\n",
    "    \n",
    "    if len(winners) == 0 and k == 0:\n",
    "        return [i for i, v in enumerate(votes) if v == max_votes]\n",
    "    \n",
    "    return winners\n",
    "\n",
    "# Example 1\n",
    "votes1 = [2, 3, 5, 2]\n",
    "k1 = 3\n",
    "print(f\"Votes: {votes1} | Winners: {electionWinners(votes1, k1)}\")\n",
    "\n",
    "# Example 2\n",
    "votes2 = [1, 3, 2, 4]\n",
    "k2 = 0\n",
    "print(f\"Votes: {votes2} | Winners: {electionWinners(votes2, k2)}\")\n",
    "\n",
    "# Example 3\n",
    "votes3 = [5, 2, 4]\n",
    "k3 = 2\n",
    "print(f\"Votes: {votes3} | Winners: {electionWinners(votes3, k3)}\")\n"
   ]
  },
  {
   "cell_type": "markdown",
   "id": "95aa5756-f847-4f45-b19c-62dfe23a3942",
   "metadata": {},
   "source": [
    "# 🗳️ `electionWinners` — Easy Explanation\r\n",
    "\r\n",
    "## 🔍 What does it do?\r\n",
    "\r\n",
    "The `electionWinners` function determines the potential winners of an election. It takes two inputs:\r\n",
    "- `votes`: A list representing the current number of votes each candidate has.\r\n",
    "- `k`: The maximum number of additional votes a candidate can still receive.\r\n",
    "\r\n",
    "The function checks which candidates, after adding `k` votes, could match or exceed the current maximum vote count.\r\n",
    "\r\n",
    "---\r\n",
    "\r\n",
    "## ✅ How It Works\r\n",
    "\r\n",
    "1. **Calculate Maximum Votes**: The function first finds the candidate with the maximum number of votes.\r\n",
    "2. **Find Potential Winners**: For each candidate, it checks if adding `k` votes would make them equal to or exceed the current maximum votes. If so, they are considered potential winners.\r\n",
    "3. **Edge Case**: If no candidate can win with `k` votes and `k = 0`, the function returns the candidates who already have the highest votes.\r\n",
    "\r\n",
    "---\r\n",
    "\r\n",
    "## 🧾 Python Code\r\n",
    "\r\n",
    "```python\r\n",
    "def electionWinners(votes, k):\r\n",
    "    max_votes = max(votes)\r\n",
    "    winners = [i for i, v in enumerate(votes) if v + k > max_votes]\r\n",
    "    \r\n",
    "    if len(winners) == 0 and k == 0:\r\n",
    "        return [i for i, v in enumerate(votes) if v == max_votes]\r\n",
    "    \r\n",
    "    return winners\r\n",
    "\r\n",
    "# Example 1\r\n",
    "votes1 = [2, 3, 5, 2]\r\n",
    "k1 = 3\r\n",
    "print(f\"Votes: {votes1} | Winners: {electionWinners(votes1, k1)}\")\r\n",
    "\r\n",
    "# Example 2\r\n",
    "votes2 = [1, 3, 2, 4]\r\n",
    "k2 = 0\r\n",
    "print(f\"Votes: {votes2} | Winners: {electionWinners(votes2, k2)}\")\r\n",
    "\r\n",
    "# Example 3\r\n",
    "votes3 = [5, 2, 4]\r\n",
    "k3 = 2\r\n",
    "print(f\"Votes: {votes3} | Winners: {electionWinners(votes3, k3)}\")\r\n"
   ]
  },
  {
   "cell_type": "code",
   "execution_count": null,
   "id": "3d88f0e3-3984-411c-9438-13c2cbcc808c",
   "metadata": {},
   "outputs": [],
   "source": []
  }
 ],
 "metadata": {
  "kernelspec": {
   "display_name": "Python 3 (ipykernel)",
   "language": "python",
   "name": "python3"
  },
  "language_info": {
   "codemirror_mode": {
    "name": "ipython",
    "version": 3
   },
   "file_extension": ".py",
   "mimetype": "text/x-python",
   "name": "python",
   "nbconvert_exporter": "python",
   "pygments_lexer": "ipython3",
   "version": "3.12.4"
  }
 },
 "nbformat": 4,
 "nbformat_minor": 5
}
