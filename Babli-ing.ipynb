{
 "cells": [
  {
   "cell_type": "markdown",
   "id": "1b13c1d9-e666-4a20-96c5-dda7438d129c",
   "metadata": {},
   "source": [
    "# SHIELA A. BABLI-ING\n",
    "## BSCS 2B"
   ]
  },
  {
   "cell_type": "markdown",
   "id": "96fdbfb5-4954-4b09-9fac-65d329ef4ecd",
   "metadata": {},
   "source": [
    "---"
   ]
  },
  {
   "cell_type": "markdown",
   "id": "a61b575e-f656-4e4f-abb1-11ac63230e76",
   "metadata": {},
   "source": [
    "---"
   ]
  },
  {
   "cell_type": "markdown",
   "id": "af80f481-01cb-4c05-9549-e9381bd09ba3",
   "metadata": {},
   "source": [
    "## *Chorses:*"
   ]
  },
  {
   "cell_type": "markdown",
   "id": "aa621d40-613b-4a9f-9326-d2f8ce84c455",
   "metadata": {},
   "source": [
    "* ### avoidObstacles \n",
    "* ### bishopAndPawn \n",
    "* ### boxBlur \n",
    "* ### candies \n",
    "* ### caseInsensitivePalimdrome \n",
    "* ### centuryFromYear"
   ]
  },
  {
   "cell_type": "markdown",
   "id": "6c88e1c9-76ab-457b-b730-d5aa28180bef",
   "metadata": {},
   "source": [
    "---"
   ]
  },
  {
   "cell_type": "markdown",
   "id": "35a61618-dab8-499b-8ce1-20e4813daaaf",
   "metadata": {},
   "source": [
    "## Chore 1:"
   ]
  },
  {
   "cell_type": "markdown",
   "id": "f4866498-978d-4349-a12c-674a90aea68f",
   "metadata": {},
   "source": [
    " * # avoidObstacles"
   ]
  },
  {
   "cell_type": "markdown",
   "id": "61d10adc-22b0-4400-9370-03b2edf0cd97",
   "metadata": {},
   "source": [
    "You are given an array of integers representing coordinates of obstacles situated on a straight line.\n",
    "\n",
    "Assume that you are jumping from the point with coordinate 0 to the right. You are allowed only to make jumps of the same length represented by some integer.\n",
    "\n",
    "Find the minimal length of the jump enough to avoid all the obstacles.\n",
    "\n",
    "Example\n",
    "\n",
    "For inputArray = [5, 3, 6, 7, 9], the output should be avoidObstacles(inputArray) = 4.\n",
    "\n",
    "Hints\n",
    "\n",
    "sort()\n",
    "every()\n",
    "Input/Output\n",
    "\n",
    "[time limit] 4000ms (js)\n",
    "[input] array.integer inputArray\n",
    "Non-empty array of positive integers.\n",
    "\n",
    "Guaranteed constraints:\n",
    "\n",
    "2 ≤ inputArray.length ≤ 10,\n",
    "\n",
    "1 ≤ inputArray[i] ≤ 40.\n",
    "\n",
    "[output] integer\n",
    "The desired length."
   ]
  },
  {
   "cell_type": "markdown",
   "id": "91062d47-ccd1-4318-8fd4-fc294538edb8",
   "metadata": {},
   "source": [
    "## Answer:"
   ]
  },
  {
   "cell_type": "code",
   "execution_count": 11,
   "id": "898fc48a-a077-4f85-9e66-06a9a4af3705",
   "metadata": {},
   "outputs": [
    {
     "name": "stdout",
     "output_type": "stream",
     "text": [
      "4\n"
     ]
    }
   ],
   "source": [
    "def avoidObstacles(inputArray):\n",
    "    # Sort the input array to make it easier to check\n",
    "    inputArray.sort()\n",
    "    \n",
    "    # Start testing jump lengths from 1 upwards\n",
    "    jump_length = 1\n",
    "    \n",
    "    while True:\n",
    "        # Check if the jump length avoids all obstacles\n",
    "        if all(obstacle % jump_length != 0 for obstacle in inputArray):\n",
    "            return jump_length\n",
    "        jump_length += 1\n",
    "\n",
    "# Example usage\n",
    "inputArray = [5, 3, 6, 7, 9]\n",
    "print(avoidObstacles(inputArray))  # Expected output: 4\n"
   ]
  },
  {
   "cell_type": "markdown",
   "id": "bacb4efb-183a-49ae-b5db-0760eceabae7",
   "metadata": {},
   "source": [
    "### Explanation of the Code\n",
    "\n",
    "We are given an array of integers representing obstacles on a straight line. We start at position 0 and want to find the **smallest positive integer jump length** that allows us to **avoid landing on any of the obstacles**.\n",
    "\n",
    "Here’s how the code works:\n",
    "\n",
    "1. **Sort the input array:**\n",
    "   We sort the obstacle positions to simplify the checking process.\n",
    "\n",
    "2. **Try different jump lengths:**\n",
    "   We start checking from jump length `1` and increase it by 1 each time.\n",
    "\n",
    "3. **Check if current jump length avoids all obstacles:**\n",
    "   For a given jump length, we check if **none** of the obstacles are divisible by it (i.e., we don’t land on an obstacle).\n",
    "   \n",
    "   We use:\n",
    "   ```python\n",
    "   all(obstacle % jump_length != 0 for obstacle in inputArray)\n"
   ]
  },
  {
   "cell_type": "markdown",
   "id": "4dae9002-c288-48d2-947b-1474273856b3",
   "metadata": {},
   "source": [
    "---"
   ]
  },
  {
   "cell_type": "markdown",
   "id": "da7f2b08-e152-471b-a109-4230b5e31983",
   "metadata": {},
   "source": [
    "* # bishopAndPawn"
   ]
  },
  {
   "cell_type": "markdown",
   "id": "a43e1a4d-c6bb-4163-9446-e8bcedfa4929",
   "metadata": {},
   "source": [
    "## Chore 2:"
   ]
  },
  {
   "cell_type": "markdown",
   "id": "2de7cff7-219a-49dd-9e51-2df7e3a9380f",
   "metadata": {},
   "source": [
    "Given the positions of a white bishop and a black pawn on the standard chess board, determine whether the bishop can capture the pawn in one move.\n",
    "\n",
    "The bishop has no restrictions in distance for each move, but is limited to diagonal movement. Check out the example below to see how it can move:\n",
    "\n",
    "\n",
    "\n",
    "Example\n",
    "\n",
    "For bishop = \"a1\" and pawn = \"c3\", the output should be bishopAndPawn(bishop, pawn) = true.\n",
    "\n",
    "\n",
    "Hint\n",
    "\n",
    "parseInt()\n",
    "Input/Output\n",
    "\n",
    "[time limit] 4000ms (js)\n",
    "[input] string bishop\n",
    "Coordinates of the white bishop in the chess notation.\n",
    "\n",
    "[input] string pawn\n",
    "Coordinates of the black pawn in the same notation.\n",
    "\n",
    "[output] boolean\n",
    "true if the bishop can capture the pawn, false otherwise."
   ]
  },
  {
   "cell_type": "markdown",
   "id": "9f4eda67-0fad-4cff-8787-25164e82a59c",
   "metadata": {},
   "source": [
    "## Answer:"
   ]
  },
  {
   "cell_type": "code",
   "execution_count": 22,
   "id": "debdc27e-4905-4bba-afcc-8fcf7ab0fd77",
   "metadata": {},
   "outputs": [
    {
     "name": "stdout",
     "output_type": "stream",
     "text": [
      "True\n"
     ]
    }
   ],
   "source": [
    "def bishopAndPawn(bishop, pawn):\n",
    "    # Convert chess notation to numerical coordinates\n",
    "    bishop_col = ord(bishop[0]) - ord('a') + 1\n",
    "    bishop_row = int(bishop[1])\n",
    "    pawn_col = ord(pawn[0]) - ord('a') + 1\n",
    "    pawn_row = int(pawn[1])\n",
    "    \n",
    "    # Check if the bishop can reach the pawn diagonally\n",
    "    return abs(bishop_col - pawn_col) == abs(bishop_row - pawn_row)\n",
    "\n",
    "# Example usage\n",
    "bishop = \"a1\"\n",
    "pawn = \"c3\"\n",
    "print(bishopAndPawn(bishop, pawn))  # Expected output: True\n"
   ]
  },
  {
   "cell_type": "markdown",
   "id": "b1fedf86-2848-490d-bcb0-ebc9cae40061",
   "metadata": {},
   "source": [
    "### Explanation and Concept\n",
    "\n",
    "We are given the positions of a white **bishop** and a black **pawn** on a chessboard, using standard chess notation (e.g., `\"a1\"`, `\"c3\"`).\n",
    "\n",
    "We need to check if the bishop can **capture** the pawn in one move.\n",
    "\n",
    "### 🟡 Concept\n",
    "\n",
    "- A bishop moves diagonally on the board.\n",
    "- It can move **any number of squares** in a diagonal direction, but only on its diagonal.\n",
    "- On a chessboard, squares on the same diagonal satisfy:\n",
    "  \\[\n",
    "  |column_{1} - column_{2}| = |row_{1} - row_{2}|\n",
    "  \\]\n",
    "  where `column` is the file (`a`-`h`) and `row` is the rank (`1`-`8`).\n",
    "\n",
    "### ⚙️ Code Breakdown\n",
    "\n",
    "1. **Convert chess notation to numeric coordinates:**\n",
    "   - Columns: `'a'` → `1`, `'b'` → `2`, ..., `'h'` → `8`\n",
    "     ```python\n",
    "     bishop_col = ord(bishop[0]) - ord('a') + 1\n",
    "     ```\n",
    "   - Rows: simply convert the second character to an integer.\n",
    "     ```python\n",
    "     bishop_row = int(bishop[1])\n",
    "     ```\n",
    "\n",
    "2. **Check diagonal condition:**\n",
    "   If the absolute difference in columns equals the absolute difference in rows:\n",
    "   ```python\n",
    "   abs(bishop_col - pawn_col) == abs(bishop_row - pawn_row)\n"
   ]
  },
  {
   "cell_type": "markdown",
   "id": "3752f1a0-30d2-4a8c-8f5b-3a167d389e4c",
   "metadata": {},
   "source": [
    "---"
   ]
  },
  {
   "cell_type": "markdown",
   "id": "f4fd3129-7452-4d4f-a477-d30722f9f47f",
   "metadata": {},
   "source": [
    "* # boxBlur"
   ]
  },
  {
   "cell_type": "markdown",
   "id": "df314c6a-84a3-47c5-adcb-9eda367a3c78",
   "metadata": {},
   "source": [
    "## Chore 3:"
   ]
  },
  {
   "cell_type": "markdown",
   "id": "69211cdb-9cb8-44a7-971a-6a878750ef02",
   "metadata": {},
   "source": [
    "Last night you had to study, but decided to party instead. Now there is a black and white photo of you that is about to go viral. You cannot let this ruin your reputation, so you want to apply box blur algorithm to the photo to hide its content.\n",
    "\n",
    "The algorithm works as follows: each pixel x in the resulting image has a value equal to the average value of the input image pixels' values from the 3 × 3 square with the center at x. All pixels at the edges are cropped.\n",
    "\n",
    "As pixel's value is an integer, all fractions should be rounded down.\n",
    "\n",
    "Example\n",
    "\n",
    "For\n",
    "\n",
    "image = [[1, 1, 1], \n",
    "        [1, 7, 1], \n",
    "        [1, 1, 1]]\n",
    "the output should be boxBlur(image) = [[1]].\n",
    "\n",
    "In the given example all boundary pixels were cropped, and the value of the pixel in the middle was obtained as (1 + 1 + 1 + 1 + 7 + 1 + 1 + 1 + 1) / 9 = 15 / 9 = rounded down = 1.\n",
    "\n",
    "Hints\n",
    "\n",
    "push()\n",
    "Math.floor()\n",
    "Input/Output\n",
    "\n",
    "[time limit] 4000ms (js)\n",
    "[input] array.array.integer image\n",
    "An image is stored as a rectangular matrix of non-negative integers.\n",
    "\n",
    "Guaranteed constraints:\n",
    "\n",
    "3 ≤ image.length ≤ 10,\n",
    "\n",
    "3 ≤ image[0].length ≤ 10,\n",
    "\n",
    "0 ≤ image[i][j] ≤ 255.\n",
    "\n",
    "[output] array.array.integer\n",
    "A blurred image."
   ]
  },
  {
   "cell_type": "markdown",
   "id": "a84c23cf-ce10-4099-b3d2-c1baaf72536b",
   "metadata": {},
   "source": [
    "## Answer:"
   ]
  },
  {
   "cell_type": "code",
   "execution_count": 38,
   "id": "679d2339-9bac-4203-aa69-4be7be77f58c",
   "metadata": {},
   "outputs": [
    {
     "name": "stdout",
     "output_type": "stream",
     "text": [
      "Original image:\n",
      "[1, 1, 1]\n",
      "[1, 7, 1]\n",
      "[1, 1, 1]\n",
      "\n",
      "Blurred image:\n",
      "[1]\n"
     ]
    }
   ],
   "source": [
    "def boxBlur(image):\n",
    "    # Get the dimensions of the image\n",
    "    rows = len(image)\n",
    "    cols = len(image[0])\n",
    "\n",
    "    # Initialize the result (blurred) image\n",
    "    blurred_image = []\n",
    "\n",
    "    # Loop over the image excluding the border pixels\n",
    "    for i in range(1, rows - 1):\n",
    "        blurred_row = []\n",
    "        for j in range(1, cols - 1):\n",
    "            # Calculate the sum of the 3x3 square centered at (i, j)\n",
    "            total = (\n",
    "                image[i-1][j-1] + image[i-1][j] + image[i-1][j+1] +\n",
    "                image[i][j-1]   + image[i][j]   + image[i][j+1] +\n",
    "                image[i+1][j-1] + image[i+1][j] + image[i+1][j+1]\n",
    "            )\n",
    "            # Compute the average and round down using integer division\n",
    "            average = total // 9\n",
    "            blurred_row.append(average)\n",
    "        # Add the processed row to the result\n",
    "        blurred_image.append(blurred_row)\n",
    "    \n",
    "    return blurred_image\n",
    "\n",
    "# Example test\n",
    "image = [\n",
    "    [1, 1, 1],\n",
    "    [1, 7, 1],\n",
    "    [1, 1, 1]\n",
    "]\n",
    "\n",
    "print(\"Original image:\")\n",
    "for row in image:\n",
    "    print(row)\n",
    "\n",
    "blurred = boxBlur(image)\n",
    "\n",
    "print(\"\\nBlurred image:\")\n",
    "for row in blurred:\n",
    "    print(row)\n"
   ]
  },
  {
   "cell_type": "markdown",
   "id": "6453b5aa-3bfb-4d7a-a419-f2ad20979815",
   "metadata": {},
   "source": [
    "### Box Blur Algorithm Explanation\n",
    "\n",
    "The **box blur** algorithm is a simple image processing technique that smoothens an image by replacing each pixel with the average of its neighboring pixels in a 3×3 grid.\n",
    "\n",
    "### How it works:\n",
    "- For every pixel `x` (except the edges), we look at the 3×3 block centered at `x`.\n",
    "- We calculate the **sum** of all 9 pixel values in that block.\n",
    "- We compute the **average** by dividing the sum by 9.\n",
    "- Since pixel values are integers, we **round down** the result (using integer division `//` in Python).\n",
    "- We skip the edge pixels because they don't have a complete 3×3 neighborhood.\n",
    "\n",
    "### Input:\n",
    "- A 2D matrix (`list of lists`) of non-negative integers representing the pixel values.\n",
    "- Constraints:\n",
    "  - 3 ≤ number of rows ≤ 10\n",
    "  - 3 ≤ number of columns ≤ 10\n",
    "  - 0 ≤ pixel value ≤ 255\n",
    "\n",
    "###  Output:\n",
    "- A new 2D matrix (smaller by 2 rows and 2 columns) containing the blurred image.\n",
    "\n"
   ]
  },
  {
   "cell_type": "markdown",
   "id": "97053388-dceb-44a9-ba1a-6fa60eebc726",
   "metadata": {},
   "source": [
    "---"
   ]
  },
  {
   "cell_type": "markdown",
   "id": "e2e8f55b-3bdc-4ba2-976f-3f5c1d78de87",
   "metadata": {},
   "source": [
    "* # candies "
   ]
  },
  {
   "cell_type": "markdown",
   "id": "e1e82fe7-a837-4212-bf50-465c98175b90",
   "metadata": {},
   "source": [
    "## Chore 4:"
   ]
  },
  {
   "cell_type": "markdown",
   "id": "82ca09cb-2326-456e-9910-a73ac99b87a9",
   "metadata": {},
   "source": [
    "n children have got m pieces of candy. They want to eat as much candy as they can, but each child must eat exactly the same amount of candy as any other child. Determine how many pieces of candy will be eaten by all the children together. Individual pieces of candy cannot be split.\n",
    "\n",
    "Example\n",
    "\n",
    "For n = 3 and m = 10, the output should be candies(n, m) = 9.\n",
    "\n",
    "Each child will eat 3 pieces. So the answer is 9.\n",
    "\n",
    "Hints\n",
    "\n",
    "Math.floor()\n",
    "Input/Output\n",
    "\n",
    "[execution time limit] 4 seconds (js)\n",
    "\n",
    "[input] integer n\n",
    "\n",
    "The number of children. Guaranteed constraints: 1 ≤ n ≤ 10.\n",
    "\n",
    "[input] integer m The number of pieces of candy. Guaranteed constraints: 2 ≤ m ≤ 100.\n",
    "\n",
    "[output] integer The total number of pieces of candy the children will eat provided they eat as much as they can and all children eat the same amount."
   ]
  },
  {
   "cell_type": "markdown",
   "id": "23ca0b35-200f-40f4-a81b-4397670c0ecd",
   "metadata": {},
   "source": [
    "## Answer:"
   ]
  },
  {
   "cell_type": "code",
   "execution_count": 60,
   "id": "26417e8e-a106-4297-99a3-1d51d9af98f2",
   "metadata": {},
   "outputs": [
    {
     "name": "stdout",
     "output_type": "stream",
     "text": [
      "Total candies eaten by 3 children from 10 candies: 9\n"
     ]
    }
   ],
   "source": [
    "def candies(n, m):\n",
    "    # Calculate how many candies each child can get\n",
    "    candies_per_child = m // n\n",
    "    # Calculate total candies eaten\n",
    "    total_candies = candies_per_child * n\n",
    "    return total_candies\n",
    "\n",
    "# Example usage\n",
    "n = 3\n",
    "m = 10\n",
    "\n",
    "result = candies(n, m)\n",
    "print(f\"Total candies eaten by {n} children from {m} candies: {result}\")\n"
   ]
  },
  {
   "cell_type": "markdown",
   "id": "35fe8cee-637f-48b0-9ddc-bfd23bcac043",
   "metadata": {},
   "source": [
    "### Candies Distribution Explanation\n",
    "\n",
    "We are solving the problem of distributing `m` candies among `n` children so that:\n",
    "- Each child gets **exactly the same number of whole candies**.\n",
    "- We **maximize** the total number of candies eaten.\n",
    "- Individual candies **cannot** be split.\n",
    "\n",
    "### How it works:\n",
    "We first calculate how many candies each child can get using integer division:\n",
    "`candies_per_child = m // n`\n",
    "\n",
    "The `//` operator gives the quotient without the remainder, which effectively rounds down — this is important because candies cannot be split.\n",
    "\n",
    "Next, we calculate the total number of candies eaten:\n",
    "`total_candies = candies_per_child * n`\n",
    "\n",
    "This gives the maximum number of candies the group of children can eat.\n",
    "\n",
    "###  Input:\n",
    "- `n`: Number of children (1 ≤ n ≤ 10)\n",
    "- `m`: Number of candies (2 ≤ m ≤ 100)\n",
    "\n",
    "###  Output:\n",
    "- Total candies eaten when divided equally among the children.\n",
    "\n",
    "###  Example:\n",
    "For:\n",
    "n = 3  \n",
    "m = 10\n",
    "\n",
    "1. Calculate how many candies each child gets:\n",
    "10 // 3 = 3\n",
    "\n",
    "2. Calculate total candies eaten:\n",
    "3 * 3 = 9\n",
    "\n",
    " Final output: 9\n",
    "\n",
    "### 🛠 Python Code\n",
    "```python\n",
    "def candies(n, m):\n",
    "    candies_per_child = m // n\n",
    "    total_candies = candies_per_child * n\n",
    "    return total_candies\n",
    "\n",
    "# Example usage\n",
    "n = 3\n",
    "m = 10\n",
    "\n",
    "result = candies(n, m)\n",
    "print(f\"Total candies eaten by {n} children from {m} candies: {result}\")\n"
   ]
  },
  {
   "cell_type": "markdown",
   "id": "19146f4d-36e2-4b7c-98d9-ffc9724950b3",
   "metadata": {},
   "source": [
    "---"
   ]
  },
  {
   "cell_type": "markdown",
   "id": "ea23a581-9f83-42a0-bc37-e4e40ad91591",
   "metadata": {},
   "source": [
    "* # caseInsensitivePalimdrome "
   ]
  },
  {
   "cell_type": "markdown",
   "id": "52fcdf90-1002-4506-819b-f798a04f2a74",
   "metadata": {},
   "source": [
    "## Chore 5:"
   ]
  },
  {
   "cell_type": "markdown",
   "id": "754e5378-f26b-4277-aca7-02ef88bc762b",
   "metadata": {},
   "source": [
    "Given a string, check if it can become a palindrome through a case change of some (possibly, none) letters.\n",
    "\n",
    "Example\n",
    "\n",
    "For inputString = \"AaBaa\", the output should be isCaseInsensitivePalindrome(inputString) = true.\n",
    "\"aabaa\" is a palindrome as well as \"AABAA\", \"aaBaa\", etc\n",
    "\n",
    "For inputString = \"abac\", the output should be isCaseInsensitivePalindrome(inputString) = false.\n",
    "All the strings which can be obtained via changing case of some group of letters, i.e. \"abac\", \"Abac\", \"aBAc\" and 13 more, are not palindromes.\n",
    "\n",
    "Hints\n",
    "\n",
    "join()\n",
    "reverse()\n",
    "toLowerCase()\n",
    "split()\n",
    "Input/Output\n",
    "\n",
    "[execution time limit] 5 seconds (ts)\n",
    "\n",
    "[input] string inputString\n",
    "\n",
    "Non-empty string consisting of English letters. Guaranteed constraints: 4 ≤ inputString.length ≤ 10\n",
    "\n",
    "[output] boolean"
   ]
  },
  {
   "cell_type": "markdown",
   "id": "d6a742f0-46a6-47be-a6c5-c4a59cc3d315",
   "metadata": {},
   "source": [
    "## Answer:"
   ]
  },
  {
   "cell_type": "code",
   "execution_count": 79,
   "id": "e0018e5e-4b14-4f89-895c-dab5c9ca3744",
   "metadata": {},
   "outputs": [
    {
     "name": "stdout",
     "output_type": "stream",
     "text": [
      "True\n",
      "False\n"
     ]
    }
   ],
   "source": [
    "def isCaseInsensitivePalindrome(inputString):\n",
    "    # Convert the string to lowercase\n",
    "    inputString = inputString.lower()\n",
    "    \n",
    "    # Check if the string is equal to its reverse\n",
    "    return inputString == inputString[::-1]\n",
    "\n",
    "# Test cases\n",
    "print(isCaseInsensitivePalindrome(\"AaBaa\"))  # Expected output: True\n",
    "print(isCaseInsensitivePalindrome(\"abac\"))   # Expected output: False\n"
   ]
  },
  {
   "cell_type": "markdown",
   "id": "d1e9af00-2d17-4fb4-98c1-7f4b5c9969b6",
   "metadata": {},
   "source": [
    "### Problem Understanding\n",
    "\n",
    "Given a string `inputString`, we are tasked with determining whether it can become a palindrome by changing the case of some (possibly none) of the characters. A string is considered a palindrome if it reads the same forward and backward.\n",
    "\n",
    "### Key Concepts:\n",
    "1. **Palindrome**: A word, phrase, or sequence that reads the same backward as forward, ignoring spaces, punctuation, and capitalization.\n",
    "2. **Case Insensitivity**: We are only interested in the characters of the string, ignoring their case. This means \"a\" and \"A\" should be treated as the same character.\n",
    "\n",
    "### Approach:\n",
    "\n",
    "1. **Convert the String to Lowercase**: \n",
    "   - First, we convert the entire string to lowercase using the `lower()` method. This eliminates any case sensitivity, ensuring that both uppercase and lowercase characters are treated the same.\n",
    "   \n",
    "2. **Check for Palindrome**:\n",
    "   - We can check if a string is a palindrome by comparing it to its reversed version. This can be done easily by slicing the string in reverse (`inputString[::-1]`).\n",
    "   \n",
    "3. **Return the Result**: \n",
    "   - If the string is equal to its reversed version, we return `True` (indicating it is a palindrome), otherwise, we return `False`.\n",
    "\n",
    "### Code Walkthrough:\n",
    "\n",
    "1. `inputString.lower()` converts all characters in the string to lowercase.\n",
    "2. `inputString[::-1]` reverses the string.\n",
    "3. The final condition checks if the lowercase string is the same as its reversed version.\n",
    "\n",
    "### Example:\n",
    "1. **Input**: `\"AaBaa\"`\n",
    "   - After converting to lowercase: `\"aabaa\"`\n",
    "   - Reversed: `\"aabaa\"`\n",
    "   - Since both are the same, the output will be `True`.\n",
    "\n",
    "2. **Input**: `\"abac\"`\n",
    "   - After converting to lowercase: `\"abac\"`\n",
    "   - Reversed: `\"caba\"`\n",
    "   - Since they are different, the output will be `False`.\n"
   ]
  },
  {
   "cell_type": "markdown",
   "id": "0d54d74c-3511-4941-9270-1583f8c2ef41",
   "metadata": {},
   "source": [
    "---"
   ]
  },
  {
   "cell_type": "markdown",
   "id": "97f6c5db-4968-4152-8f19-02c09f7187f4",
   "metadata": {},
   "source": [
    "* # centuryFromYear"
   ]
  },
  {
   "cell_type": "markdown",
   "id": "bf30bafa-914a-41ed-bdb5-0ea1db996950",
   "metadata": {},
   "source": [
    "## Chore 6:"
   ]
  },
  {
   "cell_type": "markdown",
   "id": "63e4ac24-b260-412a-9423-e2a369a2db64",
   "metadata": {},
   "source": [
    "Given a year, return the century it is in. The first century spans from the year 1 up to and including the year 100, the second - from the year 101 up to and including the year 200, etc.\n",
    "\n",
    "Example\n",
    "\n",
    "For year = 1905, the output should be centuryFromYear(year) = 20;\n",
    "For year = 1700, the output should be centuryFromYear(year) = 17.\n",
    "Hints\n",
    "\n",
    "Math.floor()\n",
    "Input/Output\n",
    "\n",
    "[time limit] 4000ms (js)\n",
    "[input] integer year\n",
    "A positive integer, designating the year.\n",
    "\n",
    "Guaranteed constraints:\n",
    "\n",
    "1 ≤ year ≤ 2005.\n",
    "\n",
    "[output] integer\n",
    "The number of the century the year is in."
   ]
  },
  {
   "cell_type": "markdown",
   "id": "01ad3a67-eea6-47b0-bff8-ee5487793c48",
   "metadata": {},
   "source": [
    "## Answer:"
   ]
  },
  {
   "cell_type": "code",
   "execution_count": 89,
   "id": "97374658-292b-4764-b44c-0fa41fc1971b",
   "metadata": {},
   "outputs": [
    {
     "name": "stdout",
     "output_type": "stream",
     "text": [
      "20\n",
      "17\n"
     ]
    }
   ],
   "source": [
    "import math\n",
    "\n",
    "def centuryFromYear(year):\n",
    "    # Calculate the century by dividing the year by 100 and rounding up\n",
    "    return math.ceil(year / 100)\n",
    "\n",
    "# Test cases\n",
    "print(centuryFromYear(1905))  # Expected output: 20\n",
    "print(centuryFromYear(1700))  # Expected output: 17\n"
   ]
  },
  {
   "cell_type": "markdown",
   "id": "7982a1e7-c201-4bde-94e4-dc2c73cc672e",
   "metadata": {},
   "source": [
    "### Problem Understanding\n",
    "\n",
    "We are asked to determine the century for a given year. A century is a period of 100 years, and the first century spans from the year 1 to 100, the second century spans from 101 to 200, and so on.\n",
    "\n",
    "### Approach:\n",
    "\n",
    "1. **Divide the Year by 100**: \n",
    "   - To calculate the century, divide the given year by 100. For example, for the year 1905, dividing 1905 by 100 gives 19.05.\n",
    "   \n",
    "2. **Round Up the Result**: \n",
    "   - The result of dividing by 100 needs to be rounded up to the next integer since any year from 1 to 100 will still belong to the same century. This can be done using the `math.ceil()` function, which rounds a number up to the nearest integer.\n",
    "   - For instance, `math.ceil(19.05)` will result in 20, meaning the year 1905 is in the 20th century.\n",
    "\n",
    "3. **Return the Century**: \n",
    "   - The result of the ceiling operation will give us the century.\n",
    "\n",
    "### Code Walkthrough:\n",
    "\n",
    "1. `year / 100` divides the year by 100 to determine the base century (e.g., 1905 / 100 = 19.05).\n",
    "2. `math.ceil()` rounds up the result to the next whole number (e.g., 19.05 becomes 20).\n",
    "3. The final result is returned, indicating the century the year belongs to.\n",
    "\n",
    "### Example:\n",
    "\n",
    "1. **Input**: `1905`\n",
    "   - Divide by 100: `1905 / 100 = 19.05`\n",
    "   - Round up: `math.ceil(19.05) = 20`\n",
    "   - Output: `20` (the 20th century)\n",
    "\n",
    "2. **Input**: `1700`\n",
    "   - Divide by 100: `1700 / 100 = 17`\n",
    "   - Round up: `math.ceil(17) = 17`\n",
    "   - Output: `17` (the 17th century)\n"
   ]
  },
  {
   "cell_type": "code",
   "execution_count": null,
   "id": "7b04052b-04c3-446e-9315-f4f5d9b1a880",
   "metadata": {},
   "outputs": [],
   "source": []
  }
 ],
 "metadata": {
  "kernelspec": {
   "display_name": "Python [conda env:base] *",
   "language": "python",
   "name": "conda-base-py"
  },
  "language_info": {
   "codemirror_mode": {
    "name": "ipython",
    "version": 3
   },
   "file_extension": ".py",
   "mimetype": "text/x-python",
   "name": "python",
   "nbconvert_exporter": "python",
   "pygments_lexer": "ipython3",
   "version": "3.12.7"
  }
 },
 "nbformat": 4,
 "nbformat_minor": 5
}
