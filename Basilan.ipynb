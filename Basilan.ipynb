{
 "cells": [
  {
   "cell_type": "markdown",
   "id": "da0b718e-329d-4944-b978-a112b5e51d5e",
   "metadata": {},
   "source": [
    " ## JIREH S. BASILAN\n",
    " \n",
    " ## 1. sumOfTwo"
   ]
  },
  {
   "cell_type": "markdown",
   "id": "d33bca0e-3c5c-4aae-a9a2-c263497964fd",
   "metadata": {},
   "source": [
    "Explanation\n",
    "\n",
    "Step 1: Convert array b into a Set for O(1) average-time complexity lookups.\n",
    "\n",
    "Step 2: Iterate through each element a[i] in array a.\n",
    "\n",
    "Step 3: Check if the complement (v - a[i]) exists in the set bSet. If it does, return true.\n",
    "\n",
    "Step 4: If no such pair is found after the loop, return false."
   ]
  },
  {
   "cell_type": "markdown",
   "id": "9c171335-ddcc-47fc-bcc4-29da93010b20",
   "metadata": {},
   "source": [
    "### Answer"
   ]
  },
  {
   "cell_type": "code",
   "execution_count": 16,
   "id": "fb11433d-b645-494b-86fd-d1782f566c0f",
   "metadata": {},
   "outputs": [],
   "source": [
    "def sum_of_two(a, b, target):\n",
    "    b_set = set(b)  # Convert list b to a set for O(1) average-time complexity lookups\n",
    "    for num in a:\n",
    "        if target - num in b_set:  # Check if the complement exists in b_set\n",
    "            return True\n",
    "    return False\n"
   ]
  },
  {
   "cell_type": "markdown",
   "id": "9e2bcab8-9fc2-4fb2-98dc-134f4b95308c",
   "metadata": {},
   "source": [
    "#### Example"
   ]
  },
  {
   "cell_type": "markdown",
   "id": "5cf3e6b1-9a84-4ef6-9b41-64721d1e987c",
   "metadata": {},
   "source": [
    "sum_of_two([1, 2, 3], [10, 11, 12], 13)  \n",
    " Returns: True (1 + 12 = 13)\n"
   ]
  },
  {
   "cell_type": "markdown",
   "id": "237ec38a-ddf2-4c37-8a0b-31b504691dc3",
   "metadata": {},
   "source": [
    "### 2. switchLight"
   ]
  },
  {
   "cell_type": "markdown",
   "id": "f5fcd722-428e-4b29-b0ce-3668cf70e9a7",
   "metadata": {},
   "source": [
    "Explanation\n",
    "\n",
    "Step 1: Iterate over each index in the switches list.\n",
    "\n",
    "Step 2: For each index, toggle the corresponding light in the lights list.\n",
    "\n",
    "Step 3: Return the updated lights list."
   ]
  },
  {
   "cell_type": "markdown",
   "id": "0b300303-be3d-4f5a-936d-e28ecd244551",
   "metadata": {},
   "source": [
    "## Answer"
   ]
  },
  {
   "cell_type": "code",
   "execution_count": 17,
   "id": "923459ab-2889-48f4-9fdf-f513d35d1b46",
   "metadata": {},
   "outputs": [],
   "source": [
    "def switch_lights(lights, switches):\n",
    "    for switch_index in switches:\n",
    "        lights[switch_index] = not lights[switch_index]  # Toggle the light at the given index\n",
    "    return lights\n"
   ]
  },
  {
   "cell_type": "markdown",
   "id": "c3fa3ddd-8da6-47e5-b299-5254d3dd23c7",
   "metadata": {},
   "source": [
    "## Example"
   ]
  },
  {
   "cell_type": "code",
   "execution_count": 18,
   "id": "4fd184c7-632b-42e8-8b44-c5db8143a940",
   "metadata": {},
   "outputs": [
    {
     "data": {
      "text/plain": [
       "[False, False, False]"
      ]
     },
     "execution_count": 18,
     "metadata": {},
     "output_type": "execute_result"
    }
   ],
   "source": [
    "switch_lights([True, False, True], [0, 2])  # Returns: [False, False, False]\n"
   ]
  },
  {
   "cell_type": "markdown",
   "id": "122032c3-e11f-4837-a4a6-14611c173174",
   "metadata": {},
   "source": [
    "## 3. taskType"
   ]
  },
  {
   "cell_type": "markdown",
   "id": "31277711-0c26-4d46-a530-a2a3d21d5b76",
   "metadata": {},
   "source": [
    "Explanation\n",
    "\n",
    "Step 1: Iterate over each task in the tasks list.\n",
    "\n",
    "Step 2: Classify the task based on its difficulty property.\n",
    "\n",
    "Step 3: Return a list of classifications corresponding to each task."
   ]
  },
  {
   "cell_type": "markdown",
   "id": "06f3626f-8728-4abb-832d-5291e129c6f1",
   "metadata": {},
   "source": [
    "## Answer"
   ]
  },
  {
   "cell_type": "code",
   "execution_count": 19,
   "id": "c8ef1e0e-2040-4939-82ca-2883a9299951",
   "metadata": {},
   "outputs": [],
   "source": [
    "def tasks_type(tasks):\n",
    "    return ['Easy' if task['difficulty'] < 3 else 'Medium' if task['difficulty'] < 6 else 'Hard' for task in tasks]\n"
   ]
  },
  {
   "cell_type": "markdown",
   "id": "c2576a8d-0564-4728-a73d-46ec4681ff40",
   "metadata": {},
   "source": [
    "## Example"
   ]
  },
  {
   "cell_type": "code",
   "execution_count": 20,
   "id": "483554f9-7dae-4ba1-8fce-f100ee8149b5",
   "metadata": {},
   "outputs": [
    {
     "data": {
      "text/plain": [
       "['Easy', 'Medium', 'Hard']"
      ]
     },
     "execution_count": 20,
     "metadata": {},
     "output_type": "execute_result"
    }
   ],
   "source": [
    "tasks_type([{'difficulty': 2}, {'difficulty': 5}, {'difficulty': 7}])  # Returns: ['Easy', 'Medium', 'Hard']\n"
   ]
  },
  {
   "cell_type": "markdown",
   "id": "4c4c70a0-72cb-47cb-be0c-aebdd96cf7fe",
   "metadata": {},
   "source": [
    "## 4. UniqueDig itProducts"
   ]
  },
  {
   "cell_type": "markdown",
   "id": "a9bf787b-0bf5-4e3c-b40c-39e426c974b3",
   "metadata": {},
   "source": [
    "Step 1: Initialize an empty list results to store valid pairs.\n",
    "\n",
    "Step 2: Use nested loops to iterate over all pairs (i, j) where 1 <= i <= j <= limit.\n",
    "\n",
    "Step 3: Calculate the product of i and j.\n",
    "\n",
    "Step 4: Convert the product to a string and check if all its digits are unique by comparing the size of a set created from the string with the string's length.\n",
    "\n",
    "Step 5: If the product has unique digits, add the pair (i, j, product) to results.\n",
    "\n",
    "Step 6: Return the results list."
   ]
  },
  {
   "cell_type": "markdown",
   "id": "ca9d0f0a-a29d-4010-917f-d72d38715f91",
   "metadata": {},
   "source": [
    "## Answer"
   ]
  },
  {
   "cell_type": "code",
   "execution_count": 21,
   "id": "b0e07e6d-e617-458f-a803-4eb51dc2fdae",
   "metadata": {},
   "outputs": [],
   "source": [
    "def unique_digit_products(limit):\n",
    "    results = []\n",
    "    for i in range(1, limit + 1):\n",
    "        for j in range(i, limit + 1):\n",
    "            product = i * j\n",
    "            if len(set(str(product))) == len(str(product)):  # Check if all digits are unique\n",
    "                results.append((i, j, product))\n",
    "    return results\n"
   ]
  },
  {
   "cell_type": "markdown",
   "id": "0f3877de-372e-45d3-835c-34ae3ef82f83",
   "metadata": {},
   "source": [
    "# Example"
   ]
  },
  {
   "cell_type": "code",
   "execution_count": 22,
   "id": "76841fbd-b73b-434d-95e0-0d4f0f96f5d7",
   "metadata": {},
   "outputs": [
    {
     "data": {
      "text/plain": [
       "[(1, 1, 1),\n",
       " (1, 2, 2),\n",
       " (1, 3, 3),\n",
       " (1, 4, 4),\n",
       " (1, 5, 5),\n",
       " (1, 6, 6),\n",
       " (1, 7, 7),\n",
       " (1, 8, 8),\n",
       " (1, 9, 9),\n",
       " (1, 10, 10),\n",
       " (2, 2, 4),\n",
       " (2, 3, 6),\n",
       " (2, 4, 8),\n",
       " (2, 5, 10),\n",
       " (2, 6, 12),\n",
       " (2, 7, 14),\n",
       " (2, 8, 16),\n",
       " (2, 9, 18),\n",
       " (2, 10, 20),\n",
       " (3, 3, 9),\n",
       " (3, 4, 12),\n",
       " (3, 5, 15),\n",
       " (3, 6, 18),\n",
       " (3, 7, 21),\n",
       " (3, 8, 24),\n",
       " (3, 9, 27),\n",
       " (3, 10, 30),\n",
       " (4, 4, 16),\n",
       " (4, 5, 20),\n",
       " (4, 6, 24),\n",
       " (4, 7, 28),\n",
       " (4, 8, 32),\n",
       " (4, 9, 36),\n",
       " (4, 10, 40),\n",
       " (5, 5, 25),\n",
       " (5, 6, 30),\n",
       " (5, 7, 35),\n",
       " (5, 8, 40),\n",
       " (5, 9, 45),\n",
       " (5, 10, 50),\n",
       " (6, 6, 36),\n",
       " (6, 7, 42),\n",
       " (6, 8, 48),\n",
       " (6, 9, 54),\n",
       " (6, 10, 60),\n",
       " (7, 7, 49),\n",
       " (7, 8, 56),\n",
       " (7, 9, 63),\n",
       " (7, 10, 70),\n",
       " (8, 8, 64),\n",
       " (8, 9, 72),\n",
       " (8, 10, 80),\n",
       " (9, 9, 81),\n",
       " (9, 10, 90)]"
      ]
     },
     "execution_count": 22,
     "metadata": {},
     "output_type": "execute_result"
    }
   ],
   "source": [
    "unique_digit_products(10)  # Returns: [(1, 2, 2), (1, 3, 3), ..., (9, 10, 90)]\n"
   ]
  },
  {
   "cell_type": "markdown",
   "id": "f9b4a4a5-dc7f-4b1f-8d0b-9eba279cd3ff",
   "metadata": {},
   "source": [
    "## 5. validTime"
   ]
  },
  {
   "cell_type": "markdown",
   "id": "06d5fdb6-cf2c-4d7a-b2ae-9ba15f55cc94",
   "metadata": {},
   "source": [
    "Step 1: Split the input time string into hours and minutes using split(\":\").\n",
    "\n",
    "Step 2: Convert the split values to integers using map(int).\n",
    "\n",
    "Step 3: Check if hours is between 0 and 23 (inclusive) and if minutes is between 0 and 59 (inclusive).\n",
    "\n",
    "Step 4: Return True if both conditions are satisfied; otherwise, return False."
   ]
  },
  {
   "cell_type": "markdown",
   "id": "c0a50dec-4c97-488a-91e3-803e64fae9e7",
   "metadata": {},
   "source": [
    "# Answer"
   ]
  },
  {
   "cell_type": "code",
   "execution_count": 23,
   "id": "b3189799-b0b4-43ac-924a-f62afe92adb4",
   "metadata": {},
   "outputs": [],
   "source": [
    "def valid_time(time):\n",
    "    try:\n",
    "        hours, minutes = map(int, time.split(\":\"))\n",
    "        return 0 <= hours < 24 and 0 <= minutes < 60\n",
    "    except ValueError:\n",
    "        return False  # Handle non-numeric or incorrectly formatted input\n"
   ]
  },
  {
   "cell_type": "markdown",
   "id": "301622fc-ee78-4de0-8325-7219e8faafe3",
   "metadata": {},
   "source": [
    "# Example"
   ]
  },
  {
   "cell_type": "code",
   "execution_count": 24,
   "id": "e1084777-8a43-44dd-96fc-2efce962570d",
   "metadata": {},
   "outputs": [
    {
     "data": {
      "text/plain": [
       "False"
      ]
     },
     "execution_count": 24,
     "metadata": {},
     "output_type": "execute_result"
    }
   ],
   "source": [
    "valid_time(\"14:30\")  # Returns: True\n",
    "valid_time(\"25:00\")  # Returns: False\n"
   ]
  },
  {
   "cell_type": "code",
   "execution_count": null,
   "id": "7e75af22-6802-4182-8d66-66e6ed57e6d4",
   "metadata": {},
   "outputs": [],
   "source": []
  },
  {
   "cell_type": "code",
   "execution_count": null,
   "id": "bf47fd0c-b23d-45ea-a2c3-51250ae09145",
   "metadata": {},
   "outputs": [],
   "source": []
  },
  {
   "cell_type": "code",
   "execution_count": null,
   "id": "80cbc92e-3606-443e-b4aa-9d3c786b842b",
   "metadata": {},
   "outputs": [],
   "source": []
  }
 ],
 "metadata": {
  "kernelspec": {
   "display_name": "Python 3 (ipykernel)",
   "language": "python",
   "name": "python3"
  },
  "language_info": {
   "codemirror_mode": {
    "name": "ipython",
    "version": 3
   },
   "file_extension": ".py",
   "mimetype": "text/x-python",
   "name": "python",
   "nbconvert_exporter": "python",
   "pygments_lexer": "ipython3",
   "version": "3.12.7"
  }
 },
 "nbformat": 4,
 "nbformat_minor": 5
}
