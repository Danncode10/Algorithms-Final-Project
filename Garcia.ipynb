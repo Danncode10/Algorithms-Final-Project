{
 "cells": [
  {
   "cell_type": "markdown",
   "id": "e339c0bf-fdd9-410b-9911-d17ada961e89",
   "metadata": {},
   "source": [
    "APRIL JANE H. GARCIA\n",
    "\n",
    "incorrectPasswordAttempts"
   ]
  },
  {
   "cell_type": "markdown",
   "id": "82583b72-0b09-4f4b-95d4-34b66ce32dfc",
   "metadata": {},
   "source": [
    "Define a correct password.\n",
    "\n",
    "Allow the user to attempt to enter the password.\n",
    "\n",
    "Track the number of incorrect attempts.\n",
    "\n",
    "Lock the system after a certain number of failed attempts."
   ]
  },
  {
   "cell_type": "markdown",
   "id": "01a834c3-2a04-4b13-8ccb-b98bb2d51fb6",
   "metadata": {},
   "source": [
    "Jupyter Notebook: incorrectPasswordAttempts\n",
    "\n",
    "🧾 Step 1: Setup and Explanation\n",
    "\n",
    "Create a new cell in your Jupyter notebook and write a markdown title and description."
   ]
  },
  {
   "cell_type": "markdown",
   "id": "24d9c33c-800c-4f50-b32e-ee24c383e5a0",
   "metadata": {},
   "source": [
    "# 📘 Project: incorrectPasswordAttempts\n",
    "\n",
    "This notebook demonstrates a simple Python password checker. The user has a limited number of attempts to enter the correct password. After the maximum number of failed attempts, the account is locked.\n"
   ]
  },
  {
   "cell_type": "code",
   "execution_count": 4,
   "id": "63af5aa5-50f2-4853-bd58-1aaccb1953c2",
   "metadata": {},
   "outputs": [],
   "source": [
    "# Set the correct password\n",
    "correct_password = \"MySecurePass123\"\n",
    "\n",
    "# Maximum allowed incorrect attempts\n",
    "max_attempts = 3\n",
    "\n",
    "# Counter to keep track of failed attempts\n",
    "attempts = 0\n"
   ]
  },
  {
   "cell_type": "markdown",
   "id": "8bae4e40-f547-494a-9b68-ad61a62e02cb",
   "metadata": {},
   "source": [
    "📝 Explanation:\n",
    "\n",
    "correct_password is the password the system checks against.\n",
    "\n",
    "max_attempts is how many tries the user gets.\n",
    "\n",
    "attempts tracks how many failed tries happened.\n",
    "\n"
   ]
  },
  {
   "cell_type": "markdown",
   "id": "9cb61274-416a-4337-ad80-c0bbdacc1de6",
   "metadata": {},
   "source": [
    " Step 3: Create the Login Attempt Loop\n",
    "Create another code cell:\n"
   ]
  },
  {
   "cell_type": "code",
   "execution_count": 6,
   "id": "94204dff-183a-4118-b8fa-bf50bde36404",
   "metadata": {},
   "outputs": [
    {
     "name": "stdin",
     "output_type": "stream",
     "text": [
      "Enter your password:  123456\n"
     ]
    },
    {
     "name": "stdout",
     "output_type": "stream",
     "text": [
      "❌ Incorrect password. Attempts left: 2\n"
     ]
    },
    {
     "name": "stdin",
     "output_type": "stream",
     "text": [
      "Enter your password:  12345\n"
     ]
    },
    {
     "name": "stdout",
     "output_type": "stream",
     "text": [
      "❌ Incorrect password. Attempts left: 1\n"
     ]
    },
    {
     "name": "stdin",
     "output_type": "stream",
     "text": [
      "Enter your password:  MySecurePass123\n"
     ]
    },
    {
     "name": "stdout",
     "output_type": "stream",
     "text": [
      "✅ Access granted.\n"
     ]
    }
   ],
   "source": [
    "while attempts < max_attempts:\n",
    "    # Prompt the user for input\n",
    "    user_input = input(\"Enter your password: \")\n",
    "\n",
    "    # Check if the password is correct\n",
    "    if user_input == correct_password:\n",
    "        print(\"✅ Access granted.\")\n",
    "        break\n",
    "    else:\n",
    "        attempts += 1\n",
    "        print(f\"❌ Incorrect password. Attempts left: {max_attempts - attempts}\")\n",
    "\n",
    "# Check if maximum attempts were reached\n",
    "if attempts == max_attempts:\n",
    "    print(\"🔒 Account locked due to too many failed attempts.\")\n"
   ]
  },
  {
   "cell_type": "markdown",
   "id": "832a62cb-06df-4dc3-b4c5-9e2656725a88",
   "metadata": {},
   "source": [
    "📝 Explanation:\n",
    "\n",
    "The loop runs while the user has attempts left.\n",
    "\n",
    "If the user enters the correct password, it grants access and exits.\n",
    "\n",
    "If incorrect, the attempt count increases and shows remaining attempts.\n",
    "\n",
    "After too many failed attempts, it locks the user out.\n",
    "\n"
   ]
  },
  {
   "cell_type": "markdown",
   "id": "d0c708f4-f41a-4cbf-b282-57ace75a5f0f",
   "metadata": {},
   "source": [
    "Step 4: Add a Delay to Prevent Brute-Force Attempts\n",
    "Create another code cell (with delay):"
   ]
  },
  {
   "cell_type": "code",
   "execution_count": null,
   "id": "3eedb2a6-408b-491b-9f5a-d5eb1b1e1483",
   "metadata": {},
   "outputs": [],
   "source": [
    "### import time  # For adding a delay\n",
    "\n",
    "# Reset the attempts\n",
    "attempts = 0\n",
    "\n",
    "while attempts < max_attempts:\n",
    "    user_input = input(\"Enter your password: \")\n",
    "\n",
    "    if user_input == correct_password:\n",
    "        print(\"✅ Access granted.\")\n",
    "        break\n",
    "    else:\n",
    "        attempts += 1\n",
    "        print(f\"❌ Incorrect password. Attempts left: {max_attempts - attempts}\")\n",
    "        time.sleep(2)  # Delay of 2 seconds for each failed attempt\n",
    "\n",
    "if attempts == max_attempts:\n",
    "    print(\"🔒 Account locked due to too many failed attempts.\")\n"
   ]
  },
  {
   "cell_type": "markdown",
   "id": "22c66247-f991-43d1-9ce9-4c52b44381b1",
   "metadata": {},
   "source": [
    "📝 Explanation:\n",
    "\n",
    "time.sleep(2) pauses execution after each failed attempt.\n",
    "\n",
    "Useful as a security measure to slow down repeated guessing."
   ]
  },
  {
   "cell_type": "markdown",
   "id": "e8d1b33d-496b-4207-afb4-9a032b5dfcbe",
   "metadata": {},
   "source": [
    "Step 5: Optional – Hide Password Input\n",
    "If you're using Jupyter Notebook, you can install and use getpass to hide the password as it's typed:"
   ]
  },
  {
   "cell_type": "code",
   "execution_count": null,
   "id": "f48604b3-f210-4a53-a724-feda8b36b168",
   "metadata": {},
   "outputs": [],
   "source": [
    "from getpass import getpass\n",
    "\n",
    "attempts = 0\n",
    "\n",
    "while attempts < max_attempts:\n",
    "    user_input = getpass(\"Enter your password: \")  # Hidden input\n",
    "\n",
    "    if user_input == correct_password:\n",
    "        print(\"✅ Access granted.\")\n",
    "        break\n",
    "    else:\n",
    "        attempts += 1\n",
    "        print(f\"❌ Incorrect password. Attempts left: {max_attempts - attempts}\")\n",
    "        time.sleep(2)\n",
    "\n",
    "if attempts == max_attempts:\n",
    "    print(\"🔒 Account locked due to too many failed attempts.\")\n"
   ]
  },
  {
   "cell_type": "markdown",
   "id": "a093e2bd-e8ac-4c93-9016-c3ccafa669a7",
   "metadata": {},
   "source": [
    "📝 Explanation:\n",
    "\n",
    "getpass() hides the password input so others can't see what you're typing."
   ]
  },
  {
   "cell_type": "markdown",
   "id": "74fdd78c-11b6-4802-b97e-2eae1d664e5b",
   "metadata": {},
   "source": [
    "# 📘Project: incrementalBackups\n",
    "This notebook will:\n",
    "\n",
    "Perform initial backup of a folder.\n",
    "\n",
    "Later perform incremental backups (only files that changed or are new).\n",
    "\n",
    "Use timestamps for versioning.\n",
    "\n",
    "Be organized step by step with markdown explanations.\n",
    "\n"
   ]
  },
  {
   "cell_type": "markdown",
   "id": "17c09fc4-461b-41b1-9e8b-ef9e238810cc",
   "metadata": {},
   "source": [
    "✅ Step 1: Title and Overview\n",
    "📘 Create a Markdown cell:\n",
    "\n",
    "markdown\n",
    "Copy\n",
    "Edit\n"
   ]
  },
  {
   "cell_type": "code",
   "execution_count": null,
   "id": "38a289f6-f27d-4ff4-8c76-67e2ab7aad9f",
   "metadata": {},
   "outputs": [],
   "source": [
    "# 💾 Project: Incremental Backups in Python\n",
    "\n",
    "This notebook implements a basic file backup system. The first backup copies all files. Future backups are incremental, meaning only new or changed files are copied.\n",
    "\n",
    "📦 Features:\n",
    "- Initial full backup\n",
    "- Subsequent incremental backups\n",
    "- Timestamp-based backup folders\n"
   ]
  },
  {
   "cell_type": "markdown",
   "id": "3f1c976a-d48a-447a-b4f1-1bbed3253e96",
   "metadata": {},
   "source": [
    "Step 2: Import Required Libraries\n",
    "📦 Create a code cell:"
   ]
  },
  {
   "cell_type": "code",
   "execution_count": null,
   "id": "d274d50d-ef48-4369-97c9-828a7cd7e3bb",
   "metadata": {},
   "outputs": [],
   "source": [
    "import os\n",
    "import shutil\n",
    "import time\n",
    "from datetime import datetime\n"
   ]
  },
  {
   "cell_type": "markdown",
   "id": "311314a9-5976-467e-9d16-2e318ce399f3",
   "metadata": {},
   "source": [
    " Explanation:\n",
    "\n",
    "os & shutil handle file system operations.\n",
    "\n",
    "time and datetime are used for timestamps.\n"
   ]
  },
  {
   "cell_type": "markdown",
   "id": "11bdc4aa-793d-4279-ab6b-9b3a5a193114",
   "metadata": {},
   "source": [
    " Step 3: Define Source and Backup Directory\n",
    "🧭 Create a code cell:"
   ]
  },
  {
   "cell_type": "code",
   "execution_count": null,
   "id": "e917d679-4d3c-4607-9bb4-493fed5ff78e",
   "metadata": {},
   "outputs": [],
   "source": [
    "# Define source directory (folder to back up)\n",
    "source_dir = \"source_folder\"\n",
    "\n",
    "# Define where backups will be stored\n",
    "backup_root = \"backups\"\n",
    "\n",
    "# Create backup directory if it doesn't exist\n",
    "os.makedirs(backup_root, exist_ok=True)\n"
   ]
  },
  {
   "cell_type": "markdown",
   "id": "ac294eef-e8c0-425d-a596-9592496a70a3",
   "metadata": {},
   "source": [
    "Tip: Replace \"source_folder\" with a real folder path."
   ]
  },
  {
   "cell_type": "markdown",
   "id": "52f01fb3-e4ab-4709-b84a-2b6821b959ae",
   "metadata": {},
   "source": [
    " Step 4: Create a Function to Perform Backup\n",
    "🛠️ Create a code cell:"
   ]
  },
  {
   "cell_type": "code",
   "execution_count": null,
   "id": "9d83e81d-07e2-41c1-a4d2-f37d5847bbae",
   "metadata": {},
   "outputs": [],
   "source": [
    "def perform_backup(source, backup_root):\n",
    "    # Use current time to name backup folder\n",
    "    timestamp = datetime.now().strftime(\"%Y%m%d_%H%M%S\")\n",
    "    backup_path = os.path.join(backup_root, f\"backup_{timestamp}\")\n",
    "    os.makedirs(backup_path)\n",
    "    \n",
    "    print(f\"📦 Creating backup at: {backup_path}\")\n",
    "    \n",
    "    # Perform backup\n",
    "    for root, dirs, files in os.walk(source):\n",
    "        for file in files:\n",
    "            src_path = os.path.join(root, file)\n",
    "            rel_path = os.path.relpath(src_path, source)\n",
    "            dst_path = os.path.join(backup_path, rel_path)\n",
    "\n",
    "            # Ensure destination directory exists\n",
    "            os.makedirs(os.path.dirname(dst_path), exist_ok=True)\n",
    "            shutil.copy2(src_path, dst_path)  # copy2 keeps metadata\n",
    "\n",
    "    print(\"✅ Backup complete.\\n\")\n",
    "    return backup_path\n"
   ]
  },
  {
   "cell_type": "markdown",
   "id": "7e0730ef-7760-4738-8dc2-6a00ec171039",
   "metadata": {},
   "source": [
    " Explanation:\n",
    "\n",
    "Backs up entire source folder into backup_root/backup_TIMESTAMP.\n",
    "\n",
    "shutil.copy2() preserves original file metadata."
   ]
  },
  {
   "cell_type": "markdown",
   "id": "e30ce06b-7a89-4f18-ae18-0dc82c689289",
   "metadata": {},
   "source": [
    "Step 5: Incremental Backup Function (Only Changed Files)\n",
    "Create a new code cell:"
   ]
  },
  {
   "cell_type": "code",
   "execution_count": null,
   "id": "28afcafb-a4f9-4aef-b9f7-493b5e1aa1db",
   "metadata": {},
   "outputs": [],
   "source": [
    "def perform_incremental_backup(source, backup_root):\n",
    "    # Get list of existing backups (sorted by time)\n",
    "    existing_backups = sorted(\n",
    "        [d for d in os.listdir(backup_root) if d.startswith(\"backup_\")]\n",
    "    )\n",
    "    \n",
    "    # Perform full backup if no previous backups\n",
    "    if not existing_backups:\n",
    "        print(\"🟡 No previous backups found. Performing full backup.\")\n",
    "        return perform_backup(source, backup_root)\n",
    "\n",
    "    # Last backup to compare against\n",
    "    last_backup = os.path.join(backup_root, existing_backups[-1])\n",
    "    \n",
    "    timestamp = datetime.now().strftime(\"%Y%m%d_%H%M%S\")\n",
    "    new_backup_path = os.path.join(backup_root, f\"backup_{timestamp}\")\n",
    "    os.makedirs(new_backup_path)\n",
    "\n",
    "    print(f\"🧮 Performing incremental backup. Comparing with: {last_backup}\")\n",
    "\n",
    "    for root, dirs, files in os.walk(source):\n",
    "        for file in files:\n",
    "            src_path = os.path.join(root, file)\n",
    "            rel_path = os.path.relpath(src_path, source)\n",
    "            last_backup_path = os.path.join(last_backup, rel_path)\n",
    "            new_file_path = os.path.join(new_backup_path, rel_path)\n",
    "\n",
    "            # Ensure destination directory exists\n",
    "            os.makedirs(os.path.dirname(new_file_path), exist_ok=True)\n",
    "\n",
    "            # Copy if file doesn't exist or is modified\n",
    "            if (not os.path.exists(last_backup_path) or\n",
    "                    os.path.getmtime(src_path) > os.path.getmtime(last_backup_path)):\n",
    "                shutil.copy2(src_path, new_file_path)\n",
    "                print(f\"🔄 Backed up changed file: {rel_path}\")\n",
    "\n",
    "    print(\"✅ Incremental backup complete.\\n\")\n",
    "    return new_backup_path\n"
   ]
  },
  {
   "cell_type": "markdown",
   "id": "87aa2334-9180-4cf5-a698-040e62ba4e2e",
   "metadata": {},
   "source": [
    " Explanation:\n",
    "\n",
    "Compares modification times to detect changes.\n",
    "\n",
    "Only backs up new/changed files compared to last backup."
   ]
  },
  {
   "cell_type": "code",
   "execution_count": null,
   "id": "a882ba35-c6e8-4fd7-a7b7-d35a9b09acb3",
   "metadata": {},
   "outputs": [],
   "source": [
    " Step 6: Run and Test\n",
    "Create a code cell to run a backup:"
   ]
  },
  {
   "cell_type": "code",
   "execution_count": null,
   "id": "4fd3f991-0b30-4fcb-919d-72ddaa6dbcb4",
   "metadata": {},
   "outputs": [],
   "source": [
    "# Run full or incremental backup\n",
    "perform_incremental_backup(source_dir, backup_root)\n"
   ]
  },
  {
   "cell_type": "code",
   "execution_count": null,
   "id": "48d30284-3386-4ed7-8647-f0796e804f55",
   "metadata": {},
   "outputs": [],
   "source": [
    " Step 7 (Optional): View Backup Folder Structure\n",
    "Add a helper function:"
   ]
  },
  {
   "cell_type": "code",
   "execution_count": null,
   "id": "6545d6cd-4717-43ed-8088-4903bc40080f",
   "metadata": {},
   "outputs": [],
   "source": [
    "def list_backups(backup_root):\n",
    "    print(\"📂 Available backups:\")\n",
    "    for folder in sorted(os.listdir(backup_root)):\n",
    "        print(\" -\", folder)\n",
    "\n",
    "list_backups(backup_root)\n"
   ]
  },
  {
   "cell_type": "markdown",
   "id": "c5507a0c-2fef-441d-b312-5de0276ae285",
   "metadata": {},
   "source": [
    "# Project: integerToStringOfFixedWidth\n",
    "This notebook will:\n",
    "\n",
    "Accept an integer and a desired width.\n",
    "\n",
    "Convert the integer to a string.\n",
    "\n",
    "Pad with leading zeros if it's too short.\n",
    "\n",
    "Trim digits from the left if it's too long.\n",
    "\n"
   ]
  },
  {
   "cell_type": "markdown",
   "id": "db04527c-a984-4095-8b48-2f54a4ccfa95",
   "metadata": {},
   "source": [
    "Step 1: Title and Description\n",
    "📗 Create a Markdown cell:\n",
    "\n",
    "markdown\n",
    "Copy\n",
    "Edit\n"
   ]
  },
  {
   "cell_type": "code",
   "execution_count": null,
   "id": "829dc251-e147-467a-9574-82133e505960",
   "metadata": {},
   "outputs": [],
   "source": [
    "# 🔢 Project: integerToStringOfFixedWidth\n",
    "\n",
    "This notebook converts an integer into a string with a fixed width. If the number has fewer digits than the required width, it adds leading zeros. If it has more digits, it trims the excess digits from the left.\n",
    "\n",
    "📌 Example:\n",
    "- Input: `num = 42`, `width = 5` → Output: `\"00042\"`\n",
    "- Input: `num = 123456`, `width = 4` → Output: `\"3456\"`\n"
   ]
  },
  {
   "cell_type": "markdown",
   "id": "79af04c0-8c3c-4613-ad08-a9bbc6f58bfc",
   "metadata": {},
   "source": [
    "🛠️ Step 2: Define the Function\n",
    "🔣 Create a code cell:"
   ]
  },
  {
   "cell_type": "code",
   "execution_count": null,
   "id": "9b6d6d14-b180-4753-9bbe-c1a797b5781e",
   "metadata": {},
   "outputs": [],
   "source": [
    "def integer_to_string_of_fixed_width(num, width):\n",
    "    \"\"\"\n",
    "    Converts an integer to a string with fixed width.\n",
    "    Pads with zeros or trims digits from the left if necessary.\n",
    "\n",
    "    Args:\n",
    "        num (int): The input number.\n",
    "        width (int): The desired width of the output string.\n",
    "\n",
    "    Returns:\n",
    "        str: A string representation of the number with fixed width.\n",
    "    \"\"\"\n",
    "    num_str = str(num)\n",
    "\n",
    "    if len(num_str) < width:\n",
    "        # Add leading zeros\n",
    "        return num_str.zfill(width)\n",
    "    elif len(num_str) > width:\n",
    "        # Trim digits from the left\n",
    "        return num_str[-width:]\n",
    "    else:\n",
    "        # Return as-is\n",
    "        return num_str\n"
   ]
  },
  {
   "cell_type": "markdown",
   "id": "4273e9f6-1cbb-439f-9bc1-be1a378f2823",
   "metadata": {},
   "source": [
    "📝 Explanation:\n",
    "\n",
    "str(num): Converts the number to a string.\n",
    "\n",
    "zfill(width): Pads with leading zeros.\n",
    "\n",
    "num_str[-width:]: Keeps the rightmost digits (trims from the left if needed).\n",
    "\n"
   ]
  },
  {
   "cell_type": "markdown",
   "id": "ff3f1671-18e7-4817-b25e-c69d67b71053",
   "metadata": {},
   "source": [
    " Step 3: Test the Function with Examples\n",
    "🧪 Create a code cell:\n"
   ]
  },
  {
   "cell_type": "code",
   "execution_count": null,
   "id": "8a58ef64-2265-425c-9093-792681d2efad",
   "metadata": {},
   "outputs": [],
   "source": [
    "# Test cases\n",
    "print(integer_to_string_of_fixed_width(42, 5))       # Output: '00042'\n",
    "print(integer_to_string_of_fixed_width(123456, 4))   # Output: '3456'\n",
    "print(integer_to_string_of_fixed_width(7, 3))        # Output: '007'\n",
    "print(integer_to_string_of_fixed_width(99999, 5))    # Output: '99999'\n",
    "print(integer_to_string_of_fixed_width(1234, 2))     # Output: '34'\n"
   ]
  },
  {
   "cell_type": "markdown",
   "id": "8b4d5d80-e124-4e15-a936-9551a2bdd476",
   "metadata": {},
   "source": [
    "📝 Explanation:\n",
    "\n",
    "Verifies both padding and trimming work correctly."
   ]
  },
  {
   "cell_type": "code",
   "execution_count": null,
   "id": "f0095cd5-53b3-4be2-8de8-6d20c1efd97f",
   "metadata": {},
   "outputs": [],
   "source": [
    "🧑‍💻 Step 4: Interactive Input (Optional)\n",
    "🖱️ Create a code cell:"
   ]
  },
  {
   "cell_type": "code",
   "execution_count": null,
   "id": "42995f0a-9f92-4b3c-8c21-a0f29511ec38",
   "metadata": {},
   "outputs": [],
   "source": [
    "# Optional user input\n",
    "num = int(input(\"Enter an integer: \"))\n",
    "width = int(input(\"Enter the desired width: \"))\n",
    "\n",
    "# Display the result\n",
    "result = integer_to_string_of_fixed_width(num, width)\n",
    "print(f\"Formatted result: {result}\")\n"
   ]
  },
  {
   "cell_type": "markdown",
   "id": "a725441f-f9fa-4288-a226-4dc9982d6700",
   "metadata": {},
   "source": [
    "📝 Explanation:\n",
    "\n",
    "Lets users test the function by entering values manually.\n",
    "\n"
   ]
  },
  {
   "cell_type": "markdown",
   "id": "a04ae0e1-d6c1-44fc-908d-6b0f7c6b0fe5",
   "metadata": {},
   "source": [
    "✅ For example:\n",
    "\n",
    "1230 → 1 + 2 = 3, and 3 + 0 = 3 → Lucky\n",
    "\n",
    "239017 → 2 + 3 + 9 = 14, and 0 + 1 + 7 = 8 → Not Lucky\n",
    "\n",
    "# 📘 Project: isLucky\n",
    "✅ Step 1: Title and Introduction\n",
    "📗 Create a Markdown cell:"
   ]
  },
  {
   "cell_type": "code",
   "execution_count": null,
   "id": "6a2c022f-6cdb-45a7-950a-e4fb69e4630b",
   "metadata": {},
   "outputs": [],
   "source": [
    " 🍀 Project: isLucky (Lucky Number Checker)\n",
    "\n",
    "This notebook checks if a number is \"lucky\", meaning the sum of the first half of its digits equals the sum of the second half.\n",
    "\n",
    "🔢 For example:\n",
    "- 1230 → 1+2 == 3+0 → ✅ Lucky\n",
    "- 239017 → 2+3+9 != 0+1+7 → ❌ Not Lucky\n"
   ]
  },
  {
   "cell_type": "markdown",
   "id": "1cc49d5c-638a-4cb4-9ce8-0d33ea5cdd2d",
   "metadata": {},
   "source": [
    "Step 2: Define the Function\n",
    "🔣 Create a code cell:"
   ]
  },
  {
   "cell_type": "code",
   "execution_count": null,
   "id": "95af916b-c802-4cc1-bcc0-46c335d1db17",
   "metadata": {},
   "outputs": [],
   "source": [
    "def is_lucky(number):\n",
    "    \"\"\"\n",
    "    Check if a number is lucky: the sum of the first half of digits equals the second half.\n",
    "\n",
    "    Args:\n",
    "        number (int or str): The number to check.\n",
    "\n",
    "    Returns:\n",
    "        bool: True if the number is lucky, False otherwise.\n",
    "    \"\"\"\n",
    "    num_str = str(number)\n",
    "    length = len(num_str)\n",
    "\n",
    "    # Ensure number has an even number of digits\n",
    "    if length % 2 != 0:\n",
    "        raise ValueError(\"Number must have an even number of digits.\")\n",
    "\n",
    "    half = length // 2\n",
    "    first_half = num_str[:half]\n",
    "    second_half = num_str[half:]\n",
    "\n",
    "    sum_first = sum(int(digit) for digit in first_half)\n",
    "    sum_second = sum(int(digit) for digit in second_half)\n",
    "\n",
    "    return sum_first == sum_second\n"
   ]
  },
  {
   "cell_type": "markdown",
   "id": "59e394df-f6c7-45e0-a2d4-4add1e0ff66a",
   "metadata": {},
   "source": [
    "📝 Explanation:\n",
    "\n",
    "Converts the number to a string for digit splitting.\n",
    "\n",
    "Validates that the number has an even number of digits.\n",
    "\n",
    "Compares the sum of the two halves."
   ]
  },
  {
   "cell_type": "markdown",
   "id": "29e24f0f-30de-46c2-a71a-3ff02ac0f094",
   "metadata": {},
   "source": [
    "Step 3: Test the Function\n",
    "Create a code cell with test cases:"
   ]
  },
  {
   "cell_type": "code",
   "execution_count": null,
   "id": "0015a0b4-9c25-43c9-b33c-f1fc143a2f38",
   "metadata": {},
   "outputs": [],
   "source": [
    "# Test cases\n",
    "print(is_lucky(1230))      # True\n",
    "print(is_lucky(239017))    # False\n",
    "print(is_lucky(\"562281\"))  # True\n",
    "print(is_lucky(\"001100\"))  # True\n",
    "print(is_lucky(\"123456\"))  # False\n"
   ]
  },
  {
   "cell_type": "markdown",
   "id": "c5785174-0c39-4b0a-a9d9-2d418ce36efa",
   "metadata": {},
   "source": [
    "📝 Explanation:\n",
    "\n",
    "Shows a variety of inputs to validate the logic.\n",
    "\n"
   ]
  },
  {
   "cell_type": "code",
   "execution_count": null,
   "id": "1a39af33-1d9d-481e-bb4f-84dab3e8c0e5",
   "metadata": {},
   "outputs": [],
   "source": [
    " Step 4: Add User Input (Optional)\n",
    "Create a code cell:\n",
    "\n"
   ]
  },
  {
   "cell_type": "code",
   "execution_count": null,
   "id": "5712803a-d1aa-43f1-804c-8709c6a4163c",
   "metadata": {},
   "outputs": [],
   "source": [
    "try:\n",
    "    user_input = input(\"Enter a number with even digits: \")\n",
    "    if is_lucky(user_input):\n",
    "        print(\"✅ Lucky Number!\")\n",
    "    else:\n",
    "        print(\"❌ Not a Lucky Number.\")\n",
    "except ValueError as ve:\n",
    "    print(f\"⚠️ Error: {ve}\")\n"
   ]
  },
  {
   "cell_type": "code",
   "execution_count": null,
   "id": "c790445a-6f58-49cc-9942-782bd88f5e1e",
   "metadata": {},
   "outputs": [],
   "source": [
    " Step 5: (Optional) Repeat Until Valid Input\n",
    "Create a loop to validate input length:"
   ]
  },
  {
   "cell_type": "code",
   "execution_count": null,
   "id": "bfbeab88-de65-496b-9262-1dd3073716a4",
   "metadata": {},
   "outputs": [],
   "source": [
    "while True:\n",
    "    user_input = input(\"Enter a number with even digits: \")\n",
    "    if len(user_input) % 2 != 0:\n",
    "        print(\"❗ Please enter a number with an even number of digits.\")\n",
    "    else:\n",
    "        break\n",
    "\n",
    "if is_lucky(user_input):\n",
    "    print(\"✅ Lucky Number!\")\n",
    "else:\n",
    "    print(\"❌ Not a Lucky Number.\")\n"
   ]
  },
  {
   "cell_type": "markdown",
   "id": "526a81e3-6b7e-4267-868d-3ccf30449d49",
   "metadata": {},
   "source": [
    "A tandem repeat means a string is made by repeating a substring twice.\n",
    "\n",
    "✅ Examples:\n",
    "\"abab\" → Yes, \"ab\" repeated twice.\n",
    "\n",
    "\"abcabc\" → Yes, \"abc\" repeated twice.\n",
    "\n",
    "\"aaaa\" → Yes, \"aa\" repeated twice.\n",
    "\n",
    "\"abcd\" → No, cannot be split into two equal halves with the same content.\n",
    "\n",
    "# 📘 Project: isTandemRepeat\n",
    "✅ Step 1: Title and Description\n",
    "📗 Create a Markdown cell:"
   ]
  },
  {
   "cell_type": "code",
   "execution_count": null,
   "id": "1625b2bc-605c-4923-9e69-d8150cf33470",
   "metadata": {},
   "outputs": [],
   "source": [
    "# 🔁 Project: isTandemRepeat\n",
    "\n",
    "This notebook checks whether a given string is a **tandem repeat**, meaning the string is formed by repeating a substring **exactly twice**.\n",
    "\n",
    "📌 Examples:\n",
    "- `\"abab\"` → ✅ Yes (`ab` + `ab`)\n",
    "- `\"abcabc\"` → ✅ Yes (`abc` + `abc`)\n",
    "- `\"abcd\"` → ❌ No\n"
   ]
  },
  {
   "cell_type": "markdown",
   "id": "31bf22d5-cbb8-4c64-863b-21cbfaa122ce",
   "metadata": {},
   "source": [
    " Step 2: Define the Function\n",
    "🛠️ Create a code cell:"
   ]
  },
  {
   "cell_type": "code",
   "execution_count": null,
   "id": "2d83dfff-aaaf-40a6-994f-27861622d340",
   "metadata": {},
   "outputs": [],
   "source": [
    "def is_tandem_repeat(s):\n",
    "    \"\"\"\n",
    "    Check if the string is a tandem repeat:\n",
    "    it must be made of two identical halves.\n",
    "\n",
    "    Args:\n",
    "        s (str): Input string\n",
    "\n",
    "    Returns:\n",
    "        bool: True if it's a tandem repeat, False otherwise\n",
    "    \"\"\"\n",
    "    n = len(s)\n",
    "\n",
    "    # If the length is odd, it can't be two equal halves\n",
    "    if n % 2 != 0:\n",
    "        return False\n",
    "\n",
    "    half = n // 2\n",
    "    return s[:half] == s[half:]\n"
   ]
  },
  {
   "cell_type": "code",
   "execution_count": null,
   "id": "132a7d48-103b-4feb-a806-73f2dcc34cca",
   "metadata": {},
   "outputs": [],
   "source": [
    " Explanation:\n",
    "\n",
    "A string of odd length can’t be split into two equal parts.\n",
    "\n",
    "Splits the string in half and compares both halves."
   ]
  },
  {
   "cell_type": "markdown",
   "id": "2c30e6b8-f5ad-44cd-9050-c2c187005fe8",
   "metadata": {},
   "source": [
    " Step 3: Test the Function with Examples\n",
    "Create a code cell:"
   ]
  },
  {
   "cell_type": "code",
   "execution_count": null,
   "id": "72c674cd-97da-4705-8b81-10114cff747d",
   "metadata": {},
   "outputs": [],
   "source": [
    "# Test cases\n",
    "print(is_tandem_repeat(\"abab\"))      # True\n",
    "print(is_tandem_repeat(\"abcabc\"))    # True\n",
    "print(is_tandem_repeat(\"abcd\"))      # False\n",
    "print(is_tandem_repeat(\"aaaa\"))      # True\n",
    "print(is_tandem_repeat(\"a\"))         # False\n",
    "print(is_tandem_repeat(\"\"))          # True (empty string is technically a repeat)"
   ]
  },
  {
   "cell_type": "markdown",
   "id": "c3a74ce6-0874-435d-b840-75cd3d94b8e2",
   "metadata": {},
   "source": [
    "Step 4: Add User Input (Optional)\n",
    "Create a code cell:"
   ]
  },
  {
   "cell_type": "code",
   "execution_count": null,
   "id": "f0ea41b0-147c-4e5d-8314-04cd706610da",
   "metadata": {},
   "outputs": [],
   "source": [
    "user_input = input(\"Enter a string to check if it's a tandem repeat: \")\n",
    "\n",
    "if is_tandem_repeat(user_input):\n",
    "    print(\"✅ Yes, it's a tandem repeat!\")\n",
    "else:\n",
    "    print(\"❌ No, it's not a tandem repeat.\")\n",
    "\n"
   ]
  },
  {
   "cell_type": "code",
   "execution_count": null,
   "id": "8de19f0d-b514-495e-a8ee-7ea06dfb998f",
   "metadata": {},
   "outputs": [],
   "source": [
    "Bonus: Visualize Halves (Optional Debug View)\n",
    "Create another code cell:"
   ]
  },
  {
   "cell_type": "code",
   "execution_count": null,
   "id": "f042df2f-6625-4a8d-acde-2e0a93d1f241",
   "metadata": {},
   "outputs": [],
   "source": [
    "def show_tandem_halves(s):\n",
    "    if len(s) % 2 != 0:\n",
    "        print(\"❌ Cannot split string into two equal parts.\")\n",
    "        return\n",
    "\n",
    "    half = len(s) // 2\n",
    "    print(f\"First half : '{s[:half]}'\")\n",
    "    print(f\"Second half: '{s[half:]}'\")\n",
    "    print(\"✅ Tandem repeat!\" if s[:half] == s[half:] else \"❌ Not a tandem repeat.\")\n",
    "\n",
    "# Try with an example\n",
    "show_tandem_halves(\"abcabc\")\n",
    "\n"
   ]
  },
  {
   "cell_type": "markdown",
   "id": "2ce97875-9d9e-4ad5-9abc-c374fb85119a",
   "metadata": {},
   "source": [
    "# 📘Project: launchSequenceChecker\n",
    "✅ Step 1: Add a Markdown Title\n",
    "📗 Create a Markdown cell:"
   ]
  },
  {
   "cell_type": "code",
   "execution_count": null,
   "id": "27b8d8e5-5a32-437f-be3d-1ee463a43178",
   "metadata": {},
   "outputs": [],
   "source": [
    "# 🚀 Project: launchSequenceChecker\n",
    "\n",
    "This notebook checks whether a launch sequence of systems is valid. Each system's launch steps must occur in strictly increasing order.\n",
    "\n",
    "📌 Input:\n",
    "- `systemNames`: List of strings\n",
    "- `stepNumbers`: List of integers (same length)\n",
    "\n",
    "✅ Valid if for each system, steps are strictly increasing.\n"
   ]
  },
  {
   "cell_type": "markdown",
   "id": "e728e671-15b1-49a6-bb0e-89bc96b5c36c",
   "metadata": {},
   "source": [
    "🧠 Step 2: Define the Function\n",
    "🔣 Create a code cell:"
   ]
  },
  {
   "cell_type": "code",
   "execution_count": null,
   "id": "80f3fa57-9693-44fe-a4a0-f3868785d1a6",
   "metadata": {},
   "outputs": [],
   "source": [
    "def launch_sequence_checker(system_names, step_numbers):\n",
    "    \"\"\"\n",
    "    Check whether each system's step numbers are strictly increasing.\n",
    "\n",
    "    Args:\n",
    "        system_names (list of str): List of system names.\n",
    "        step_numbers (list of int): List of step numbers (same length as system_names).\n",
    "\n",
    "    Returns:\n",
    "        bool: True if the sequence is valid, False otherwise.\n",
    "    \"\"\"\n",
    "    last_step = {}\n",
    "\n",
    "    for name, step in zip(system_names, step_numbers):\n",
    "        if name in last_step:\n",
    "            if step <= last_step[name]:\n",
    "                return False  # Not increasing\n",
    "        last_step[name] = step\n",
    "\n",
    "    return True\n"
   ]
  },
  {
   "cell_type": "code",
   "execution_count": null,
   "id": "1f19c6c6-6667-4563-9435-aaadf1197efc",
   "metadata": {},
   "outputs": [],
   "source": [
    "📝 Explanation:\n",
    "\n",
    "last_step dictionary tracks the most recent step for each system.\n",
    "\n",
    "Compares the current step to the last one.\n",
    "\n",
    "Returns False if the new step is not greater than the previous one."
   ]
  },
  {
   "cell_type": "markdown",
   "id": "95f352aa-2783-4420-8a8b-75eed904e7eb",
   "metadata": {},
   "source": [
    " Step 3: Test the Function\n",
    "🧪 Create a code cell:"
   ]
  },
  {
   "cell_type": "code",
   "execution_count": null,
   "id": "ca78b3c5-2d4d-4b7c-a1ae-40a299fde631",
   "metadata": {},
   "outputs": [],
   "source": [
    "# Example 1: Valid sequence\n",
    "systemNames1 = [\"A\", \"A\", \"B\", \"A\", \"B\"]\n",
    "stepNumbers1 = [1,   2,   1,   3,   2]\n",
    "print(launch_sequence_checker(systemNames1, stepNumbers1))  # True\n",
    "\n",
    "# Example 2: Invalid (B goes backward)\n",
    "systemNames2 = [\"A\", \"B\", \"B\", \"A\"]\n",
    "stepNumbers2 = [1,   2,   1,   3]\n",
    "print(launch_sequence_checker(systemNames2, stepNumbers2))  # False\n",
    "\n",
    "# Example 3: One system only\n",
    "systemNames3 = [\"X\", \"X\", \"X\"]\n",
    "stepNumbers3 = [1,   2,   3]\n",
    "print(launch_sequence_checker(systemNames3, stepNumbers3))  # True\n"
   ]
  },
  {
   "cell_type": "code",
   "execution_count": null,
   "id": "5be786df-93d0-4bff-a28b-84193c654026",
   "metadata": {},
   "outputs": [],
   "source": [
    "Step 4: Optional – Interactive Input\n",
    "Create a code cell for user input:"
   ]
  },
  {
   "cell_type": "code",
   "execution_count": null,
   "id": "b16bec95-641c-4df7-89a2-10024e72cb99",
   "metadata": {},
   "outputs": [],
   "source": [
    "# Optional: Get user input from terminal\n",
    "system_input = input(\"Enter system names separated by space: \").split()\n",
    "step_input = list(map(int, input(\"Enter step numbers separated by space: \").split()))\n",
    "\n",
    "if len(system_input) != len(step_input):\n",
    "    print(\"❗ Error: Lists must be of equal length.\")\n",
    "else:\n",
    "    if launch_sequence_checker(system_input, step_input):\n",
    "        print(\"✅ Launch sequence is valid.\")\n",
    "    else:\n",
    "        print(\"❌ Launch sequence is NOT valid.\")\n"
   ]
  },
  {
   "cell_type": "code",
   "execution_count": null,
   "id": "213cf5a5-b59b-449d-a9ed-db178fa18f71",
   "metadata": {},
   "outputs": [],
   "source": []
  }
 ],
 "metadata": {
  "kernelspec": {
   "display_name": "Python [conda env:base] *",
   "language": "python",
   "name": "conda-base-py"
  },
  "language_info": {
   "codemirror_mode": {
    "name": "ipython",
    "version": 3
   },
   "file_extension": ".py",
   "mimetype": "text/x-python",
   "name": "python",
   "nbconvert_exporter": "python",
   "pygments_lexer": "ipython3",
   "version": "3.12.7"
  }
 },
 "nbformat": 4,
 "nbformat_minor": 5
}
