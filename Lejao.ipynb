{
 "cells": [
  {
   "cell_type": "markdown",
   "id": "3d23e995-ff79-41e4-a444-a46da5abc63e",
   "metadata": {},
   "source": [
    "# Stephannie Jee Lejao"
   ]
  },
  {
   "cell_type": "markdown",
   "id": "fb46b8c7-6f22-4f90-863e-20b17ac282dc",
   "metadata": {},
   "source": [
    "* # sortByLength"
   ]
  },
  {
   "cell_type": "markdown",
   "id": "2af1bc31-4ca1-4dd2-93bd-0b2e96f39482",
   "metadata": {},
   "source": [
    "## Problem Description:\n",
    "Given an array of strings, sort them in the order of increasing lengths. If two strings have the same length, their relative order must be the same as in the initial array.\r\n",
    "\r\n",
    "Example\r\n",
    "\r\n",
    "For\r\n",
    "\r\n",
    "inputArray = [\"abc\", \"\", \"aaa\", \"a\", \"zz\"]\r\n",
    "\r\n",
    "the output should be\r\n",
    "\r\n",
    "sortByLength(inputArray) = [\"\", \"a\", \"zz\", \"abc\", \"aaa\"]\r\n",
    "\r\n",
    "Hints\r\n",
    "\r\n",
    "sort()\r\n",
    "Input/Output\r\n",
    "\r\n",
    "[execution time limit] 5 seconds (ts)\r\n",
    "[input] array.string inputArray\r\n",
    "A non-empty array of strings.\r\n",
    "\r\n",
    "Guaranteed constraints:\r\n",
    "\r\n",
    "3 ≤ inputArray.length ≤ 10, 0 ≤ inputArray[i].length ≤ 10.\r\n",
    "\r\n",
    "[output] array.string"
   ]
  },
  {
   "cell_type": "markdown",
   "id": "f2c44357-b603-4873-a736-54983e2436b3",
   "metadata": {},
   "source": [
    "## 🧠 Solution Strategy:\n",
    "1. Understanding the Goal:\n",
    "We want to sort strings based on their lengths in increasing order.\n",
    "\n",
    "If two strings have the same length, we must preserve their original order from the input.\n",
    "\n",
    "This behavior is known as stable sorting, where the relative order of equal elements is maintained.\n",
    "\n",
    "2. Why sorted() with key=len Works:\n",
    "The sorted() function in Python is stable by default.\n",
    "\n",
    "By specifying key=len, we tell sorted() to compare strings based on their lengths.\n",
    "\n",
    "Because it's stable, it keeps the order of elements with the same length unchanged from the input list."
   ]
  },
  {
   "cell_type": "markdown",
   "id": "170dd64f-f598-4cf5-849c-efc1f817d8db",
   "metadata": {},
   "source": [
    "## Solution Code:"
   ]
  },
  {
   "cell_type": "code",
   "execution_count": 2,
   "id": "4433c56f-2339-4379-a688-ce92f9f8c11f",
   "metadata": {},
   "outputs": [
    {
     "name": "stdout",
     "output_type": "stream",
     "text": [
      "Input:  ['abc', '', 'aaa', 'a', 'zz']\n",
      "Sorted by length:  ['', 'a', 'zz', 'abc', 'aaa']\n"
     ]
    }
   ],
   "source": [
    "def sortByLength(inputArray):\n",
    "    return sorted(inputArray, key=len)\n",
    "\n",
    "inputArray = [\"abc\", \"\", \"aaa\", \"a\", \"zz\"]\n",
    "\n",
    "sortedArray = sortByLength(inputArray)\n",
    "\n",
    "print(\"Input: \", inputArray)\n",
    "print(\"Sorted by length: \", sortedArray)\n"
   ]
  },
  {
   "cell_type": "markdown",
   "id": "8b9f4b7c-563d-4051-bf5c-292cd0fad367",
   "metadata": {},
   "source": [
    "## Test Case:\n"
   ]
  },
  {
   "cell_type": "code",
   "execution_count": 3,
   "id": "b001ffac-7420-4064-9ee9-27f9dabc11fa",
   "metadata": {},
   "outputs": [
    {
     "name": "stdout",
     "output_type": "stream",
     "text": [
      "['', 'a', 'zz', 'abc', 'aaa']\n"
     ]
    }
   ],
   "source": [
    "inputArray = [\"abc\", \"\", \"aaa\", \"a\", \"zz\"]\n",
    "print(sortByLength(inputArray))"
   ]
  },
  {
   "cell_type": "markdown",
   "id": "552c93e6-0e66-4c5a-89b7-6865a9abb9b1",
   "metadata": {},
   "source": [
    "* # squareDigitsSequence"
   ]
  },
  {
   "cell_type": "markdown",
   "id": "226ccb25-0694-43c4-9e1f-73475038ea04",
   "metadata": {},
   "source": [
    "## Problem Description:\n",
    "Consider a sequence of numbers a0, a1, ..., an, in which an element is equal to the sum of squared digits of the previous element. The sequence ends once an element that has already been in the sequence appears again.\n",
    "\n",
    "Given the first element a0, find the length of the sequence.\n",
    "\n",
    "Example\n",
    "\n",
    "For a0 = 16, the output should be squareDigitsSequence(a0) = 9.\n",
    "\n",
    "Here's how elements of the sequence are constructed:\n",
    "\n",
    "a0 = 16\n",
    "a1 = 1^2 + 6^2 = 37\n",
    "a2 = 3^2 + 7^2 = 58\n",
    "a3 = 5^2 + 8^2 = 89\n",
    "a4 = 8^2 + 9^2 = 145\n",
    "a5 = 1^2 + 4^2 + 52 = 42\n",
    "a6 = 4^2 + 2^2 = 20\n",
    "a7 = 2^2 + 0^2 = 4\n",
    "a8 = 4^2 = 1^6, which has already occurred before (a0)\n",
    "Thus, there are 9 elements in the sequence.\n",
    "\n",
    "For a0 = 103, the output should be squareDigitsSequence(a0) = 4.\n",
    "The sequence goes as follows: 103 -> 10 -> 1 -> 1, 4 elements altogether.\n",
    "\n",
    "Hints\n",
    "\n",
    "includes()\n",
    "push()\n",
    "toString()\n",
    "split()\n",
    "map()\n",
    "parseInt()\n",
    "reduce()\n",
    "Input/Output\n",
    "\n",
    "[execution time limit] 5 seconds (ts)\n",
    "[input] integer a0\n",
    "First element of a sequence, positive integer.\n",
    "\n",
    "Guaranteed constraints:\n",
    "\n",
    "1 ≤ a0 ≤ 650.\n",
    "\n",
    "[output] integer"
   ]
  },
  {
   "cell_type": "markdown",
   "id": "0cf84851-1bea-4540-9d32-a5d5e7b4a939",
   "metadata": {},
   "source": [
    "## 🧠 Solution Strategy\n",
    "📌 Problem Summary\n",
    "You are given a number a0, and must:\n",
    "\n",
    "Build a sequence where each number is the sum of the squares of the digits of the previous number.\n",
    "\n",
    "Stop once a number repeats (i.e. has already occurred in the sequence).\n",
    "\n",
    "Return the length of the sequence including the first repeated number.\n",
    "\n",
    "📍 Steps Used in Code:\n",
    "Initialize a set seen to track unique numbers that have appeared so far.\n",
    "\n",
    "Loop until repetition:\n",
    "\n",
    "- While the current number is not in the set, keep processing.\n",
    "\n",
    "- Add current number to the set.\n",
    "\n",
    "- Compute the next number by:\n",
    "\n",
    "- Converting the number to a string,\n",
    "\n",
    "- Squaring each digit,\n",
    "\n",
    "- Summing the squares."
   ]
  },
  {
   "cell_type": "markdown",
   "id": "c52b77ca-30b2-4f7d-bd4e-6e9cfc7e1d97",
   "metadata": {},
   "source": [
    "## Solution Code:"
   ]
  },
  {
   "cell_type": "code",
   "execution_count": 7,
   "id": "81e0c5cd-19c1-420f-8e5b-893f4d23332e",
   "metadata": {},
   "outputs": [
    {
     "name": "stdout",
     "output_type": "stream",
     "text": [
      "squareDigitsSequence(16) = 9\n"
     ]
    }
   ],
   "source": [
    "def squareDigitsSequence(a0):\n",
    "    seen = set()\n",
    "    current = a0\n",
    "\n",
    "    while current not in seen:\n",
    "        seen.add(current)\n",
    "        current = sum(int(digit) ** 2 for digit in str(current))\n",
    "\n",
    "    return len(seen) + 1  # Include the repeated value that causes the sequence to stop\n",
    "\n",
    "a0 = 16\n",
    "result = squareDigitsSequence(a0)\n",
    "print(f\"squareDigitsSequence({a0}) = {result}\")  # Expected: 9\n"
   ]
  },
  {
   "cell_type": "markdown",
   "id": "4dea8270-ac3c-4fa5-becd-86b9f8307cfd",
   "metadata": {},
   "source": [
    "## Test Case:"
   ]
  },
  {
   "cell_type": "code",
   "execution_count": 8,
   "id": "1a989f40-594c-439f-b082-316109d3fbbc",
   "metadata": {},
   "outputs": [
    {
     "name": "stdout",
     "output_type": "stream",
     "text": [
      "9\n"
     ]
    }
   ],
   "source": [
    "a0 = 16\n",
    "print(squareDigitsSequence(a0))  # Expected: 9\n"
   ]
  },
  {
   "cell_type": "markdown",
   "id": "08ef3537-79af-4144-afc4-d34a7dfecf79",
   "metadata": {},
   "source": [
    "* # stolenLunch"
   ]
  },
  {
   "cell_type": "markdown",
   "id": "1db4ef20-0db4-4aba-872c-e5d41a3ec20c",
   "metadata": {},
   "source": [
    "## Problem Description:"
   ]
  },
  {
   "cell_type": "markdown",
   "id": "7eea2f70-f8ae-4611-ac0f-961e3e7a7482",
   "metadata": {},
   "source": [
    "When you recently visited your little nephew, he told you a sad story: there's a bully at school who steals his lunch every day, and locks it away in his locker. He also leaves a note with a strange, coded message. Your nephew gave you one of the notes in hope that you can decipher it for him. And you did: it looks like all the digits in it are replaced with letters and vice versa. Digit 0 is replaced with 'a', 1 is replaced with 'b' and so on, with digit 9 replaced by 'j'.\r\n",
    "\r\n",
    "The note is different every day, so you decide to write a function that will decipher it for your nephew on an ongoing basis.\r\n",
    "\r\n",
    "Exa:mple For note = \"you'll n4v4r 6u4ss 8t: cdja\", the output should be stolenLunch(note) = \"you'll never guess it: 2390\".\r\n",
    "\r",
    ":\n",
    "Hints\r\n",
    "\r\n",
    "split()\r\n",
    "hasOwnProperty()\r\n",
    "Input/Output\r\n",
    "\r\n",
    "[execution time limit] 5 seconds (ts)\r\n",
    "[input] string note\r\n",
    "A string consisting of lowercase English letters, digits, punctuation marks and whitespace characters (' ').\r\n",
    "\r\n",
    "Guaranteed constraints:\r\n",
    "\r\n",
    "0 ≤ note.length ≤ 500.\r\n",
    "\r\n",
    "[output] string The deciphered note."
   ]
  },
  {
   "cell_type": "markdown",
   "id": "5d55e7e2-0d49-44ee-b443-36f35e3175c3",
   "metadata": {},
   "source": [
    "## Solution Strategy:\n",
    "✅ Problem Summary\n",
    "You are given a coded message where:\n",
    "\n",
    "Digits 0–9 are replaced with letters 'a'–'j'\n",
    "\n",
    "Letters 'a'–'j' are replaced with digits 0–9\n",
    "\n",
    "All other characters (punctuation, whitespace, other letters) remain unchanged\n",
    "\n",
    "✅ Strategy\n",
    "Create a translation dictionary:\n",
    "\n",
    "Map '0' → 'a', '1' → 'b', ..., '9' → 'j'\n",
    "\n",
    "And vice versa: 'a' → '0', 'b' → '1', ..., 'j' → '9'\n",
    "\n",
    "Iterate through each character in the string:\n",
    "\n",
    "If it's in the mapping, replace it\n",
    "\n",
    "Otherwise, keep the character unchanged\n",
    "\n",
    "Return the final decoded string"
   ]
  },
  {
   "cell_type": "markdown",
   "id": "8990b2b8-788a-433d-9cd5-c6b89849e7fc",
   "metadata": {},
   "source": [
    "## Solution Code:\n"
   ]
  },
  {
   "cell_type": "code",
   "execution_count": 10,
   "id": "ab6109f9-e2dc-47b7-8c92-fb3789456d8f",
   "metadata": {},
   "outputs": [
    {
     "name": "stdout",
     "output_type": "stream",
     "text": [
      "Decoded Note: you'll never guess it: 2390\n"
     ]
    }
   ],
   "source": [
    "def stolenLunch(note):\n",
    "    # Create mapping from digits to letters and vice versa\n",
    "    translation = {}\n",
    "    \n",
    "    # '0'-'9' → 'a'-'j'\n",
    "    for i in range(10):\n",
    "        digit = str(i)\n",
    "        letter = chr(ord('a') + i)\n",
    "        translation[digit] = letter\n",
    "        translation[letter] = digit\n",
    "\n",
    "    # Translate the note\n",
    "    result = ''.join(translation[c] if c in translation else c for c in note)\n",
    "    return result\n",
    "\n",
    "# ✅ Call the function and print the result\n",
    "note = \"you'll n4v4r 6u4ss 8t: cdja\"\n",
    "decoded = stolenLunch(note)\n",
    "print(\"Decoded Note:\", decoded)\n"
   ]
  },
  {
   "cell_type": "markdown",
   "id": "6e09c783-7ace-4bf9-a2c3-cf33eacdef08",
   "metadata": {},
   "source": [
    "## Test Case:"
   ]
  },
  {
   "cell_type": "code",
   "execution_count": 11,
   "id": "3dceaa05-3993-4aea-aed6-9e4e3c9094f1",
   "metadata": {},
   "outputs": [
    {
     "name": "stdout",
     "output_type": "stream",
     "text": [
      "you'll never guess it: 2390\n"
     ]
    }
   ],
   "source": [
    "note = \"you'll n4v4r 6u4ss 8t: cdja\"\n",
    "print(stolenLunch(note))\n"
   ]
  },
  {
   "cell_type": "markdown",
   "id": "773db49b-974b-41d9-83f8-ed45e5b2a144",
   "metadata": {},
   "source": [
    "* # stringsConstruction"
   ]
  },
  {
   "cell_type": "markdown",
   "id": "e0d17588-bbca-44e6-bd49-7de99fcefab8",
   "metadata": {},
   "source": [
    "## Problem Description:\n",
    "How many strings equal to a can be constructed using letters from the string b? Each letter can be used only once and in one string only.\r\n",
    "\r\n",
    "Example For a = \"abc\" and b = \"abccba\", the output should be stringsConstruction(a, b) = 2.\r\n",
    "\r\n",
    "We can construct 2 strings a with letters from b.\r\n",
    "\r\n",
    "Hints\r\n",
    "\r\n",
    "hasOwnProperty()\r\n",
    "push()\r\n",
    "Math.floor()\r\n",
    "Math.min()\r\n",
    "split()\r\n",
    "Input/Output\r\n",
    "\r\n",
    "[execution time limit] 5 seconds (ts)\r\n",
    "[input] string a\r\n",
    "String to construct, a contains only lowercase English letters.\r\n",
    "\r\n",
    "Guaranteed constraints:\r\n",
    "\r\n",
    "3 ≤ a.length ≤ 10.\r\n",
    "\r\n",
    "[input] string b\r\n",
    "String containing needed letters, b contains only lowercase English letters.\r\n",
    "\r\n",
    "Guaranteed constraints:\r\n",
    "\r\n",
    "3 ≤ b.length ≤ 50.\r\n",
    "\r\n",
    "[output] integer"
   ]
  },
  {
   "cell_type": "markdown",
   "id": "4550f5f3-2176-444f-a540-0dfe123e554c",
   "metadata": {},
   "source": [
    "## Solution Strategy:\n",
    "✅ Problem Summary\n",
    "You are given:\n",
    "\n",
    "A string a (template word to construct)\n",
    "\n",
    "A string b (pool of letters available)\n",
    "\n",
    "Goal: Find how many times you can fully construct a from the letters in b, where:\n",
    "\n",
    "Each letter can be used only once.\n",
    "\n",
    "Each instance of a must be complete.\n",
    "\n",
    "✅ Strategy\n",
    "Count character frequency in a → this tells us how many of each letter we need to make one copy of a.\n",
    "\n",
    "Count character frequency in b → this tells us how many of each letter we have available.\n",
    "\n",
    "For each letter in a, compute how many full copies can be made using b:\n",
    "\n",
    "python\n",
    "Copy\n",
    "Edit\n",
    "available_count // required_count\n",
    "The minimum of these values across all characters in a is the number of complete strings that can be made."
   ]
  },
  {
   "cell_type": "markdown",
   "id": "d0f1c53e-c551-48e5-b894-366cfcb3e9c8",
   "metadata": {},
   "source": [
    "## Solution Code:"
   ]
  },
  {
   "cell_type": "code",
   "execution_count": 15,
   "id": "a1862787-eb8d-405e-b410-0f428d8bc908",
   "metadata": {},
   "outputs": [
    {
     "name": "stdout",
     "output_type": "stream",
     "text": [
      "2\n"
     ]
    }
   ],
   "source": [
    "from collections import Counter\n",
    "\n",
    "def stringsConstruction(a, b):\n",
    "    # Count the frequency of characters in a and b\n",
    "    count_a = Counter(a)\n",
    "    count_b = Counter(b)\n",
    "    \n",
    "    # Initialize the minimum count to a very large value\n",
    "    min_count = float('inf')\n",
    "    \n",
    "    # Check how many times each character in a can be matched from b\n",
    "    for char in count_a:\n",
    "        # If char is in b, calculate how many times it can be used\n",
    "        if char in count_b:\n",
    "            min_count = min(min_count, count_b[char] // count_a[char])\n",
    "        else:\n",
    "            return 0  # If any required character is missing in b, return 0\n",
    "    \n",
    "    # Return the minimum count found\n",
    "    return min_count\n",
    "\n",
    "# Test case 1: Example from the problem\n",
    "a = \"abc\"\n",
    "b = \"abccba\"\n",
    "print(stringsConstruction(a, b))  # Expected Output: 2\n"
   ]
  },
  {
   "cell_type": "markdown",
   "id": "1abc4410-9169-45ef-9e23-abc2dbf7ab59",
   "metadata": {},
   "source": [
    "## Test Case:"
   ]
  },
  {
   "cell_type": "code",
   "execution_count": 17,
   "id": "c3dc19c5-1b6a-4bd7-9aaf-7628d05098d2",
   "metadata": {},
   "outputs": [
    {
     "name": "stdout",
     "output_type": "stream",
     "text": [
      "2\n"
     ]
    }
   ],
   "source": [
    "a = \"abc\"\n",
    "b = \"abccba\"\n",
    "print(stringsConstruction(a, b))"
   ]
  },
  {
   "cell_type": "markdown",
   "id": "49ef21f3-a7b5-4e68-bc8f-e1ec44256586",
   "metadata": {},
   "source": [
    "* # sumAllPrimes"
   ]
  },
  {
   "cell_type": "markdown",
   "id": "b8621cb6-7032-4804-af4b-77bb36f396d7",
   "metadata": {},
   "source": [
    "## Problem Description:\n",
    "Sum all the prime numbers up to and including the provided number.\r\n",
    "\r\n",
    "A prime number is defined as a number greater than one and having only two divisors, one and itself. For example, 2 is a prime number because it's only divisible by one and two.\r\n",
    "\r\n",
    "The provided number may not be a prime.\r\n",
    "\r\n",
    "Example\r\n",
    "\r\n",
    "sumAllPrimes(10) should return 17\r\n",
    "sumAllPrimes(977) should return 73156\r\n",
    "Hints\r\n",
    "\r\n",
    "push()\r\n",
    "reduce()"
   ]
  },
  {
   "cell_type": "markdown",
   "id": "ce82ea12-d475-40de-8232-80f441737fbe",
   "metadata": {},
   "source": [
    "## Solution Strategy:\n",
    "1. Prime Number Check:\n",
    "\n",
    "- For each number n, we need to check if it is divisible by any number other than 1 and itself. We can optimize the check by checking divisibility only up to the square root of n.\n",
    "\n",
    "2. Summing Primes:\n",
    "\n",
    "- Iterate through all numbers from 2 to n. For each number, check if it’s prime. If it is, add it to the running total.\n",
    "\n",
    "3. Edge Case: If n is less than 2, the sum should be 0 since there are no primes less than 2.\n",
    "\n",
    "- We can use the reduce function from Python to efficiently accumulate the sum of primes."
   ]
  },
  {
   "cell_type": "markdown",
   "id": "56fbe57d-8648-4231-afd8-759c03e39ebd",
   "metadata": {},
   "source": [
    "## Solution Code:"
   ]
  },
  {
   "cell_type": "code",
   "execution_count": 18,
   "id": "8b60c28f-9740-43bb-b57f-f46082444a5b",
   "metadata": {},
   "outputs": [
    {
     "name": "stdout",
     "output_type": "stream",
     "text": [
      "17\n",
      "73156\n"
     ]
    }
   ],
   "source": [
    "import math\n",
    "\n",
    "# Function to check if a number is prime\n",
    "def is_prime(n):\n",
    "    if n <= 1:\n",
    "        return False\n",
    "    if n == 2:\n",
    "        return True  # 2 is prime\n",
    "    if n % 2 == 0:\n",
    "        return False  # Even number greater than 2 is not prime\n",
    "    for i in range(3, int(math.sqrt(n)) + 1, 2):  # Check odd divisors up to sqrt(n)\n",
    "        if n % i == 0:\n",
    "            return False\n",
    "    return True\n",
    "\n",
    "# Function to sum all primes up to and including n using reduce\n",
    "from functools import reduce\n",
    "\n",
    "def sumAllPrimes(n):\n",
    "    # Using reduce to accumulate the sum of primes up to n\n",
    "    return reduce(lambda acc, num: acc + num if is_prime(num) else acc, range(2, n + 1), 0)\n",
    "\n",
    "# Test cases\n",
    "print(sumAllPrimes(10))   # Expected Output: 17\n",
    "print(sumAllPrimes(977))  # Expected Output: 73156\n"
   ]
  },
  {
   "cell_type": "markdown",
   "id": "8aa1e501-7aa7-480e-b90c-fb4c86624ce0",
   "metadata": {},
   "source": [
    "## Explanation of the Code:\n",
    "is_prime(n) function:\n",
    "\n",
    "We handle small cases directly (like checking if n is 2 or even).\n",
    "\n",
    "For numbers greater than 2, we loop from 3 to sqrt(n) to check if n is divisible by any odd number. If it's divisible, n is not prime.\n",
    "\n",
    "sumAllPrimes(n) function:\n",
    "\n",
    "We use reduce from the functools module to iterate over the numbers from 2 to n. For each number, we check if it is prime using the is_prime() function. If it is, we add it to the accumulated sum. If not, we skip it.\n",
    "\n",
    "Test cases:\n",
    "\n",
    "sumAllPrimes(10) returns 17 because the primes up to 10 are 2, 3, 5, 7, and their sum is 17.\n",
    "\n",
    "sumAllPrimes(977) returns 73156, which is the sum of all primes up to 977."
   ]
  },
  {
   "cell_type": "markdown",
   "id": "c6e5b1ce-4866-4171-88e9-a94124836024",
   "metadata": {},
   "source": [
    "## Test Case:"
   ]
  },
  {
   "cell_type": "code",
   "execution_count": 21,
   "id": "1ec208d5-05d7-45f9-805b-2a4150b2575f",
   "metadata": {},
   "outputs": [
    {
     "data": {
      "text/plain": [
       "73156"
      ]
     },
     "execution_count": 21,
     "metadata": {},
     "output_type": "execute_result"
    }
   ],
   "source": [
    "sumAllPrimes(10)   # Expected output: 17\n",
    "sumAllPrimes(977)  # Expected output: 73156"
   ]
  },
  {
   "cell_type": "markdown",
   "id": "9a8a2d90-3b5e-43a2-b6cb-79b952efeaaf",
   "metadata": {},
   "source": [
    "* # sumOddFibonacciNums"
   ]
  },
  {
   "cell_type": "markdown",
   "id": "8022376a-d3b2-4a87-99ed-6876dd085944",
   "metadata": {},
   "source": [
    "## Problem Description:\n",
    "Given a positive integer num, return the sum of all odd Fibonacci numbers that are less than or equal to num.\r\n",
    "\r\n",
    "The first two numbers in the Fibonacci sequence are 1 and 1. Every additional number in the sequence is the sum of the two previous numbers. The first six numbers of the Fibonacci sequence are 1, 1, 2, 3, 5 and 8.\r\n",
    "\r\n",
    "For example, sumFibs(10) should return 10 because all odd Fibonacci numbers less than or equal to 10 are 1, 1, 3, and 5.\r\n",
    "\r\n",
    "Example\r\n",
    "\r\n",
    "sumOddFibonacciNums(10) should return 10\r\n",
    "sumOddFibonacciNums(1000) should return 1785\r\n",
    "sumOddFibonacciNums(4000000) should return 4613732"
   ]
  },
  {
   "cell_type": "markdown",
   "id": "887129f7-1fbe-4e05-b3e6-62f2a2551d9d",
   "metadata": {},
   "source": [
    "## Solution Strategy:\n",
    "- Fibonacci Sequence Generation:\n",
    "\n",
    "The Fibonacci sequence starts with 1, 1, 2, 3, 5, 8, 13, .... Each number after the first two is the sum of the two preceding numbers.\n",
    "\n",
    "- Odd Fibonacci Numbers:\n",
    "\n",
    "We need to filter out the even Fibonacci numbers. The odd Fibonacci numbers will be added to the sum.\n",
    "\n",
    "- Stopping Condition:\n",
    "\n",
    "The Fibonacci sequence is generated until the numbers exceed the input num. Once a Fibonacci number is greater than num, we stop.\n",
    "\n",
    "- Efficient Calculation:\n",
    "\n",
    "We can generate Fibonacci numbers iteratively, checking if each number is odd and less than or equal to num. If it is, we add it to the sum.\n",
    "\n",
    "Steps:\n",
    "\n",
    "- Start with the first two Fibonacci numbers: 1 and 1.\n",
    "\n",
    "- Generate the next Fibonacci number by summing the last two.\n",
    "\n",
    "- Check if the number is odd and less than or equal to num.\n",
    "\n",
    "- Keep a running sum of odd Fibonacci numbers.\n",
    "\n",
    "- Stop once the Fibonacci number exceeds num.\n",
    "\n"
   ]
  },
  {
   "cell_type": "markdown",
   "id": "7631ea65-2fe0-46a3-8176-d4198816360e",
   "metadata": {},
   "source": [
    "## Solution Code:"
   ]
  },
  {
   "cell_type": "code",
   "execution_count": 22,
   "id": "fc84e92b-4a03-4621-b99f-92be83533c75",
   "metadata": {},
   "outputs": [
    {
     "name": "stdout",
     "output_type": "stream",
     "text": [
      "10\n",
      "1785\n",
      "4613732\n"
     ]
    }
   ],
   "source": [
    "def sumOddFibonacciNums(num):\n",
    "    # Start with the first two Fibonacci numbers\n",
    "    fib1, fib2 = 1, 1\n",
    "    total_sum = 0\n",
    "    \n",
    "    # Loop until the next Fibonacci number exceeds num\n",
    "    while fib1 <= num:\n",
    "        if fib1 % 2 != 0:  # Check if the Fibonacci number is odd\n",
    "            total_sum += fib1\n",
    "        fib1, fib2 = fib2, fib1 + fib2  # Generate the next Fibonacci number\n",
    "    \n",
    "    return total_sum\n",
    "\n",
    "# Test cases\n",
    "print(sumOddFibonacciNums(10))   # Expected Output: 10\n",
    "print(sumOddFibonacciNums(1000)) # Expected Output: 1785\n",
    "print(sumOddFibonacciNums(4000000)) # Expected Output: 4613732\n"
   ]
  },
  {
   "cell_type": "markdown",
   "id": "279edbd8-08be-4ace-b167-fe6fcdff3422",
   "metadata": {},
   "source": [
    "## Explanation of the Code:\n",
    "Initialization:\n",
    "\n",
    "We start with fib1 = 1 and fib2 = 1, which represent the first two Fibonacci numbers.\n",
    "\n",
    "total_sum is initialized to 0 and will hold the sum of odd Fibonacci numbers.\n",
    "\n",
    "Loop through Fibonacci Sequence:\n",
    "\n",
    "We generate Fibonacci numbers iteratively, with fib1 being the current Fibonacci number and fib2 being the next one.\n",
    "\n",
    "For each Fibonacci number, we check if it’s odd (fib1 % 2 != 0). If it is, we add it to total_sum.\n",
    "\n",
    "Generating Next Fibonacci Number:\n",
    "\n",
    "After processing the current Fibonacci number, we calculate the next Fibonacci number by updating fib1 and fib2 as follows:\n",
    "fib1 takes the value of fib2, and fib2 becomes the sum of the previous fib1 and fib2.\n",
    "\n",
    "Termination Condition:\n",
    "\n",
    "The loop terminates when fib1 exceeds the input num."
   ]
  },
  {
   "cell_type": "markdown",
   "id": "5addda3e-05d4-4f9b-a9a1-bdb2d126a386",
   "metadata": {},
   "source": [
    "## Test Cases:"
   ]
  },
  {
   "cell_type": "code",
   "execution_count": 24,
   "id": "3728a69f-b443-4ed4-b240-4bdf959d00a1",
   "metadata": {},
   "outputs": [
    {
     "data": {
      "text/plain": [
       "10"
      ]
     },
     "execution_count": 24,
     "metadata": {},
     "output_type": "execute_result"
    }
   ],
   "source": [
    "sumOddFibonacciNums(10)\n"
   ]
  },
  {
   "cell_type": "code",
   "execution_count": 25,
   "id": "0c760542-52c6-4b15-862c-4cbb47fd9236",
   "metadata": {},
   "outputs": [
    {
     "data": {
      "text/plain": [
       "1785"
      ]
     },
     "execution_count": 25,
     "metadata": {},
     "output_type": "execute_result"
    }
   ],
   "source": [
    "sumOddFibonacciNums(1000)\n"
   ]
  },
  {
   "cell_type": "code",
   "execution_count": 26,
   "id": "b034ed2d-6400-416b-baaf-b7104d5793d1",
   "metadata": {},
   "outputs": [
    {
     "data": {
      "text/plain": [
       "4613732"
      ]
     },
     "execution_count": 26,
     "metadata": {},
     "output_type": "execute_result"
    }
   ],
   "source": [
    "sumOddFibonacciNums(4000000)"
   ]
  },
  {
   "cell_type": "code",
   "execution_count": null,
   "id": "ea10f623-89c0-4d23-b238-135d76a9bff8",
   "metadata": {},
   "outputs": [],
   "source": []
  }
 ],
 "metadata": {
  "kernelspec": {
   "display_name": "Python 3 (ipykernel)",
   "language": "python",
   "name": "python3"
  },
  "language_info": {
   "codemirror_mode": {
    "name": "ipython",
    "version": 3
   },
   "file_extension": ".py",
   "mimetype": "text/x-python",
   "name": "python",
   "nbconvert_exporter": "python",
   "pygments_lexer": "ipython3",
   "version": "3.12.4"
  }
 },
 "nbformat": 4,
 "nbformat_minor": 5
}
