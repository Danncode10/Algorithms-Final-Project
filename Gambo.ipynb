{
 "cells": [
  {
   "cell_type": "markdown",
   "id": "53c3e981-35a4-4024-93b1-8b0276b2bdf6",
   "metadata": {},
   "source": [
    "# 1. First Not Repeating Character\n",
    "Problem: Find the first non-repeating character in a string.\n",
    "\n",
    "Solution:\n"
   ]
  },
  {
   "cell_type": "code",
   "execution_count": 7,
   "id": "5372d2e8-a92f-4727-b3bd-ddcf09fd7315",
   "metadata": {},
   "outputs": [
    {
     "name": "stdout",
     "output_type": "stream",
     "text": [
      "c\n",
      "_\n"
     ]
    }
   ],
   "source": [
    "def firstNotRepeatingCharacter(s):\n",
    "    char_count = {}\n",
    "    for char in s:\n",
    "        char_count[char] = char_count.get(char, 0) + 1\n",
    "    for char in s:\n",
    "        if char_count[char] == 1:\n",
    "            return char\n",
    "    return '_'\n",
    "\n",
    "print(firstNotRepeatingCharacter(\"abacabad\"))  # Output: \"c\"\n",
    "print(firstNotRepeatingCharacter(\"abcabc\"))  # Output: \"_\""
   ]
  },
  {
   "cell_type": "markdown",
   "id": "7d2213d1-f851-4214-b5db-d13b67fba23e",
   "metadata": {},
   "source": [
    "Explanation:\n",
    "- Counts occurrences of each character.\n",
    "- Returns the first character with a count of 1.\n"
   ]
  },
  {
   "cell_type": "markdown",
   "id": "e5072a78-ac07-4a9c-bdb9-6f6c39a55f93",
   "metadata": {},
   "source": [
    "# 2. Flatten Array\n",
    "Problem: Convert a nested list into a single-level list.\n",
    "\n",
    "Solution:"
   ]
  },
  {
   "cell_type": "code",
   "execution_count": 8,
   "id": "ce87b1f1-9750-41ad-9c6c-ab6cf3f51b5d",
   "metadata": {},
   "outputs": [
    {
     "name": "stdout",
     "output_type": "stream",
     "text": [
      "[1, 2, 3, 4, 5, 6]\n"
     ]
    }
   ],
   "source": [
    "def flattenArray(arr):\n",
    "    flat_list = []\n",
    "    for item in arr:\n",
    "        if isinstance(item, list):\n",
    "            flat_list.extend(flattenArray(item))\n",
    "        else:\n",
    "            flat_list.append(item)\n",
    "    return flat_list\n",
    "\n",
    "print(flattenArray([1, [2, [3, 4], 5], 6]))  # Output: [1, 2, 3, 4, 5, 6]"
   ]
  },
  {
   "cell_type": "markdown",
   "id": "14fdda94-1e0f-459c-98c4-3f2ad5751283",
   "metadata": {},
   "source": [
    "Explanation:\n",
    "- Uses recursion to flatten nested lists."
   ]
  },
  {
   "cell_type": "markdown",
   "id": "7cf8eaf5-0a05-4e89-b186-c9708622bc3d",
   "metadata": {},
   "source": [
    "# 3. Growing Plant\n",
    "Problem: A plant grows upSpeed each day and shrinks downSpeed at night. Find how many days it takes to reach desiredHeight.\n",
    "\n",
    "Solution:\n"
   ]
  },
  {
   "cell_type": "code",
   "execution_count": 9,
   "id": "dfdcff85-11c9-460c-9f8f-440cbf8e9728",
   "metadata": {},
   "outputs": [
    {
     "name": "stdout",
     "output_type": "stream",
     "text": [
      "10\n"
     ]
    }
   ],
   "source": [
    "def growingPlant(upSpeed, downSpeed, desiredHeight):\n",
    "    height = 0\n",
    "    days = 0\n",
    "    while height < desiredHeight:\n",
    "        days += 1\n",
    "        height += upSpeed\n",
    "        if height >= desiredHeight:\n",
    "            return days\n",
    "        height -= downSpeed\n",
    "    return days\n",
    "\n",
    "print(growingPlant(100, 10, 910))  # Output: 10"
   ]
  },
  {
   "cell_type": "markdown",
   "id": "9fcf9c1b-b508-46d8-96b5-b3474a806ac1",
   "metadata": {},
   "source": [
    "Explanation:\n",
    "- Simulates daily growth and nightly shrinkage"
   ]
  },
  {
   "cell_type": "markdown",
   "id": "3557c531-c6fa-494d-8fe6-8540423c5024",
   "metadata": {},
   "source": [
    "# 4. House Numbers Sum\n",
    "Problem: Given a list of house numbers, sum them until reaching 0.\n",
    "\n",
    "Solution:"
   ]
  },
  {
   "cell_type": "code",
   "execution_count": 10,
   "id": "010b3f44-8b98-42dd-ade1-30f3591ff1d0",
   "metadata": {},
   "outputs": [
    {
     "name": "stdout",
     "output_type": "stream",
     "text": [
      "11\n"
     ]
    }
   ],
   "source": [
    "def houseNumbersSum(numbers):\n",
    "    total = 0\n",
    "    for num in numbers:\n",
    "        if num == 0:\n",
    "            break\n",
    "        total += num\n",
    "    return total\n",
    "\n",
    "print(houseNumbersSum([5, 1, 2, 3, 0, 4, 5]))  # Output: 11"
   ]
  },
  {
   "cell_type": "markdown",
   "id": "7ef73a6c-bad7-430c-8b3e-95b5e46b5320",
   "metadata": {},
   "source": [
    "Explanation:\n",
    "- Iterates through numbers, summing until encountering 0."
   ]
  },
  {
   "cell_type": "markdown",
   "id": "9ad81aec-ca85-4b3f-98ee-da85619ce26f",
   "metadata": {},
   "source": [
    "# 5. House of Cats\n",
    "Problem: Given a number of legs, determine possible numbers of people (2 legs each) and cats (4 legs each).\n",
    "\n",
    "Solution:\n"
   ]
  },
  {
   "cell_type": "code",
   "execution_count": 11,
   "id": "22d0d4f0-dc78-493f-baed-ceac7bd3ee09",
   "metadata": {},
   "outputs": [
    {
     "name": "stdout",
     "output_type": "stream",
     "text": [
      "[1, 3]\n",
      "[0, 2, 4]\n"
     ]
    }
   ],
   "source": [
    "def houseOfCats(legs):\n",
    "    return [humans for humans in range(legs // 2 + 1) if (legs - humans * 2) % 4 == 0]\n",
    "\n",
    "print(houseOfCats(6))  # Output: [0, 3]\n",
    "print(houseOfCats(8))  # Output: [0, 2, 4]"
   ]
  },
  {
   "cell_type": "markdown",
   "id": "26389c19-f7c2-4a5f-8ce3-9d48e8e0ce4a",
   "metadata": {},
   "source": [
    "Explanation:\n",
    "- Finds valid combinations of humans (2 legs) and cats (4 legs)."
   ]
  },
  {
   "cell_type": "markdown",
   "id": "c9458342-3ff8-4607-9905-92d5ec34e70d",
   "metadata": {},
   "source": [
    "# 6. HTML End Tag by Start Tag\n",
    "Problem: Given an HTML start tag, return its corresponding end tag.\n",
    "\n",
    "Solution:\n"
   ]
  },
  {
   "cell_type": "code",
   "execution_count": 12,
   "id": "d10d442a-08e0-452c-9eed-14abdbaf9ad2",
   "metadata": {},
   "outputs": [
    {
     "name": "stdout",
     "output_type": "stream",
     "text": [
      "</button>\n"
     ]
    }
   ],
   "source": [
    "def htmlEndTagByStartTag(startTag):\n",
    "    return f\"</{startTag.split()[0][1:]}>\"\n",
    "\n",
    "print(htmlEndTagByStartTag(\"<button type='button'>\"))  # Output: \"</button>\""
   ]
  },
  {
   "cell_type": "markdown",
   "id": "e43c2669-d52a-4034-80f6-e3e2719851b0",
   "metadata": {},
   "source": [
    "Explanation:\n",
    "- Extracts the tag name and formats it as an end tag."
   ]
  },
  {
   "cell_type": "code",
   "execution_count": null,
   "id": "44f1abea-4184-4cce-ae82-3fd1abeb9157",
   "metadata": {},
   "outputs": [],
   "source": []
  }
 ],
 "metadata": {
  "kernelspec": {
   "display_name": "Python 3 (ipykernel)",
   "language": "python",
   "name": "python3"
  },
  "language_info": {
   "codemirror_mode": {
    "name": "ipython",
    "version": 3
   },
   "file_extension": ".py",
   "mimetype": "text/x-python",
   "name": "python",
   "nbconvert_exporter": "python",
   "pygments_lexer": "ipython3",
   "version": "3.12.7"
  }
 },
 "nbformat": 4,
 "nbformat_minor": 5
}
