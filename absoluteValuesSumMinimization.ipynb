{
 "cells": [
  {
   "cell_type": "markdown",
   "id": "c504a577-ce10-4a4a-ad51-56f3bd99252f",
   "metadata": {},
   "source": [
    "# Algorithms Final Projects\n",
    "**Lester Dann G. Lopez**  \n",
    "**Algorithms and Complexities**  \n",
    "---\n",
    "\n",
    "### **Task**\n",
    "---\n"
   ]
  },
  {
   "cell_type": "markdown",
   "id": "eaf06326-e4fd-4d31-861b-933e44a492e8",
   "metadata": {},
   "source": [
    "\n",
    "Given a sorted array of integers a, find an integer x from a such that the value of\n",
    "\n",
    "    abs(a[0] - x) + abs(a[1] - x) + ... + abs(a[a.length - 1] - x)\n",
    "is the smallest possible (here abs denotes the absolute value).\n",
    "If there are several possible answers, output the smallest one.\n",
    "\n",
    "**Example**\n",
    "\n",
    "For a = [2, 4, 7], the output should be\n",
    "absoluteValuesSumMinimization(a) = 4.\n",
    "\n",
    "For a = [2, 4, 7, 6], the output should be\n",
    "absoluteValuesSumMinimization(a) = 4.\n",
    "\n",
    "For a = [2, 4, 7, 6, 6], the output should be\n",
    "absoluteValuesSumMinimization(a) = 7.\n",
    "\n",
    "For a = [2, 4, 7, 6, 6, 8], the output should be\n",
    "absoluteValuesSumMinimization(a) = 7.\n",
    "\n",
    "**Hints**\n",
    "-   Math.floor()\n",
    "\n",
    "**Input/Output**\n",
    "\n",
    "- **[time limit] 4000ms (js)**\n",
    "- **[input] array.integer a**\n",
    "\n",
    "A non-empty array of integers, sorted in ascending order.\n",
    "\n",
    "*Guaranteed constraints:*\n",
    "\n",
    "1 ≤ a.length ≤ 200,\n",
    "\n",
    "-106 ≤ a[i] ≤ 106.\n",
    "\n",
    "- **[output] integer**\n",
    "\n",
    "### **Answer**\n",
    "---"
   ]
  },
  {
   "cell_type": "code",
   "execution_count": 1,
   "id": "7d9ad868-9326-4763-9641-6cc7b12fbc33",
   "metadata": {},
   "outputs": [
    {
     "name": "stdout",
     "output_type": "stream",
     "text": [
      "7\n"
     ]
    }
   ],
   "source": [
    "\n",
    "class Solution:\n",
    "    def absoluteValuesSumMinimization(self, a):\n",
    "        n = len(a)\n",
    "        index = ( n // 2 )\n",
    "\n",
    "        if n % 2 == 0: # If length is even\n",
    "            index -= 1\n",
    "\n",
    "        return a[index]\n",
    "\n",
    "\n",
    "# ------ TEST ------#\n",
    "ans = Solution()\n",
    "a = [2, 4, 7, 6, 6, 8]\n",
    "print(ans.absoluteValuesSumMinimization(a))\n",
    "\n"
   ]
  },
  {
   "cell_type": "markdown",
   "id": "2e28db08-ee55-4bd9-8e41-c04984bdc37f",
   "metadata": {},
   "source": [
    "Mathematically, this sum is minimized when `x` is the **median** of the array. Here's why:\n",
    "\n",
    "* The absolute deviation is minimized at the **median** because it balances the values on either side.\n",
    "* If the array has an **odd** length, the median is the exact middle value.\n",
    "* If the array has an **even** length, there are two middle candidates; any value between them minimizes the sum, but since the problem asks for the **smallest possible** such `x`, you return the **lower median**.\n",
    "\n",
    "Your code correctly implements this logic:\n",
    "\n",
    "* It computes the middle index.\n",
    "* If the array has an even number of elements, it adjusts to the lower of the two middle indices.\n",
    "* It returns the value at that index.\n",
    "\n",
    "---\n",
    "\n",
    "### 🔧 Assumption\n",
    "\n",
    "The input array `a` is already **sorted in ascending order**, as stated in the problem. If it wasn’t, you would need to sort it first with `a.sort()`.\n"
   ]
  },
  {
   "cell_type": "code",
   "execution_count": null,
   "id": "c6f04c18-6dd7-434b-8312-5bbbbb450bd2",
   "metadata": {},
   "outputs": [],
   "source": []
  }
 ],
 "metadata": {
  "kernelspec": {
   "display_name": "Python 3 (ipykernel)",
   "language": "python",
   "name": "python3"
  },
  "language_info": {
   "codemirror_mode": {
    "name": "ipython",
    "version": 3
   },
   "file_extension": ".py",
   "mimetype": "text/x-python",
   "name": "python",
   "nbconvert_exporter": "python",
   "pygments_lexer": "ipython3",
   "version": "3.12.9"
  }
 },
 "nbformat": 4,
 "nbformat_minor": 5
}
