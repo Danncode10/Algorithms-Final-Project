{
 "cells": [
  {
   "cell_type": "markdown",
   "id": "b04cf6b6-da7e-4c04-9bbd-e07b0ce3494e",
   "metadata": {},
   "source": [
    "# Final project \n",
    "## Shem louise S. Calado \n",
    "# BSCS 2-B \n"
   ]
  },
  {
   "cell_type": "markdown",
   "id": "a10f3bd9-a15c-4502-b7b1-44af7399ebc9",
   "metadata": {},
   "source": [
    "# 🧮 `characterParity` — Easy Explanation\n",
    "\n",
    "## 🔍 What does it do?\n",
    "\n",
    "The `characterParity` function determines the parity (even or odd) of a given character. It checks whether the character is a digit and, if so, whether it's an even or odd number. If the character is not a digit, it returns `\"not a digit\"`.\n",
    "\n",
    "---\n",
    "\n",
    "## ✅ How It Works\n",
    "\n",
    "1. **Check if Character is a Digit**: The function uses the `isdigit()` method to check if the character is a digit.\n",
    "2. **Check Parity**:\n",
    "   - If it's a digit, it checks if the digit is even or odd:\n",
    "     - **Even**: The function returns `\"even\"`.\n",
    "     - **Odd**: The function returns `\"odd\"`.\n",
    "3. **Non-Digit Case**: If the character isn't a digit, the function returns `\"not a digit\"`.\n",
    "\n",
    "---\n",
    "\n",
    "## 🧾 Python Code\n",
    "\n",
    " ## ```python\n",
    "def characterParity(char):\n",
    "    if char.isdigit():  # Check if the character is a digit\n",
    "        if int(char) % 2 == 0:\n",
    "            return \"even\"  # If the digit is even\n",
    "        else:\n",
    "            return \"odd\"  # If the digit is odd\n",
    "    else:\n",
    "        return \"not a digit\"  # If the character is not a digit\n",
    "\n",
    "# Example 1\n",
    "char1 = '8'\n",
    "print(f\"Character: {char1} | Parity: {characterParity(char1)}\")\n",
    "\n",
    "# Example 2\n",
    "char2 = '5'\n",
    "print(f\"Character: {char2} | Parity: {characterParity(char2)}\")\n",
    "\n",
    "# Example 3\n",
    "char3 = 'a'\n",
    "print(f\"Character: {char3} | Parity: {characterParity(char3)}\")\n"
   ]
  },
  {
   "cell_type": "code",
   "execution_count": 11,
   "id": "b05fcc5b-54a8-45c2-aca9-5e785545ef8c",
   "metadata": {},
   "outputs": [
    {
     "name": "stdout",
     "output_type": "stream",
     "text": [
      "Character: 8 | Parity: even\n",
      "Character: 5 | Parity: odd\n",
      "Character: a | Parity: not a digit\n"
     ]
    }
   ],
   "source": [
    "def characterParity(char):\n",
    "    if char.isdigit():  # Check if the character is a digit\n",
    "        if int(char) % 2 == 0:\n",
    "            return \"even\"  # If the digit is even\n",
    "        else:\n",
    "            return \"odd\"  # If the digit is odd\n",
    "    else:\n",
    "        return \"not a digit\"  # If the character is not a digit\n",
    "\n",
    "# Example 1\n",
    "char1 = '8'\n",
    "print(f\"Character: {char1} | Parity: {characterParity(char1)}\")\n",
    "\n",
    "# Example 2\n",
    "char2 = '5'\n",
    "print(f\"Character: {char2} | Parity: {characterParity(char2)}\")\n",
    "\n",
    "# Example 3\n",
    "char3 = 'a'\n",
    "print(f\"Character: {char3} | Parity: {characterParity(char3)}\")\n"
   ]
  },
  {
   "cell_type": "markdown",
   "id": "2afd4f7e-a3eb-4e2c-8e8d-d924ee58f0de",
   "metadata": {},
   "source": [
    "# 🔁 `checkPalindrome` — Python Function Explanation\r\n",
    "\r\n",
    "## 📌 What is a Palindrome?\r\n",
    "A **palindrome** is a string that reads the same **forwards and backwards**.\r\n",
    "\r\n",
    "Examples:\r\n",
    "- ✅ `madam` → Palindrome\r\n",
    "- ✅ `racecar` → Palindrome\r\n",
    "- ❌ `hello` → Not a palindrome\r\n",
    "\r\n",
    "---\r\n",
    "\r\n",
    "## 💡 Function Purpose\r\n",
    "\r\n",
    "The `checkPalindrome` function checks if a given string is a **palindrome**.\r\n",
    "\r\n",
    "---\r\n",
    "\r\n",
    "## 🧠 How the Code Works\r\n",
    "\r\n",
    "```python\r\n",
    "def checkPalindrome(inputString):\r\n",
    "    return inputString == inputString[::-1]\r\n"
   ]
  },
  {
   "cell_type": "code",
   "execution_count": 13,
   "id": "6f8441a8-32d8-4523-a25a-2e2df223d941",
   "metadata": {},
   "outputs": [
    {
     "name": "stdout",
     "output_type": "stream",
     "text": [
      "Input: 'radar'     --> True\n",
      "Input: 'hello'     --> False\n",
      "Input: 'level'     --> True\n",
      "Input: 'madam'     --> True\n"
     ]
    }
   ],
   "source": [
    "def checkPalindrome(inputString):\n",
    "    \"\"\"\n",
    "    Returns True if the input string is a palindrome, False otherwise.\n",
    "    A palindrome reads the same forward and backward.\n",
    "    \"\"\"\n",
    "    return inputString == inputString[::-1]\n",
    "\n",
    "# Test examples\n",
    "print(\"Input: 'radar'     -->\", checkPalindrome(\"radar\"))      # True\n",
    "print(\"Input: 'hello'     -->\", checkPalindrome(\"hello\"))      # False\n",
    "print(\"Input: 'level'     -->\", checkPalindrome(\"level\"))      # True\n",
    "print(\"Input: 'madam'     -->\", checkPalindrome(\"madam\"))      # True\n"
   ]
  },
  {
   "cell_type": "markdown",
   "id": "e94acbd3-9338-4609-a8aa-9325f69ca31c",
   "metadata": {},
   "source": [
    "# ♟️ `chessBoardCellColor` — Python Function Explanation\r\n",
    "\r\n",
    "## 🎯 Objective\r\n",
    "\r\n",
    "Determine if two cells on a standard 8×8 chessboard are of the **same color**.\r\n",
    "\r\n",
    "Chessboard coloring:\r\n",
    "- Cells alternate between **black** and **white**.\r\n",
    "- Cell \"A1\" is always **black**.\r\n",
    "- Coloring follows a checkerboard pattern.\r\n",
    "\r\n",
    "---\r\n",
    "\r\n",
    "## 🧠 Logic Breakdown\r\n",
    "\r\n",
    "### Step 1: Determine the Color of a Cell\r\n",
    "\r\n",
    "Each cell on the chessboard has:\r\n",
    "- A **column letter** (`A` to `H`)\r\n",
    "- A **row number** (`1` to `8`)\r\n",
    "\r\n",
    "The color of a cell can be determined by:\r\n",
    "```python\r\n",
    "(column index + row index) % 2\r\n"
   ]
  },
  {
   "cell_type": "code",
   "execution_count": 16,
   "id": "80fa5664-db74-408c-9383-6e1711d6e71e",
   "metadata": {},
   "outputs": [
    {
     "name": "stdout",
     "output_type": "stream",
     "text": [
      "Input: 'A1', 'C3'  --> True\n",
      "Input: 'A1', 'H3'  --> False\n",
      "Input: 'B2', 'D4'  --> True\n",
      "Input: 'G5', 'E7'  --> True\n"
     ]
    }
   ],
   "source": [
    "def chessBoardCellColor(cell1, cell2):\n",
    "    def cell_color(cell):\n",
    "        column = ord(cell[0]) - ord('A')  # 'A' -> 0, 'B' -> 1, etc.\n",
    "        row = int(cell[1]) - 1            # '1' -> 0, '2' -> 1, etc.\n",
    "        return (column + row) % 2         # 0 for white, 1 for black\n",
    "\n",
    "    return cell_color(cell1) == cell_color(cell2)\n",
    "\n",
    "# Test examples\n",
    "print(\"Input: 'A1', 'C3'  -->\", chessBoardCellColor(\"A1\", \"C3\"))  # True (same color)\n",
    "print(\"Input: 'A1', 'H3'  -->\", chessBoardCellColor(\"A1\", \"H3\"))  # False (different color)\n",
    "print(\"Input: 'B2', 'D4'  -->\", chessBoardCellColor(\"B2\", \"D4\"))  # True (same color)\n",
    "print(\"Input: 'G5', 'E7'  -->\", chessBoardCellColor(\"G5\", \"E7\"))  # True (same color)\n"
   ]
  },
  {
   "cell_type": "markdown",
   "id": "45e0ce37-12a4-4132-8403-b5cdcd456854",
   "metadata": {},
   "source": [
    "# 🍌 `chunkyMonkey` — Python Function Explanation\n",
    "\n",
    "## 🧩 Problem\n",
    "\n",
    "Write a function that splits an array (`arr`) into groups (chunks) of a given length (`size`).\n",
    "\n",
    "---\n",
    "\n",
    "## 🧠 How It Works\n",
    "\n",
    "We want to divide a list into smaller sublists (chunks), each with a specified number of elements.\n",
    "\n",
    "### Logic:\n",
    "\n",
    "- Loop through the list from index `0` to `len(arr)`, increasing the index by `size` each time.\n",
    "- On each iteration, use **list slicing** to extract `size` number of elements:\n",
    "  ```python\n",
    "  arr[i:i + size]\n"
   ]
  },
  {
   "cell_type": "code",
   "execution_count": 23,
   "id": "93bbc899-9e78-44f0-82e2-430917ecc914",
   "metadata": {},
   "outputs": [
    {
     "name": "stdout",
     "output_type": "stream",
     "text": [
      "Test 1:\n",
      "Input: [1, 2, 3, 4, 5], size = 2\n",
      "Output: [[1, 2], [3, 4], [5]]\n",
      "\n",
      "Test 2:\n",
      "Input: ['a', 'b', 'c', 'd'], size = 3\n",
      "Output: [['a', 'b', 'c'], ['d']]\n",
      "\n",
      "Test 3:\n",
      "Input: [0, 1, 2, 3, 4, 5], size = 4\n",
      "Output: [[0, 1, 2, 3], [4, 5]]\n"
     ]
    }
   ],
   "source": [
    "def chunkyMonkey(arr, size):\n",
    "    \"\"\"\n",
    "    Splits the given list `arr` into chunks of size `size`.\n",
    "    Returns a list of lists (chunks).\n",
    "    \"\"\"\n",
    "    chunks = []\n",
    "    for i in range(0, len(arr), size):\n",
    "        chunks.append(arr[i:i + size])\n",
    "    return chunks\n",
    "\n",
    "# Test cases with printed output\n",
    "print(\"Test 1:\")\n",
    "print(\"Input: [1, 2, 3, 4, 5], size = 2\")\n",
    "print(\"Output:\", chunkyMonkey([1, 2, 3, 4, 5], 2))\n",
    "# Output: [[1, 2], [3, 4], [5]]\n",
    "\n",
    "print(\"\\nTest 2:\")\n",
    "print(\"Input: ['a', 'b', 'c', 'd'], size = 3\")\n",
    "print(\"Output:\", chunkyMonkey(['a', 'b', 'c', 'd'], 3))\n",
    "# Output: [['a', 'b', 'c'], ['d']]\n",
    "\n",
    "print(\"\\nTest 3:\")\n",
    "print(\"Input: [0, 1, 2, 3, 4, 5], size = 4\")\n",
    "print(\"Output:\", chunkyMonkey([0, 1, 2, 3, 4, 5], 4))\n",
    "# Output: [[0, 1, 2, 3], [4, 5]]\n"
   ]
  },
  {
   "cell_type": "markdown",
   "id": "dc62601a-10df-434d-83ea-a25e9a3d7e7b",
   "metadata": {},
   "source": [
    "# 🔵 `circleOfNumbers` — Python Function Explanation\n",
    "\n",
    "## 🧩 Problem Statement\n",
    "\n",
    "Imagine a circle with `n` points labeled from `0` to `n - 1`. Given a number `firstNumber` on the circle, return the number directly opposite it.\n",
    "\n",
    "This is a classic math and logic puzzle involving modular arithmetic.\n",
    "\n",
    "---\n",
    "\n",
    "## 🧠 How It Works\n",
    "\n",
    "To find the number directly opposite on the circle:\n",
    "\n",
    "- The numbers are evenly distributed.\n",
    "- The number opposite to `firstNumber` is exactly halfway around the circle.\n",
    "- Formula:\n",
    "  \n",
    "  ```python\n",
    "  (firstNumber + n // 2) % n\n"
   ]
  },
  {
   "cell_type": "code",
   "execution_count": 26,
   "id": "612c9336-15e1-43c4-b81f-85b59dfdd6b9",
   "metadata": {},
   "outputs": [
    {
     "name": "stdout",
     "output_type": "stream",
     "text": [
      "Test 1: n = 10, firstNumber = 2\n",
      "Output: 7\n",
      "\n",
      "Test 2: n = 12, firstNumber = 0\n",
      "Output: 6\n",
      "\n",
      "Test 3: n = 8, firstNumber = 3\n",
      "Output: 7\n"
     ]
    }
   ],
   "source": [
    "def circleOfNumbers(n, firstNumber):\n",
    "    return (firstNumber + n // 2) % n\n",
    "\n",
    "# Example usage with output\n",
    "print(\"Test 1: n = 10, firstNumber = 2\")\n",
    "print(\"Output:\", circleOfNumbers(10, 2))  # Expected output: 7\n",
    "\n",
    "print(\"\\nTest 2: n = 12, firstNumber = 0\")\n",
    "print(\"Output:\", circleOfNumbers(12, 0))  # Expected output: 6\n",
    "\n",
    "print(\"\\nTest 3: n = 8, firstNumber = 3\")\n",
    "print(\"Output:\", circleOfNumbers(8, 3))  # Expected output: 7\n"
   ]
  },
  {
   "cell_type": "markdown",
   "id": "577bb1da-55f8-4c09-9579-03f69ff9de22",
   "metadata": {},
   "source": [
    "# 🔤 `commonCharacterCount` — Count Shared Characters Between Two Strings\n",
    "\n",
    "## 📌 Problem\n",
    "\n",
    "Given two strings, return the total number of characters that appear in both strings, counting **duplicates**.\n",
    "\n",
    "For example:\n",
    "- \"aabcc\" and \"adcaa\" have 3 common characters: 1 `'b'`, and 2 `'a'`s.\n",
    "\n",
    "---\n",
    "\n",
    "## 🧠 Logic\n",
    "\n",
    "1. Count how many times each character appears in both strings using `collections.Counter`.\n",
    "2. For each character found in both strings, count the **minimum** times it appears in either string.\n",
    "3. Add up all those minimum values to get the total number of shared characters.\n",
    "\n",
    "---\n",
    "\n",
    "## ✅ Python Code\n",
    "\n",
    "```python\n",
    "from collections import Counter\n",
    "\n",
    "def commonCharacterCount(s1, s2):\n",
    "    count1 = Counter(s1)\n",
    "    count2 = Counter(s2)\n",
    "\n",
    "    common = 0\n",
    "    for char in count1:\n",
    "        if char in count2:\n",
    "            common += min(count1[char], count2[char])\n",
    "\n",
    "    return common\n"
   ]
  },
  {
   "cell_type": "code",
   "execution_count": 31,
   "id": "5d328515-d7d5-42cf-8e52-afe80825f52a",
   "metadata": {},
   "outputs": [
    {
     "name": "stdout",
     "output_type": "stream",
     "text": [
      "Test 1: s1 = 'aabcc', s2 = 'adcaa'\n",
      "Output: 3\n",
      "\n",
      "Test 2: s1 = 'abc', s2 = 'def'\n",
      "Output: 0\n",
      "\n",
      "Test 3: s1 = 'zzzz', s2 = 'zzzzzzz'\n",
      "Output: 4\n"
     ]
    }
   ],
   "source": [
    "from collections import Counter\n",
    "\n",
    "def commonCharacterCount(s1, s2):\n",
    "    # Count the characters in each string\n",
    "    count1 = Counter(s1)\n",
    "    count2 = Counter(s2)\n",
    "\n",
    "    # Compare the common characters\n",
    "    common = 0\n",
    "    for char in count1:\n",
    "        if char in count2:\n",
    "            common += min(count1[char], count2[char])\n",
    "\n",
    "    return common\n",
    "\n",
    "# Example usage\n",
    "print(\"Test 1: s1 = 'aabcc', s2 = 'adcaa'\")\n",
    "print(\"Output:\", commonCharacterCount(\"aabcc\", \"adcaa\"))  # Expected: 3\n",
    "\n",
    "print(\"\\nTest 2: s1 = 'abc', s2 = 'def'\")\n",
    "print(\"Output:\", commonCharacterCount(\"abc\", \"def\"))      # Expected: 0\n",
    "\n",
    "print(\"\\nTest 3: s1 = 'zzzz', s2 = 'zzzzzzz'\")\n",
    "print(\"Output:\", commonCharacterCount(\"zzzz\", \"zzzzzzz\")) # Expected: 4\n"
   ]
  },
  {
   "cell_type": "code",
   "execution_count": null,
   "id": "1655e8ab-0ac2-44df-94d1-fdaa2b245b4c",
   "metadata": {},
   "outputs": [],
   "source": []
  }
 ],
 "metadata": {
  "kernelspec": {
   "display_name": "Python 3 (ipykernel)",
   "language": "python",
   "name": "python3"
  },
  "language_info": {
   "codemirror_mode": {
    "name": "ipython",
    "version": 3
   },
   "file_extension": ".py",
   "mimetype": "text/x-python",
   "name": "python",
   "nbconvert_exporter": "python",
   "pygments_lexer": "ipython3",
   "version": "3.12.4"
  }
 },
 "nbformat": 4,
 "nbformat_minor": 5
}
