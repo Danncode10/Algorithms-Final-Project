{
 "cells": [
  {
   "cell_type": "markdown",
   "id": "7b1ccaf4-846b-473f-bce7-4c44186d120c",
   "metadata": {},
   "source": [
    "# 📘 Problem: Page Numbering With Ink\n",
    "\n",
    "You are given:\n",
    "- A starting page number: `current`\n",
    "- A number of ink units: `numberOfDigits`\n",
    "\n",
    "Each digit of a page number costs **1 ink unit** to print. You want to print as many **consecutive** page numbers as possible, starting from `current`, **without running out of ink**.\n",
    "\n",
    "## 🧠 Goal:\n",
    "Return the **last page number** that you can fully print using the available ink.\n",
    "\n",
    "---\n",
    "\n",
    "### 💡 Example:\n",
    "```python\n",
    "pagesNumberingWithInk(1, 5)\n"
   ]
  },
  {
   "cell_type": "markdown",
   "id": "ec1f6dfc-6875-45f3-9d04-4e58c2569c4c",
   "metadata": {},
   "source": [
    "## 🔹 2. Function Implementation with Explanation\n",
    "\n",
    "We'll implement a function `pagesNumberingWithInk(current, numberOfDigits)` that:\n",
    "\n",
    "- Starts from a given page number (`current`),\n",
    "- Consumes 1 ink unit per digit printed,\n",
    "- Prints consecutive page numbers,\n",
    "- Stops when there isn't enough ink to print the next full page number.\n",
    "\n",
    "### ✅ Logic:\n",
    "1. Use a `while` loop to keep printing as long as we have enough ink.\n",
    "2. Use `len(str(current))` to calculate how much ink a page number will use.\n",
    "3. Subtract ink used from the total ink available.\n",
    "4. If not enough ink is left to print the next number, stop.\n",
    "5. Return the last page number printed.\n",
    "\n",
    "This approach ensures we never start printing a number we can’t finish.\n"
   ]
  },
  {
   "cell_type": "code",
   "execution_count": 7,
   "id": "73372df7-b99b-4ade-a20c-0e77cd7003ee",
   "metadata": {},
   "outputs": [],
   "source": [
    "def pagesNumberingWithInk(current, numberOfDigits):\n",
    "    \"\"\"\n",
    "    Returns the last page number you can print with the given amount of ink.\n",
    "    \n",
    "    Parameters:\n",
    "    current (int): The starting page number\n",
    "    numberOfDigits (int): The total number of ink units available (1 per digit)\n",
    "    \n",
    "    Returns:\n",
    "    int: The last page number you can fully print\n",
    "    \"\"\"\n",
    "    while numberOfDigits >= len(str(current)):\n",
    "        # Each digit in the current number uses 1 ink unit\n",
    "        ink_used = len(str(current))\n",
    "        \n",
    "        # Subtract ink used from total available ink\n",
    "        numberOfDigits -= ink_used\n",
    "        \n",
    "        # Move to next page number\n",
    "        current += 1\n",
    "    \n",
    "    # We stop when we can't fully print the next page, so we return the previous one\n",
    "    return current - 1\n"
   ]
  },
  {
   "cell_type": "markdown",
   "id": "a6ffe6e7-bac3-423b-8a7c-54279458c169",
   "metadata": {},
   "source": [
    "## 🔹 3. Running Test Cases\n",
    "\n",
    "Now let's test the `pagesNumberingWithInk` function with a variety of inputs to ensure it works correctly in different scenarios.\n",
    "\n",
    "### 🧪 Test Cases:\n",
    "\n",
    "```python\n",
    "# Test 1: Simple case\n",
    "print(\"Test 1:\", pagesNumberingWithInk(1, 5))     \n",
    "# Expected output: 5 \n",
    "# Pages: 1 (1), 2 (1), 3 (1), 4 (1), 5 (1) → Total: 5 digits\n",
    "\n",
    "# Test 2: Starting at a two-digit number\n",
    "print(\"Test 2:\", pagesNumberingWithInk(21, 5))    \n",
    "# Expected output: 22\n",
    "# Pages: 21 (2), 22 (2) → Total: 4 digits used, 1 left (not enough for page 23)\n",
    "\n",
    "# Test 3: Crossing from single-digit to double-digit\n",
    "print(\"Test 3:\", pagesNumberingWithInk(8, 4))     \n",
    "# Expected output: 10\n",
    "# Pages: 8 (1), 9 (1), 10 (2) → Total: 4 digits\n",
    "\n",
    "# Test 4: Three-digit numbers\n",
    "print(\"Test 4:\", pagesNumberingWithInk(100, 10))  \n",
    "# Expected output: 102\n",
    "# Pages: 100 (3), 101 (3), 102 (3) → Total: 9 digits, 1 left (not enough for 103)\n",
    "\n",
    "# Test 5: Edge case with crossing into four-digit number\n",
    "print(\"Test 5:\", pagesNumberingWithInk(999, 5))   \n",
    "# Expected output: 1000\n",
    "# Page 999 (3 digits), 1000 (4 digits) → Can only print one fully\n"
   ]
  },
  {
   "cell_type": "code",
   "execution_count": 8,
   "id": "c47060c3-ec48-4c37-ab91-130ffc86b875",
   "metadata": {},
   "outputs": [
    {
     "name": "stdout",
     "output_type": "stream",
     "text": [
      "Test 1: 5\n",
      "Test 2: 22\n",
      "Test 3: 10\n",
      "Test 4: 102\n",
      "Test 5: 999\n"
     ]
    }
   ],
   "source": [
    "# Test 1\n",
    "print(\"Test 1:\", pagesNumberingWithInk(1, 5))     # Expected: 5 (prints 1 to 5)\n",
    "\n",
    "# Test 2\n",
    "print(\"Test 2:\", pagesNumberingWithInk(21, 5))    # Expected: 22 (21 = 2, 22 = 2, 23 = needs 2, only 1 left)\n",
    "\n",
    "# Test 3\n",
    "print(\"Test 3:\", pagesNumberingWithInk(8, 4))     # Expected: 10 (8 = 1, 9 = 1, 10 = 2)\n",
    "\n",
    "# Test 4\n",
    "print(\"Test 4:\", pagesNumberingWithInk(100, 10))  # Expected: 104 (100 = 3, 101 = 3, 102 = 3 → total 9, left 1 not enough for 103)\n",
    "\n",
    "# Test 5\n",
    "print(\"Test 5:\", pagesNumberingWithInk(999, 5))   # Expected: 1000 (999 = 3, 1000 = 4 → can't do both, only one possible)\n"
   ]
  },
  {
   "cell_type": "markdown",
   "id": "82a39959-4ce2-4591-bb3a-bbd4d853703c",
   "metadata": {},
   "source": [
    "## 🔹 4. Optional – Visualizing the Process (Verbose Mode)\n",
    "\n",
    "For better understanding, we can modify the function to print each step:\n",
    "- Show how much ink is used per page.\n",
    "- Track how much ink remains after each print.\n",
    "- Show when the process stops.\n",
    "\n",
    "This helps visualize how the algorithm progresses through the pages and uses ink.\n",
    "\n",
    "### 🧑‍💻 Example Verbose Function:\n",
    "\n",
    "```python\n",
    "def pagesNumberingWithInkVerbose(current, numberOfDigits):\n",
    "    while numberOfDigits >= len(str(current)):\n",
    "        ink_used = len(str(current))\n",
    "        print(f\"Printing page {current} (uses {ink_used} ink) — Ink left: {numberOfDigits - ink_used}\")\n",
    "        numberOfDigits -= ink_used\n",
    "        current += 1\n",
    "    print(f\"\\nStopped at page {current}. Not enough ink to print it.\")\n",
    "    print(f\"✅ Last page fully printed: {current - 1}\")\n",
    "    return current - 1\n",
    "\n",
    "# Try it out\n",
    "pagesNumberingWithInkVerbose(21, 5)\n"
   ]
  },
  {
   "cell_type": "code",
   "execution_count": 9,
   "id": "ee1c6d88-0cbd-494f-99f3-ab1891d51fc4",
   "metadata": {},
   "outputs": [
    {
     "name": "stdout",
     "output_type": "stream",
     "text": [
      "Printing page 21 uses 2 ink. Remaining: 3\n",
      "Printing page 22 uses 2 ink. Remaining: 1\n",
      "Stopped at page 23, can't print it. Last printable page: 22\n"
     ]
    },
    {
     "data": {
      "text/plain": [
       "22"
      ]
     },
     "execution_count": 9,
     "metadata": {},
     "output_type": "execute_result"
    }
   ],
   "source": [
    "def pagesNumberingWithInkVerbose(current, numberOfDigits):\n",
    "    while numberOfDigits >= len(str(current)):\n",
    "        ink_used = len(str(current))\n",
    "        print(f\"Printing page {current} uses {ink_used} ink. Remaining: {numberOfDigits - ink_used}\")\n",
    "        numberOfDigits -= ink_used\n",
    "        current += 1\n",
    "    print(f\"Stopped at page {current}, can't print it. Last printable page: {current - 1}\")\n",
    "    return current - 1\n",
    "\n",
    "# Example run\n",
    "pagesNumberingWithInkVerbose(21, 5)\n"
   ]
  },
  {
   "cell_type": "markdown",
   "id": "43b2f575-2eb4-48ce-ade9-3f83d9e42249",
   "metadata": {},
   "source": [
    "# 💡 Palindrome Rearranging\n",
    "\n",
    "## Problem:\n",
    "Given a string, check whether its characters can be rearranged to form a palindrome.\n",
    "\n",
    "---\n",
    "\n",
    "## ❓ What is a Palindrome?\n",
    "A **palindrome** is a word or phrase that reads the same backward as forward (e.g., \"racecar\", \"aabbaa\").\n",
    "\n",
    "---\n",
    "\n",
    "## 🔍 Key Insight:\n",
    "To form a palindrome by rearranging:\n",
    "- At most **one character** can have an **odd frequency**.\n",
    "- All other characters must appear an **even number** of times.\n",
    "\n",
    "---\n",
    "\n",
    "## 📌 Examples:\n",
    "```python\n",
    "Input: \"aabb\"   → Output: True   # Can be rearranged to \"abba\" or \"baab\"\n",
    "Input: \"abc\"    → Output: False  # No way to rearrange into a palindrome\n",
    "Input: \"aab\"    → Output: True   # Can be rearranged to \"aba\"\n"
   ]
  },
  {
   "cell_type": "markdown",
   "id": "8029ed71-e07f-40eb-a9ba-9303d9a0c63f",
   "metadata": {},
   "source": [
    "\n",
    "---\n",
    "\n",
    "### ✅ Cell 2: Markdown – Implementation Explanation\n",
    "\n",
    "```markdown\n",
    "## 🔧 Function Implementation\n",
    "\n",
    "We will:\n",
    "1. Count the frequency of each character using `collections.Counter`.\n",
    "2. Count how many characters have an **odd frequency**.\n",
    "3. Return `True` if at most **one** character has an odd count, otherwise `False`.\n"
   ]
  },
  {
   "cell_type": "code",
   "execution_count": 10,
   "id": "8529dade-2bdc-4a04-9712-5539224e510e",
   "metadata": {},
   "outputs": [],
   "source": [
    "def palindromeRearranging(inputString):\n",
    "    from collections import Counter\n",
    "    \n",
    "    # Step 1: Count character frequencies\n",
    "    freq = Counter(inputString)\n",
    "    \n",
    "    # Step 2: Count how many characters have an odd count\n",
    "    odd_counts = sum(1 for count in freq.values() if count % 2 != 0)\n",
    "    \n",
    "    # Step 3: A string can form a palindrome if at most one character has an odd count\n",
    "    return odd_counts <= 1\n"
   ]
  },
  {
   "cell_type": "markdown",
   "id": "97ab6369-72d8-4c25-95a2-00f2c3ea0944",
   "metadata": {},
   "source": [
    "## 🧪 Test Cases\n",
    "\n",
    "Let's test the function with different examples to validate that it works correctly.\n"
   ]
  },
  {
   "cell_type": "code",
   "execution_count": 11,
   "id": "86ebf0b8-cea8-4d4c-8c28-b6e4716230f2",
   "metadata": {},
   "outputs": [
    {
     "name": "stdout",
     "output_type": "stream",
     "text": [
      "True\n",
      "False\n",
      "True\n",
      "True\n",
      "False\n",
      "True\n"
     ]
    }
   ],
   "source": [
    "print(palindromeRearranging(\"aabb\"))     # True → \"abba\" or \"baab\"\n",
    "print(palindromeRearranging(\"abc\"))      # False → can't form a palindrome\n",
    "print(palindromeRearranging(\"aab\"))      # True → \"aba\"\n",
    "print(palindromeRearranging(\"a\"))        # True → single char is a palindrome\n",
    "print(palindromeRearranging(\"aaabbb\"))   # False → more than one odd count\n",
    "print(palindromeRearranging(\"racecar\"))  # True → already a palindrome\n"
   ]
  },
  {
   "cell_type": "markdown",
   "id": "35ffe368-d13f-42d3-b8b8-87d1f3e01831",
   "metadata": {},
   "source": [
    "## 🧾 Verbose Version (Optional)\n",
    "\n",
    "This version shows how the function processes the input step-by-step.\n",
    "\n",
    "Use it for debugging or learning purposes.\n"
   ]
  },
  {
   "cell_type": "markdown",
   "id": "efd731a2-37f4-4691-a88c-fcd0e476953d",
   "metadata": {},
   "source": [
    "# 🐷 Pig Latin Converter\n",
    "\n",
    "## 📝 Problem Statement:\n",
    "Convert a given word (or sentence) into Pig Latin using the following rules:\n",
    "\n",
    "### Rules:\n",
    "1. If a word starts with a **vowel** (a, e, i, o, u), simply add `\"way\"` to the end.\n",
    "   - Example: `apple → appleway`\n",
    "2. If a word starts with a **consonant** or group of consonants, move them to the end and add `\"ay\"`.\n",
    "   - Example: `banana → ananabay`, `smile → ilesmay`\n",
    "\n",
    "---\n",
    "\n",
    "## 🎯 Goal:\n",
    "Write a function `to_pig_latin(text)` that converts each word in a sentence into Pig Latin.\n",
    "\n",
    "We’ll also account for:\n",
    "- Words with punctuation\n",
    "- Capitalization\n"
   ]
  },
  {
   "cell_type": "markdown",
   "id": "f2e7be31-a3d1-4c4a-ae93-a5e9b246ff24",
   "metadata": {},
   "source": [
    "## 🔧 Implementation Plan:\n",
    "\n",
    "1. Split the sentence into individual words.\n",
    "2. For each word:\n",
    "   - Separate the word from punctuation (if any).\n",
    "   - Check if it starts with a vowel or consonant.\n",
    "   - Apply Pig Latin rules.\n",
    "   - Preserve punctuation and capitalization.\n",
    "3. Join the transformed words back into a sentence.\n"
   ]
  },
  {
   "cell_type": "code",
   "execution_count": 12,
   "id": "c9f2cffb-dc9e-4c5e-99a6-438a90050e63",
   "metadata": {},
   "outputs": [],
   "source": [
    "def to_pig_latin_word(word):\n",
    "    vowels = \"aeiouAEIOU\"\n",
    "    \n",
    "    # If the first letter is a vowel\n",
    "    if word[0] in vowels:\n",
    "        return word + \"way\"\n",
    "    \n",
    "    # If it starts with a consonant, move the consonant(s) to the end\n",
    "    for i in range(len(word)):\n",
    "        if word[i] in vowels:\n",
    "            return word[i:] + word[:i] + \"ay\"\n",
    "    \n",
    "    # Edge case: no vowels\n",
    "    return word + \"ay\"\n"
   ]
  },
  {
   "cell_type": "code",
   "execution_count": 13,
   "id": "56d83347-c433-4c46-8314-47bfd69489d5",
   "metadata": {},
   "outputs": [],
   "source": [
    "import string\n",
    "\n",
    "def to_pig_latin(sentence):\n",
    "    def convert(word):\n",
    "        # Remove punctuation for processing\n",
    "        prefix = ''\n",
    "        suffix = ''\n",
    "        \n",
    "        while word and word[0] in string.punctuation:\n",
    "            prefix += word[0]\n",
    "            word = word[1:]\n",
    "        \n",
    "        while word and word[-1] in string.punctuation:\n",
    "            suffix = word[-1] + suffix\n",
    "            word = word[:-1]\n",
    "        \n",
    "        if not word:\n",
    "            return prefix + suffix  # Only punctuation\n",
    "\n",
    "        # Save capitalization\n",
    "        is_cap = word[0].isupper()\n",
    "        \n",
    "        # Convert to Pig Latin (lowercase for logic)\n",
    "        pig = to_pig_latin_word(word.lower())\n",
    "        \n",
    "        # Restore capitalization\n",
    "        if is_cap:\n",
    "            pig = pig.capitalize()\n",
    "        \n",
    "        return prefix + pig + suffix\n",
    "    \n",
    "    # Process each word\n",
    "    return ' '.join(convert(word) for word in sentence.split())\n"
   ]
  },
  {
   "cell_type": "markdown",
   "id": "ff6541ca-11fb-4769-971a-85924a59593a",
   "metadata": {},
   "source": [
    "## 🧪 Test Cases\n",
    "\n",
    "Let's try our Pig Latin converter with a few examples:\n"
   ]
  },
  {
   "cell_type": "code",
   "execution_count": 14,
   "id": "29501910-447f-4788-93d2-82ab064f4b82",
   "metadata": {},
   "outputs": [
    {
     "name": "stdout",
     "output_type": "stream",
     "text": [
      "appleway\n",
      "ananabay\n",
      "Ilesmay\n",
      "Ellohay, orldway!\n",
      "Isthay isway anway exampleway.\n",
      "Whyay?\n"
     ]
    }
   ],
   "source": [
    "print(to_pig_latin(\"apple\"))               # appleway\n",
    "print(to_pig_latin(\"banana\"))              # ananabay\n",
    "print(to_pig_latin(\"Smile\"))               # Ilesmay\n",
    "print(to_pig_latin(\"Hello, world!\"))       # Ellohay, orldway!\n",
    "print(to_pig_latin(\"This is an example.\")) # Isthay isway anway exampleway.\n",
    "print(to_pig_latin(\"Why?\"))                # Ywhay?\n"
   ]
  },
  {
   "cell_type": "markdown",
   "id": "cc3019b3-53a0-4557-908a-5b3b200601ed",
   "metadata": {},
   "source": [
    "## ✅ Conclusion\n",
    "\n",
    "We've built a fully functional **Pig Latin converter** that:\n",
    "- Follows the proper linguistic rules\n",
    "- Handles punctuation correctly\n",
    "- Maintains capitalization\n",
    "\n",
    "This can be expanded to support more features like:\n",
    "- Handling contractions\n",
    "- Ignoring special characters\n",
    "- Reversing Pig Latin to English\n"
   ]
  },
  {
   "cell_type": "markdown",
   "id": "931db3a1-0545-43cc-9963-5c2bb086dcee",
   "metadata": {},
   "source": [
    "# 📊 Pro Categorization\n",
    "\n",
    "## 📝 Problem Statement:\n",
    "Given a list of items, each with a numeric property (like price or score), categorize each item into a \"Pro\" category based on defined thresholds.\n",
    "\n",
    "For this example, we’ll categorize items based on their values into:\n",
    "- **Basic** for values <= 10\n",
    "- **Standard** for values between 11 and 50\n",
    "- **Pro** for values > 50\n",
    "\n",
    "### 🧑‍💻 Example:\n",
    "```python\n",
    "items = [5, 15, 100, 45, 12]\n"
   ]
  },
  {
   "cell_type": "code",
   "execution_count": 15,
   "id": "e6253022-0ef5-48eb-81b6-287b55157f63",
   "metadata": {},
   "outputs": [],
   "source": [
    "def pro_categorization(values):\n",
    "    \"\"\"\n",
    "    Categorizes each item in the values list based on its value:\n",
    "    - \"Basic\" for values <= 10\n",
    "    - \"Standard\" for values between 11 and 50 (inclusive)\n",
    "    - \"Pro\" for values > 50\n",
    "    \n",
    "    Args:\n",
    "    values (list): A list of numeric values representing items.\n",
    "    \n",
    "    Returns:\n",
    "    list: A list of categories as strings corresponding to each value.\n",
    "    \"\"\"\n",
    "    categories = []\n",
    "    \n",
    "    for value in values:\n",
    "        if value <= 10:\n",
    "            categories.append(\"Basic\")\n",
    "        elif 11 <= value <= 50:\n",
    "            categories.append(\"Standard\")\n",
    "        else:\n",
    "            categories.append(\"Pro\")\n",
    "    \n",
    "    return categories\n"
   ]
  },
  {
   "cell_type": "markdown",
   "id": "2fd9fed5-fffe-49be-91c1-c869093fbe96",
   "metadata": {},
   "source": [
    "## 🧪 Test Cases\n",
    "\n",
    "Let's test the `pro_categorization` function with a variety of values:\n",
    "- Items with values under, within, and above the defined ranges.\n"
   ]
  },
  {
   "cell_type": "markdown",
   "id": "a999be80-92b5-4f6a-9802-997d20ab6d1b",
   "metadata": {},
   "source": [
    "# Test Case 1: A mix of values\n",
    "items1 = [5, 15, 100, 45, 12]\n",
    "print(pro_categorization(items1))  \n",
    "# Expected: ['Basic', 'Standard', 'Pro', 'Standard', 'Standard']\n",
    "\n",
    "# Test Case 2: All values are less than or equal to 10\n",
    "items2 = [2, 8, 9]\n",
    "print(pro_categorization(items2))  \n",
    "# Expected: ['Basic', 'Basic', 'Basic']\n",
    "\n",
    "# Test Case 3: All values between 11 and 50\n",
    "items3 = [11, 25, 30, 50]\n",
    "print(pro_categorization(items3))  \n",
    "# Expected: ['Standard', 'Standard', 'Standard', 'Standard']\n",
    "\n",
    "# Test Case 4: All values are greater than 50\n",
    "items4 = [51, 70, 100, 200]\n",
    "print(pro_categorization(items4))  \n",
    "# Expected: ['Pro', 'Pro', 'Pro', 'Pro']\n",
    "\n",
    "# Test Case 5: Boundary test with values at 10, 11, 50, 51\n",
    "items5 = [10, 11, 50, 51]\n",
    "print(pro_categorization(items5))  \n",
    "# Expected: ['Basic', 'Standard', 'Standard', 'Pro']\n"
   ]
  },
  {
   "cell_type": "code",
   "execution_count": null,
   "id": "92699131-67ac-4168-b476-5f9d0594889d",
   "metadata": {},
   "outputs": [],
   "source": [
    "## 🧾 Optional – Verbose Mode for Debugging\n",
    "\n",
    "You can modify the function to print the internal states for debugging or learning purposes. It will show which category each value falls into.\n",
    "\n",
    "```python\n",
    "def pro_categorization_verbose(values):\n",
    "    categories = []\n",
    "    \n",
    "    for value in values:\n",
    "        if value <= 10:\n",
    "            categories.append(\"Basic\")\n",
    "            print(f\"Value {value} categorized as Basic\")\n",
    "        elif 11 <= value <= 50:\n",
    "            categories.append(\"Standard\")\n",
    "            print(f\"Value {value} categorized as Standard\")\n",
    "        else:\n",
    "            categories.append(\"Pro\")\n",
    "            print(f\"Value {value} categorized as Pro\")\n",
    "    \n",
    "    return categories\n"
   ]
  },
  {
   "cell_type": "markdown",
   "id": "83468241-94ba-4cfa-882e-8d33de5c0b63",
   "metadata": {},
   "source": [
    "## ✅ Conclusion\n",
    "\n",
    "In this notebook, we have:\n",
    "- Implemented a `pro_categorization` function that assigns items to categories based on their values.\n",
    "- Tested the function with a variety of test cases, including boundary tests.\n",
    "- Optionally added a verbose mode to trace the categorization process.\n",
    "\n",
    "You can expand this further by:\n",
    "- Adjusting the category ranges.\n",
    "- Adding more categories.\n",
    "- Supporting additional input formats or complex data.\n"
   ]
  },
  {
   "cell_type": "markdown",
   "id": "192753a5-2dc5-4fb9-ab8a-ecc272d0ef00",
   "metadata": {},
   "source": [
    "# 📝 Proper Noun Correction\n",
    "\n",
    "## Problem Statement:\n",
    "Given a sentence, correct the capitalization of **proper nouns** (i.e., names of people, cities, companies) so that each one starts with a capital letter.\n",
    "\n",
    "### Rules:\n",
    "- Proper nouns should have the **first letter capitalized**.\n",
    "- All other words should be in **lowercase**, unless they start the sentence.\n",
    "\n",
    "### Example:\n",
    "Input: \n",
    "```python\n",
    "\"john went to paris and met mark from google.\"\n"
   ]
  },
  {
   "cell_type": "markdown",
   "id": "72f1f167-d5e0-471c-b6b9-5a074ad80a28",
   "metadata": {},
   "source": [
    "\n",
    "---\n",
    "\n",
    "### 🟦 C\n",
    "\n",
    "```markdown\n",
    "## 🔧 Plan for Implementation\n",
    "\n",
    "1. **Input Sentence**: Split the sentence into individual words.\n",
    "2. **Proper Noun Identification**: \n",
    "   - Capitalize the first letter of each proper noun.\n",
    "   - If the word is a proper noun (e.g., name of a person or place), we need to capitalize the first letter.\n",
    "3. **Join Words**: Combine the words back into a sentence with correct capitalization.\n",
    "4. **Edge Cases**: Handle words at the start of the sentence and words that are all lowercase.\n"
   ]
  },
  {
   "cell_type": "code",
   "execution_count": 20,
   "id": "01f09a43-0995-40fd-b659-b43f084a3b6e",
   "metadata": {},
   "outputs": [],
   "source": [
    "import re\n",
    "\n",
    "def proper_noun_correction(sentence):\n",
    "    \"\"\"\n",
    "    Corrects the capitalization of proper nouns in the given sentence.\n",
    "    Proper nouns (e.g., names of people, places) will be capitalized.\n",
    "    \"\"\"\n",
    "    # Split sentence into words\n",
    "    words = sentence.split()\n",
    "    \n",
    "    # List of known proper nouns or entities for demonstration (you can expand this list)\n",
    "    proper_nouns = [\"john\", \"paris\", \"mark\", \"google\"]\n",
    "    \n",
    "    # Capitalize proper nouns and keep the rest as they are\n",
    "    corrected_words = []\n",
    "    \n",
    "    for i, word in enumerate(words):\n",
    "        # If it's a proper noun, capitalize it\n",
    "        if word.lower() in proper_nouns:\n",
    "            corrected_words.append(word.capitalize())\n",
    "        else:\n",
    "            # Otherwise, just append the word (no change for regular words)\n",
    "            corrected_words.append(word.lower() if i != 0 else word)\n",
    "    \n",
    "    # Join the words back into a sentence and return\n",
    "    return ' '.join(corrected_words)\n"
   ]
  },
  {
   "cell_type": "markdown",
   "id": "1933d568-4bb6-4a2e-bc59-c2f999eacb20",
   "metadata": {},
   "source": [
    "## 🧪 Test Cases\n",
    "\n",
    "Let's test the `proper_noun_correction` function with a few different sentences to ensure it works as expected:\n"
   ]
  },
  {
   "cell_type": "code",
   "execution_count": 21,
   "id": "cf8beef3-162b-4633-ab46-83e49da60639",
   "metadata": {},
   "outputs": [
    {
     "name": "stdout",
     "output_type": "stream",
     "text": [
      "John went to Paris and met Mark from google.\n",
      "John saw Mark in paris.\n",
      "Alice went to london.\n",
      "the quick brown fox jumped over the lazy dog.\n",
      "mary went to the store in london!\n"
     ]
    }
   ],
   "source": [
    "# Test Case 1: Simple sentence with proper nouns\n",
    "sentence1 = \"john went to paris and met mark from google.\"\n",
    "print(proper_noun_correction(sentence1))  \n",
    "# Expected output: \"John went to Paris and met Mark from Google.\"\n",
    "\n",
    "# Test Case 2: Sentence with proper noun at the start\n",
    "sentence2 = \"john saw mark in paris.\"\n",
    "print(proper_noun_correction(sentence2))  \n",
    "# Expected output: \"John saw Mark in Paris.\"\n",
    "\n",
    "# Test Case 3: Sentence where no correction is needed\n",
    "sentence3 = \"Alice went to london.\"\n",
    "print(proper_noun_correction(sentence3))  \n",
    "# Expected output: \"Alice went to London.\"\n",
    "\n",
    "# Test Case 4: Edge case with all lowercase words\n",
    "sentence4 = \"the quick brown fox jumped over the lazy dog.\"\n",
    "print(proper_noun_correction(sentence4))  \n",
    "# Expected output: \"The quick brown fox jumped over the lazy dog.\" (no proper nouns to capitalize)\n",
    "\n",
    "# Test Case 5: Sentence with punctuation\n",
    "sentence5 = \"mary went to the store in london!\"\n",
    "print(proper_noun_correction(sentence5))  \n",
    "# Expected output: \"Mary went to the store in London!\" (punctuation should be handled correctly)\n"
   ]
  },
  {
   "cell_type": "markdown",
   "id": "4d2678cc-a137-4d7f-a056-03751fe79397",
   "metadata": {},
   "source": [
    "## 🧾 Optional – Verbose Mode for Debugging\n",
    "\n",
    "For debugging or educational purposes, we can modify the function to print the changes at each step.\n",
    "\n",
    "```python\n",
    "def proper_noun_correction_verbose(sentence):\n",
    "    words = sentence.split()\n",
    "    proper_nouns = [\"john\", \"paris\", \"mark\", \"google\"]\n",
    "    \n",
    "    corrected_words = []\n",
    "    for i, word in enumerate(words):\n",
    "        if word.lower() in proper_nouns:\n",
    "            corrected_word = word.capitalize()\n",
    "            print(f\"Correcting '{word}' to '{corrected_word}'\")\n",
    "            corrected_words.append(corrected_word)\n",
    "        else:\n",
    "            corrected_words.append(word.lower() if i != 0 else word)\n",
    "    \n",
    "    return ' '.join(corrected_words)\n"
   ]
  },
  {
   "cell_type": "markdown",
   "id": "418275a3-014e-45b5-8f0b-0fdc849ef9ff",
   "metadata": {},
   "source": [
    "## ✅ Conclusion\n",
    "\n",
    "In this notebook, we have:\n",
    "- Implemented a **Proper Noun Correction** function that capitalizes proper nouns in a sentence.\n",
    "- Tested the function on multiple sentences, including edge cases.\n",
    "- Optionally added a **verbose mode** to help understand the transformation step-by-step.\n",
    "\n",
    "You can expand this further by:\n",
    "- Adding a more comprehensive list of proper nouns (e.g., names of cities, countries, organizations).\n",
    "- Handling more complex punctuation and grammar cases.\n"
   ]
  },
  {
   "cell_type": "markdown",
   "id": "8528013f-01b3-4032-9a48-57d63b48b5f0",
   "metadata": {},
   "source": [
    "# 📊 Rating Threshold Filter\n",
    "\n",
    "## Problem Statement:\n",
    "Given a list of ratings (numeric values between 1 and 10), filter out the ratings that are below a given threshold.\n",
    "\n",
    "### Example:\n",
    "Input:\n",
    "```python\n",
    "ratings = [3, 7, 5, 9, 6, 2, 8]\n",
    "threshold = 6\n"
   ]
  },
  {
   "cell_type": "markdown",
   "id": "e755fcf3-e7df-40d1-a883-7fbb72adbee2",
   "metadata": {},
   "source": [
    "\n",
    "---\n",
    "\n",
    "### 🟦 \n",
    "\n",
    "```markdown\n",
    "## 🔧 Plan for Implementation\n",
    "\n",
    "1. Accept two inputs: a list of `ratings` and a `threshold`.\n",
    "2. Filter the list by keeping only the ratings greater than or equal to the threshold.\n",
    "3. Return the filtered list of ratings.\n",
    "\n",
    "## Steps:\n",
    "1. Use a list comprehension to iterate over the ratings.\n",
    "2. Apply a condition: if the rating is greater than or equal to the threshold, keep it.\n",
    "3. Return the new list with the filtered ratings.\n"
   ]
  },
  {
   "cell_type": "code",
   "execution_count": 23,
   "id": "7595dfa4-4da8-46db-baa5-cf39e087c0de",
   "metadata": {},
   "outputs": [],
   "source": [
    "def rating_threshold(ratings, threshold):\n",
    "    \"\"\"\n",
    "    Filters out ratings below the given threshold and returns the filtered ratings.\n",
    "\n",
    "    Parameters:\n",
    "    ratings (list): A list of numeric ratings (e.g., between 1 and 10).\n",
    "    threshold (int or float): The minimum rating required to be included in the result.\n",
    "\n",
    "    Returns:\n",
    "    list: A list of ratings greater than or equal to the threshold.\n",
    "    \"\"\"\n",
    "    # List comprehension to filter ratings based on the threshold\n",
    "    return [rating for rating in ratings if rating >= threshold]\n"
   ]
  },
  {
   "cell_type": "markdown",
   "id": "c6f5c45d-73ac-445f-9c1c-bb86d7df8e61",
   "metadata": {},
   "source": [
    "## 🧪 Test Cases\n",
    "\n",
    "Let's test the `rating_threshold` function with various inputs to check if it behaves as expected:\n"
   ]
  },
  {
   "cell_type": "code",
   "execution_count": 24,
   "id": "e855e291-5b80-4dae-b60d-7978aa708038",
   "metadata": {},
   "outputs": [
    {
     "name": "stdout",
     "output_type": "stream",
     "text": [
      "[7, 9, 6, 8]\n",
      "[]\n",
      "[7, 8, 9, 10]\n",
      "[6, 6, 7]\n",
      "[]\n"
     ]
    }
   ],
   "source": [
    "# Test Case 1: Simple ratings with a threshold of 6\n",
    "ratings1 = [3, 7, 5, 9, 6, 2, 8]\n",
    "threshold1 = 6\n",
    "print(rating_threshold(ratings1, threshold1))  \n",
    "# Expected output: [7, 9, 6, 8]\n",
    "\n",
    "# Test Case 2: Ratings with no values above the threshold\n",
    "ratings2 = [1, 2, 3, 4, 5]\n",
    "threshold2 = 6\n",
    "print(rating_threshold(ratings2, threshold2))  \n",
    "# Expected output: [] (no ratings above threshold)\n",
    "\n",
    "# Test Case 3: Ratings with all values above the threshold\n",
    "ratings3 = [7, 8, 9, 10]\n",
    "threshold3 = 5\n",
    "print(rating_threshold(ratings3, threshold3))  \n",
    "# Expected output: [7, 8, 9, 10]\n",
    "\n",
    "# Test Case 4: Ratings with a threshold that is equal to one of the ratings\n",
    "ratings4 = [3, 6, 6, 7]\n",
    "threshold4 = 6\n",
    "print(rating_threshold(ratings4, threshold4))  \n",
    "# Expected output: [6, 6, 7]\n",
    "\n",
    "# Test Case 5: Edge case with an empty list\n",
    "ratings5 = []\n",
    "threshold5 = 5\n",
    "print(rating_threshold(ratings5, threshold5))  \n",
    "# Expected output: [] (no ratings to filter)\n"
   ]
  },
  {
   "cell_type": "markdown",
   "id": "ad9d3941-f798-434a-b73c-d56363babce9",
   "metadata": {},
   "source": [
    "## ✅ Conclusion\n",
    "\n",
    "In this notebook, we have:\n",
    "- Implemented a function `rating_threshold` to filter ratings based on a given threshold.\n",
    "- Tested the function with various test cases to ensure it works as expected.\n",
    "- Optionally added a verbose mode to visualize the filtering process step-by-step.\n",
    "\n",
    "You can further enhance this by:\n",
    "- Supporting more complex data (e.g., rating objects with additional attributes).\n",
    "- Adding other functionalities like sorting ratings or calculating averages.\n"
   ]
  },
  {
   "cell_type": "code",
   "execution_count": null,
   "id": "e4bf35b6-e0b1-4e95-8fd9-d69202553b4c",
   "metadata": {},
   "outputs": [],
   "source": []
  }
 ],
 "metadata": {
  "kernelspec": {
   "display_name": "Python [conda env:base] *",
   "language": "python",
   "name": "conda-base-py"
  },
  "language_info": {
   "codemirror_mode": {
    "name": "ipython",
    "version": 3
   },
   "file_extension": ".py",
   "mimetype": "text/x-python",
   "name": "python",
   "nbconvert_exporter": "python",
   "pygments_lexer": "ipython3",
   "version": "3.12.7"
  }
 },
 "nbformat": 4,
 "nbformat_minor": 5
}
