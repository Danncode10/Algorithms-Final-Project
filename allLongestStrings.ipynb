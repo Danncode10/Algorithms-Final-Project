{
 "cells": [
  {
   "cell_type": "markdown",
   "id": "ff7de5e6-b3d4-4225-8ac8-53f7ed79070d",
   "metadata": {},
   "source": [
    "# Algorithms Final Projects\n",
    "**Lester Dann G. Lopez**  \n",
    "**Algorithms and Complexities**  \n",
    "---\n",
    "\n",
    "### **Task**\n",
    "---"
   ]
  },
  {
   "cell_type": "markdown",
   "id": "2bda66a0-2a9b-4111-8ae8-c54f22ca6b2a",
   "metadata": {},
   "source": [
    "Given an array of strings, return another array containing all of its longest strings.\n",
    "\n",
    "**Example**\n",
    "\n",
    "For inputArray = [\"aba\", \"aa\", \"ad\", \"vcd\", \"aba\"], the output should be\n",
    "allLongestStrings(inputArray) = [\"aba\", \"vcd\", \"aba\"].\n",
    "\n",
    "**Hints**\n",
    "-   None\n",
    "\n",
    "**Input/Output**\n",
    "\n",
    "- **[time limit] 4000ms (js)**\n",
    "- **[input] array.string inputArray**\n",
    "\n",
    "A non-empty array.\n",
    "\n",
    "*Guaranteed constraints:*\n",
    "\n",
    "1 ≤ inputArray.length ≤ 10,\n",
    "\n",
    "1 ≤ inputArray[i].length ≤ 10.\n",
    "\n",
    "- **[output] array.string**\n",
    "\n",
    "Array of the longest strings, stored in the same order as in the inputArray."
   ]
  },
  {
   "cell_type": "code",
   "execution_count": 2,
   "id": "04e4e7de-f29b-4959-99af-3ee6c5435079",
   "metadata": {},
   "outputs": [
    {
     "name": "stdout",
     "output_type": "stream",
     "text": [
      "['aba', 'vcd', 'aba']\n"
     ]
    }
   ],
   "source": [
    "class Solution:\n",
    "    def allLongestStrings(self, inputArray):\n",
    "        # Find the maximum string length\n",
    "        max_len = max(len(s) for s in inputArray)\n",
    "        # Return only strings with that maximum length\n",
    "        return [s for s in inputArray if len(s) == max_len]\n",
    "\n",
    "\n",
    "# ------ TEST ------#\n",
    "ans = Solution()\n",
    "inputArray = [\"aba\", \"aa\", \"ad\", \"vcd\", \"aba\"]\n",
    "print(ans.allLongestStrings(inputArray))  # Output: ['aba', 'vcd', 'aba']\n"
   ]
  },
  {
   "cell_type": "markdown",
   "id": "18f44d11-6b7e-4821-8c9d-2803651b657b",
   "metadata": {},
   "source": [
    "---\n",
    "### 🧠 **Explanation of the Code: Return All Longest Strings**\n",
    "\n",
    "#### 🎯 Goal:\n",
    "\n",
    "Given a list of strings, return **only the strings that have the maximum length**, **in the same order** as they appeared.\n",
    "\n",
    "---\n",
    "\n",
    "### ✅ Step-by-Step Breakdown\n",
    "\n",
    "```python\n",
    "max_len = max(len(s) for s in inputArray)\n",
    "```\n",
    "\n",
    "* This line **finds the length** of the longest string in the array.\n",
    "* `len(s)` calculates the length of each string.\n",
    "* `max(...)` returns the highest value among those lengths.\n",
    "\n",
    "#### 🔍 Example:\n",
    "\n",
    "For `inputArray = [\"aba\", \"aa\", \"ad\", \"vcd\", \"aba\"]`:\n",
    "\n",
    "* Lengths: `[3, 2, 2, 3, 3]` → max = **3**\n",
    "\n",
    "---\n",
    "\n",
    "```python\n",
    "return [s for s in inputArray if len(s) == max_len]\n",
    "```\n",
    "\n",
    "* This list comprehension **filters** the original array.\n",
    "* It keeps only the strings whose length matches `max_len`.\n",
    "\n",
    "#### ✅ Result:\n",
    "\n",
    "From `[\"aba\", \"aa\", \"ad\", \"vcd\", \"aba\"]`, only `\"aba\"`, `\"vcd\"`, and `\"aba\"` have length 3.\n",
    "\n",
    "---\n",
    "\n",
    "### 🧪 Test Case\n",
    "\n",
    "```python\n",
    "inputArray = [\"aba\", \"aa\", \"ad\", \"vcd\", \"aba\"]\n",
    "print(ans.allLongestStrings(inputArray))  # Output: ['aba', 'vcd', 'aba']\n",
    "```\n",
    "\n",
    "✔️ Output is correct.\n",
    "\n",
    "---\n",
    "\n",
    "### ⚡ Why This Works Well\n",
    "\n",
    "* Efficient: Just **two passes** over the list—once to find the max length, once to filter.\n",
    "* Clean and readable using **generator** and **list comprehension**.\n"
   ]
  },
  {
   "cell_type": "code",
   "execution_count": null,
   "id": "3ec80ecd-23b9-47f5-a1cf-dc70b1ff0923",
   "metadata": {},
   "outputs": [],
   "source": []
  }
 ],
 "metadata": {
  "kernelspec": {
   "display_name": "Python 3 (ipykernel)",
   "language": "python",
   "name": "python3"
  },
  "language_info": {
   "codemirror_mode": {
    "name": "ipython",
    "version": 3
   },
   "file_extension": ".py",
   "mimetype": "text/x-python",
   "name": "python",
   "nbconvert_exporter": "python",
   "pygments_lexer": "ipython3",
   "version": "3.12.9"
  }
 },
 "nbformat": 4,
 "nbformat_minor": 5
}
