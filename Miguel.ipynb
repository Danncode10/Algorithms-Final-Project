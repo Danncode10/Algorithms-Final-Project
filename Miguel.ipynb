{
 "cells": [
  {
   "cell_type": "markdown",
   "id": "1cf9ef26-414c-4121-9c92-63d66e4e10e3",
   "metadata": {},
   "source": [
    "### Eleazar C. Miguel"
   ]
  },
  {
   "cell_type": "markdown",
   "id": "01afecd4-6796-48b5-9dc7-f543fc153bf8",
   "metadata": {},
   "source": [
    "#"
   ]
  },
  {
   "cell_type": "markdown",
   "id": "8505e8ba-8c29-44c6-a550-8cb079196b07",
   "metadata": {},
   "source": [
    "#  Algorithmic set"
   ]
  },
  {
   "cell_type": "markdown",
   "id": "7cbeabc1-9c9b-4cc1-af9c-00a224fdb559",
   "metadata": {},
   "source": [
    "#"
   ]
  },
  {
   "cell_type": "markdown",
   "id": "2bdf242d-4372-4a44-8efb-48f041bddd3d",
   "metadata": {},
   "source": [
    "### Mission 1: maxMultiple"
   ]
  },
  {
   "cell_type": "markdown",
   "id": "d655ede1-5f7f-47d3-b96f-6302fee2605b",
   "metadata": {},
   "source": [
    "\n",
    "This function finds the largest multiple of a given divisor that is less than or equal to a given bound. It ensures that the resulting number is divisible by divisor while remaining within the allowed range.\n",
    "\n",
    "#### How it Works:\n",
    "\n",
    "The largest multiple of divisor within the bound can be found using bound - (bound % divisor), which subtracts the remainder when dividing bound by divisor.\n",
    "\n",
    "This guarantees the result is an exact multiple of divisor."
   ]
  },
  {
   "cell_type": "markdown",
   "id": "292ea1b9-cf10-48ef-b93b-e50e9bddef73",
   "metadata": {},
   "source": [
    "### ANSWER"
   ]
  },
  {
   "cell_type": "code",
   "execution_count": 104,
   "id": "0b61a1ea-a996-4885-8ec6-9f1eb312df15",
   "metadata": {},
   "outputs": [],
   "source": [
    "def max_multiple(divisor, bound):\n",
    "    return bound - (bound % divisor)\n",
    "\n"
   ]
  },
  {
   "cell_type": "markdown",
   "id": "f30963a2-7006-4356-a1b5-8d27527c4f3b",
   "metadata": {},
   "source": [
    "#### Example usage\n",
    "print(max_multiple(3, 10))  \n",
    "#### Output: 9"
   ]
  },
  {
   "cell_type": "markdown",
   "id": "22427001-940b-4bdc-b1f4-2a6d6944ddb2",
   "metadata": {},
   "source": [
    "#"
   ]
  },
  {
   "cell_type": "markdown",
   "id": "57131e47-8917-4679-bf0b-61cc1798298e",
   "metadata": {},
   "source": [
    "### Mission 2: mineSweeper"
   ]
  },
  {
   "cell_type": "markdown",
   "id": "9ba7703d-b92f-4221-8818-057af6add570",
   "metadata": {
    "scrolled": true
   },
   "source": [
    "Minesweeper involves a grid where some cells contain mines (1), and others are empty (0). The goal is to compute a grid where each empty cell has a number indicating how many mines surround it.\n",
    "\n",
    "#### How it Works:\n",
    "\n",
    "We iterate over each cell in the matrix.\n",
    "\n",
    "If the cell is a mine (1), we mark it as such (-1).\n",
    "\n",
    "If the cell is empty (0), we count the number of mines in the surrounding eight cells.\n",
    "\n",
    "The count is stored in the result matrix."
   ]
  },
  {
   "cell_type": "markdown",
   "id": "c976e24e-72df-4fbd-b539-2c38a8c63851",
   "metadata": {},
   "source": [
    "### ANSWER"
   ]
  },
  {
   "cell_type": "code",
   "execution_count": 111,
   "id": "6eb4ebd0-5fe4-49c0-9fb1-244bba540951",
   "metadata": {},
   "outputs": [],
   "source": [
    "import numpy as np\n",
    "\n",
    "def minesweeper(matrix):\n",
    "    rows, cols = len(matrix), len(matrix[0])\n",
    "    result = np.zeros((rows, cols), dtype=int)\n",
    "\n",
    "    for r in range(rows):\n",
    "        for c in range(cols):\n",
    "            if matrix[r][c] == 1:\n",
    "                result[r][c] = -1\n",
    "            else:\n",
    "                count = sum(matrix[i][j] for i in range(max(0, r - 1), min(rows, r + 2))\n",
    "                            for j in range(max(0, c - 1), min(cols, c + 2)) if matrix[i][j] == 1)\n",
    "                result[r][c] = count\n",
    "\n",
    "    return result.tolist()\n",
    "\n"
   ]
  },
  {
   "cell_type": "markdown",
   "id": "be5afe9d-4d9e-4956-907f-c25925e8f69c",
   "metadata": {},
   "source": [
    "#### Example usage\n",
    "board = [[0, 1, 0], [0, 0, 1], [1, 0, 0]]\n",
    "\n",
    "print(minesweeper(board))"
   ]
  },
  {
   "cell_type": "markdown",
   "id": "7ab26dbc-26dd-4728-8d9d-55eab28a362b",
   "metadata": {},
   "source": [
    "#"
   ]
  },
  {
   "cell_type": "markdown",
   "id": "ff0abc0d-57d8-41f3-804b-b679dfc92219",
   "metadata": {},
   "source": [
    "### Mission 3: minimalNumberOfCoins"
   ]
  },
  {
   "cell_type": "markdown",
   "id": "a737ebbd-d181-48df-8662-0a1031bf5885",
   "metadata": {},
   "source": [
    "Given a set of coin denominations, this function finds the minimum number of coins needed to make a given amount.\n",
    "\n",
    "#### How it Works:\n",
    "\n",
    "We sort the coins in descending order.\n",
    "\n",
    "We try to use the largest possible coin first.\n",
    "\n",
    "The remainder is computed after using each denomination, ensuring we use the least number of coins."
   ]
  },
  {
   "cell_type": "markdown",
   "id": "8a7070f2-a07a-4e03-96d7-c6a93cee3dbf",
   "metadata": {},
   "source": [
    "### ANSWER"
   ]
  },
  {
   "cell_type": "code",
   "execution_count": 118,
   "id": "f7cbab6a-8f3f-4896-ad13-7c0ced5e7bd4",
   "metadata": {},
   "outputs": [],
   "source": [
    "def minimal_number_of_coins(coins, amount):\n",
    "    coins.sort(reverse=True)\n",
    "    count = 0\n",
    "\n",
    "    for coin in coins:\n",
    "        count += amount // coin\n",
    "        amount %= coin\n",
    "\n",
    "    return count if amount == 0 else -1\n",
    "\n"
   ]
  },
  {
   "cell_type": "markdown",
   "id": "7c25b3ab-9a6b-486b-90ca-ae848db7eac9",
   "metadata": {},
   "source": [
    "#### Example usage\n",
    "print(minimal_number_of_coins([1, 5, 10, 25], 37))  \n",
    "#### Output: 4"
   ]
  },
  {
   "cell_type": "markdown",
   "id": "bb3998ad-6e39-4a7a-aa69-bb4b1d7c4035",
   "metadata": {},
   "source": [
    "#"
   ]
  },
  {
   "cell_type": "markdown",
   "id": "d02ff233-37e8-408f-a662-12525de49308",
   "metadata": {},
   "source": [
    "### Mission 4: missingLetters"
   ]
  },
  {
   "cell_type": "markdown",
   "id": "6cdb87d6-904b-419b-a040-9ef13f1aaa5e",
   "metadata": {},
   "source": [
    "Given an input string, this function finds all the missing letters in the alphabet that are not present in the string.\n",
    "\n",
    "#### How it Works:\n",
    "\n",
    "Convert the input string to lowercase.\n",
    "\n",
    "Create a set of the entire alphabet.\n",
    "\n",
    "Compute the difference between the alphabet set and the set of letters in the input string.\n",
    "\n",
    "Return the missing letters. "
   ]
  },
  {
   "cell_type": "markdown",
   "id": "2d418ab3-9968-4589-abfe-de05270cb55b",
   "metadata": {},
   "source": [
    "### ANSWER"
   ]
  },
  {
   "cell_type": "code",
   "execution_count": 125,
   "id": "28551b9b-5dfd-4802-85c4-9e7565e900bd",
   "metadata": {},
   "outputs": [],
   "source": [
    "import string\n",
    "\n",
    "def missing_letters(s):\n",
    "    alphabet_set = set(string.ascii_lowercase)\n",
    "    input_set = set(s.lower())\n",
    "    return \"\".join(sorted(alphabet_set - input_set))\n",
    "\n"
   ]
  },
  {
   "cell_type": "markdown",
   "id": "96037a63-e817-43d0-b256-3ad4ea263eaf",
   "metadata": {},
   "source": [
    "#### Example usage\n",
    "print(missing_letters(\"the quick brown fox jumps over a lazy dog\"))  # Output: \"\" (all letters present)\n",
    "print(missing_letters(\"hello world\"))  \n",
    "#### Output: \"abcdefgijkmnpqstuvxyz\""
   ]
  },
  {
   "cell_type": "markdown",
   "id": "3e95c435-3e53-45bb-a043-dbc58db0a0b0",
   "metadata": {},
   "source": [
    "#"
   ]
  },
  {
   "cell_type": "markdown",
   "id": "52c8eed1-485e-4807-953a-87b32373f57e",
   "metadata": {},
   "source": [
    "### Mission 5: mostFrequentDigitSum"
   ]
  },
  {
   "cell_type": "markdown",
   "id": "5a778c24-e4fa-423c-983f-31d0add923e8",
   "metadata": {},
   "source": [
    "This function finds the most frequently occurring sum of digits from a given sequence.\n",
    "\n",
    "#### How it Works:\n",
    "\n",
    "Continuously compute the sum of digits of a number and track the occurrences.\n",
    "\n",
    "Decrease n by the sum found in each iteration until n reaches zero.\n",
    "\n",
    "Identify the most frequently occurring digit sum."
   ]
  },
  {
   "cell_type": "markdown",
   "id": "70163e49-a19e-447f-b3c9-68a806863dc1",
   "metadata": {},
   "source": [
    "### ANSWER"
   ]
  },
  {
   "cell_type": "code",
   "execution_count": 132,
   "id": "cb4db201-279f-4099-9728-f48c9420da80",
   "metadata": {},
   "outputs": [],
   "source": [
    "from collections import Counter\n",
    "\n",
    "def most_frequent_digit_sum(n):\n",
    "    def digit_sum(num):\n",
    "        return sum(map(int, str(num)))\n",
    "\n",
    "    sums = []\n",
    "    while n:\n",
    "        s = digit_sum(n)\n",
    "        sums.append(s)\n",
    "        n -= s\n",
    "\n",
    "    return Counter(sums).most_common(1)[0][0]\n",
    "\n"
   ]
  },
  {
   "cell_type": "markdown",
   "id": "1c7571bd-7b2a-4d08-a839-5d16655a8700",
   "metadata": {},
   "source": [
    "#### Example usage\n",
    "print(most_frequent_digit_sum(88))  \n",
    "#### Output: 8"
   ]
  },
  {
   "cell_type": "markdown",
   "id": "08259eed-aa27-4bf4-adbd-cf681d8f547e",
   "metadata": {},
   "source": [
    "###"
   ]
  },
  {
   "cell_type": "markdown",
   "id": "f12e3ef5-973d-4050-b864-cdb8f98a76e5",
   "metadata": {},
   "source": [
    "### Mission 6: newNumeralSystem"
   ]
  },
  {
   "cell_type": "markdown",
   "id": "52567b79-d036-4123-ae41-25b76697d2d1",
   "metadata": {},
   "source": [
    "Given a letter representing a number in a numeral system (A = 0, B = 1, ..., Z = 25), this function generates pairs of letters that sum up to the target letter.\n",
    "\n",
    "#### How it Works:\n",
    "\n",
    "Iterate from A to the target letter.\n",
    "\n",
    "Compute complementary values such that they sum to the target.\n",
    "\n",
    "Format the result as pairs."
   ]
  },
  {
   "cell_type": "markdown",
   "id": "7df8b204-cb62-492c-ae9e-6564ae3bbb9f",
   "metadata": {},
   "source": [
    "### ANSWER"
   ]
  },
  {
   "cell_type": "code",
   "execution_count": 139,
   "id": "1934bfae-0cda-4598-9c0a-ed36f739046a",
   "metadata": {},
   "outputs": [],
   "source": [
    "def new_numeral_system(number):\n",
    "    pairs = []\n",
    "    for i in range(ord('A'), ord(number)):\n",
    "        pairs.append(f\"{chr(i)} + {chr(ord(number) - (i - ord('A')))}\")\n",
    "    return pairs\n",
    "\n"
   ]
  },
  {
   "cell_type": "markdown",
   "id": "a0e1de80-5c29-4f1d-a935-f737cd60ab75",
   "metadata": {},
   "source": [
    "#### Example usage\n",
    "print(new_numeral_system('G'))  \n",
    "#### Output: ['A + G', 'B + F', 'C + E', 'D + D']"
   ]
  },
  {
   "cell_type": "code",
   "execution_count": null,
   "id": "192a7400-ac6a-4ade-85b6-83a785185818",
   "metadata": {},
   "outputs": [],
   "source": []
  }
 ],
 "metadata": {
  "kernelspec": {
   "display_name": "Python [conda env:base] *",
   "language": "python",
   "name": "conda-base-py"
  },
  "language_info": {
   "codemirror_mode": {
    "name": "ipython",
    "version": 3
   },
   "file_extension": ".py",
   "mimetype": "text/x-python",
   "name": "python",
   "nbconvert_exporter": "python",
   "pygments_lexer": "ipython3",
   "version": "3.12.7"
  }
 },
 "nbformat": 4,
 "nbformat_minor": 5
}
