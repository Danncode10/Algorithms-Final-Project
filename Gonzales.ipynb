{
 "cells": [
  {
   "cell_type": "markdown",
   "id": "56125af5-8278-4f86-b781-d9b6fa3d067b",
   "metadata": {},
   "source": [
    "# 🔢 Sum of Two\n",
    "\n",
    "## Problem:\n",
    "Given a list of integers (`nums`) and an integer `target`, determine whether there are two distinct elements in the list that sum to the target.\n",
    "\n",
    "## Example:\n",
    "```python\n",
    "nums = [1, 2, 4, 9]\n",
    "target = 13\n"
   ]
  },
  {
   "cell_type": "code",
   "execution_count": 2,
   "id": "cfe2f28b-758c-4585-b735-db41a8f00456",
   "metadata": {},
   "outputs": [],
   "source": [
    "def sum_of_two(nums, target):\n",
    "    \"\"\"\n",
    "    Determines whether any two numbers in the list add up to the given target.\n",
    "    \n",
    "    Parameters:\n",
    "    nums (list): List of integers\n",
    "    target (int): Target sum value\n",
    "    \n",
    "    Returns:\n",
    "    bool: True if any two numbers sum to the target, False otherwise\n",
    "    \"\"\"\n",
    "    seen = set()\n",
    "    \n",
    "    for num in nums:\n",
    "        complement = target - num\n",
    "        if complement in seen:\n",
    "            return True\n",
    "        seen.add(num)\n",
    "    \n",
    "    return False\n"
   ]
  },
  {
   "cell_type": "markdown",
   "id": "3543445a-a344-4f4d-b985-c42a12f035de",
   "metadata": {},
   "source": [
    "## 🧪 Test Cases\n",
    "\n",
    "Let's test `sum_of_two()` with various inputs:\n"
   ]
  },
  {
   "cell_type": "code",
   "execution_count": 3,
   "id": "0aaee8d6-a2d4-47bb-be33-613d89a1036f",
   "metadata": {},
   "outputs": [
    {
     "name": "stdout",
     "output_type": "stream",
     "text": [
      "True\n",
      "False\n",
      "True\n",
      "False\n",
      "True\n",
      "True\n"
     ]
    }
   ],
   "source": [
    "# Test Case 1: Should return True (4 + 9 = 13)\n",
    "print(sum_of_two([1, 2, 4, 9], 13))  # True\n",
    "\n",
    "# Test Case 2: Should return False\n",
    "print(sum_of_two([1, 2, 4, 9], 8))   # False\n",
    "\n",
    "# Test Case 3: Should return True (2 + 3 = 5)\n",
    "print(sum_of_two([2, 3], 5))         # True\n",
    "\n",
    "# Test Case 4: Should return False (only one element)\n",
    "print(sum_of_two([5], 10))           # False\n",
    "\n",
    "# Test Case 5: Should return True (0 + 0 = 0)\n",
    "print(sum_of_two([0, 0], 0))         # True\n",
    "\n",
    "# Test Case 6: Negative numbers\n",
    "print(sum_of_two([-3, 1, 4, 8], 5))  # True (-3 + 8)\n"
   ]
  },
  {
   "cell_type": "markdown",
   "id": "3f804b1a-42f7-4ebd-8fa5-398f3a49192a",
   "metadata": {},
   "source": [
    "## 🧾 Optional – Verbose Version\n",
    "\n",
    "Print step-by-step logic for educational or debugging purposes.\n"
   ]
  },
  {
   "cell_type": "code",
   "execution_count": 4,
   "id": "7d6fc4ec-2e54-4c2a-adf5-ac42f3e24956",
   "metadata": {},
   "outputs": [
    {
     "name": "stdout",
     "output_type": "stream",
     "text": [
      "Current number: 1, complement: 12, seen: set()\n",
      "Current number: 2, complement: 11, seen: {1}\n",
      "Current number: 4, complement: 9, seen: {1, 2}\n",
      "Current number: 9, complement: 4, seen: {1, 2, 4}\n",
      "Found! 9 + 4 = 13\n"
     ]
    },
    {
     "data": {
      "text/plain": [
       "True"
      ]
     },
     "execution_count": 4,
     "metadata": {},
     "output_type": "execute_result"
    }
   ],
   "source": [
    "def sum_of_two_verbose(nums, target):\n",
    "    seen = set()\n",
    "    for num in nums:\n",
    "        complement = target - num\n",
    "        print(f\"Current number: {num}, complement: {complement}, seen: {seen}\")\n",
    "        if complement in seen:\n",
    "            print(f\"Found! {num} + {complement} = {target}\")\n",
    "            return True\n",
    "        seen.add(num)\n",
    "    print(\"No two numbers add up to the target.\")\n",
    "    return False\n",
    "\n",
    "# Example verbose run\n",
    "sum_of_two_verbose([1, 2, 4, 9], 13)\n"
   ]
  },
  {
   "cell_type": "markdown",
   "id": "ec8f7914-a8f1-4062-b228-4f13310837e1",
   "metadata": {},
   "source": [
    "## ✅ Conclusion\n",
    "\n",
    "In this notebook, we've:\n",
    "- Implemented the `sum_of_two()` function using a set for efficient lookup.\n",
    "- Tested the function across different edge cases.\n",
    "- Built a verbose version for deeper understanding.\n",
    "\n",
    "This approach runs in O(n) time and is optimal for large lists.\n"
   ]
  },
  {
   "cell_type": "markdown",
   "id": "30297694-1f8b-46b6-a08f-69987b571552",
   "metadata": {},
   "source": [
    "# 💡 switchLights\n",
    "\n",
    "## Problem:\n",
    "You are given a row of light bulbs represented by binary values:\n",
    "- `1` means the light is ON.\n",
    "- `0` means the light is OFF.\n",
    "\n",
    "### Rule:\n",
    "When you switch a bulb that is ON, all bulbs from that position to the end toggle their states.\n",
    "\n",
    "## Input:\n",
    "A list of 0s and 1s.\n",
    "\n",
    "## Output:\n",
    "The final state of the bulbs after applying the switching rules from left to right.\n",
    "\n",
    "### Example:\n",
    "```python\n",
    "Input:  [1, 1, 0, 1]\n",
    "Output: [0, 1, 1, 0]\n"
   ]
  },
  {
   "cell_type": "markdown",
   "id": "7f54bdd1-7a02-415f-8fc3-4e1697e22670",
   "metadata": {},
   "source": [
    "```markdown\n",
    "## 🔧 Plan for Implementation:\n",
    "\n",
    "1. Iterate through the list from left to right.\n",
    "2. When a `1` is found:\n",
    "   - Toggle all elements from that position to the end.\n",
    "3. Continue until the end of the list.\n",
    "4. Return the final list."
   ]
  },
  {
   "cell_type": "code",
   "execution_count": 5,
   "id": "c3b780f5-4e1e-4a11-b946-3b91af7a41f6",
   "metadata": {},
   "outputs": [],
   "source": [
    "def switch_lights(lights):\n",
    "    \"\"\"\n",
    "    Switch the lights based on the rule:\n",
    "    When a light at position i is 1, flip all lights from i to the end.\n",
    "    \n",
    "    Parameters:\n",
    "    lights (list): A list of 0s and 1s representing light bulb states.\n",
    "    \n",
    "    Returns:\n",
    "    list: The updated light bulb states after performing the switches.\n",
    "    \"\"\"\n",
    "    for i in range(len(lights)):\n",
    "        if lights[i] == 1:\n",
    "            # Toggle from index i to end\n",
    "            for j in range(i, len(lights)):\n",
    "                lights[j] = 1 - lights[j]  # Flip 0 ↔ 1\n",
    "    return lights\n"
   ]
  },
  {
   "cell_type": "markdown",
   "id": "434788f8-dd9a-440e-b064-2b0c3ad38ccb",
   "metadata": {},
   "source": [
    "## 🧪 Test Cases\n",
    "\n",
    "Let's test the `switch_lights` function with different examples:\n"
   ]
  },
  {
   "cell_type": "code",
   "execution_count": 6,
   "id": "53ff6155-0ed7-4a91-a56b-2fe575380a82",
   "metadata": {},
   "outputs": [
    {
     "name": "stdout",
     "output_type": "stream",
     "text": [
      "[0, 0, 0, 0]\n",
      "[0, 0, 0]\n",
      "[0, 0, 0, 0]\n",
      "[0]\n",
      "[0, 0, 0]\n"
     ]
    }
   ],
   "source": [
    "print(switch_lights([1, 1, 0, 1]))      # Expected: [0, 1, 1, 0]\n",
    "print(switch_lights([0, 0, 0]))         # Expected: [0, 0, 0]\n",
    "print(switch_lights([1, 0, 1, 0]))      # Expected: [0, 1, 0, 1]\n",
    "print(switch_lights([1]))              # Expected: [0]\n",
    "print(switch_lights([1, 1, 1]))         # Expected: [0, 1, 0]\n"
   ]
  },
  {
   "cell_type": "markdown",
   "id": "3b174238-510b-48ef-875c-96db958e47ad",
   "metadata": {},
   "source": [
    "## ✅ Conclusion\n",
    "\n",
    "In this notebook, we implemented the `switch_lights` function that:\n",
    "- Toggles bulbs from left to right using the specified rule.\n",
    "- Includes test cases and an optional verbose mode for debugging.\n",
    "\n",
    "This approach runs in O(n²) in the worst case due to nested toggling.\n",
    "You can improve it using logical flipping counters if needed for large inputs.\n"
   ]
  },
  {
   "cell_type": "markdown",
   "id": "88c750f2-24f7-4b99-91e0-35e926950cfe",
   "metadata": {},
   "source": [
    "# 🗂️ tasksTypes\n",
    "\n",
    "## Problem:\n",
    "You are given a list of task deadlines in days and the current day number.\n",
    "\n",
    "### Categories:\n",
    "1. **Today or Overdue** (≤ day)\n",
    "2. **Upcoming (Next 7 Days)** (day + 1 to day + 7)\n",
    "3. **Later** (> day + 7)\n",
    "\n",
    "### Return:\n",
    "A list with counts of tasks in each of the three categories.\n",
    "\n",
    "---\n",
    "\n",
    "### Example:\n",
    "```python\n",
    "Input:  deadlines = [1, 2, 3, 10, 12, 5, 8], day = 5\n",
    "Output: [3, 2, 2]\n"
   ]
  },
  {
   "cell_type": "markdown",
   "id": "34520d08-9726-4be5-9f18-747c14fa5e07",
   "metadata": {},
   "source": [
    "```markdown\n",
    "## 🔧 Plan:\n",
    "\n",
    "1. Initialize three counters: `today_tasks`, `upcoming_tasks`, `later_tasks`.\n",
    "2. Loop through each task deadline:\n",
    "   - If deadline ≤ day → increment `today_tasks`\n",
    "   - If deadline between (day+1) and (day+7) → increment `upcoming_tasks`\n",
    "   - Else → increment `later_tasks`\n",
    "3. Return a list: [today_tasks, upcoming_tasks, later_tasks]"
   ]
  },
  {
   "cell_type": "code",
   "execution_count": 8,
   "id": "df38a2e5-b396-4c97-ae6f-4a45219a047b",
   "metadata": {},
   "outputs": [],
   "source": [
    "def tasksTypes(deadlines, day):\n",
    "    \"\"\"\n",
    "    Categorizes tasks based on their deadlines.\n",
    "\n",
    "    Parameters:\n",
    "    deadlines (list of int): A list of task deadlines in days.\n",
    "    day (int): Today's day number.\n",
    "\n",
    "    Returns:\n",
    "    list: [today_or_overdue_count, upcoming_count, later_count]\n",
    "    \"\"\"\n",
    "    today = 0\n",
    "    upcoming = 0\n",
    "    later = 0\n",
    "\n",
    "    for d in deadlines:\n",
    "        if d <= day:\n",
    "            today += 1\n",
    "        elif d <= day + 7:\n",
    "            upcoming += 1\n",
    "        else:\n",
    "            later += 1\n",
    "\n",
    "    return [today, upcoming, later]\n"
   ]
  },
  {
   "cell_type": "markdown",
   "id": "8625f04d-3600-4bf3-a8a0-b0007d8e47c9",
   "metadata": {},
   "source": [
    "## 🧪 Test Cases\n",
    "\n",
    "Let's verify the function with different scenarios:\n"
   ]
  },
  {
   "cell_type": "code",
   "execution_count": 10,
   "id": "2f76fc76-6695-4f5e-9bd5-0b2415ff5ed8",
   "metadata": {},
   "outputs": [
    {
     "name": "stdout",
     "output_type": "stream",
     "text": [
      "[4, 3, 0]\n",
      "[3, 0, 0]\n",
      "[0, 7, 0]\n",
      "[0, 0, 3]\n",
      "[1, 1, 1]\n"
     ]
    }
   ],
   "source": [
    "# Test Case 1\n",
    "print(tasksTypes([1, 2, 3, 10, 12, 5, 8], 5))  # Expected: [3, 2, 2]\n",
    "\n",
    "# Test Case 2: All deadlines are today\n",
    "print(tasksTypes([5, 5, 5], 5))  # Expected: [3, 0, 0]\n",
    "\n",
    "# Test Case 3: All deadlines are upcoming\n",
    "print(tasksTypes([6, 7, 8, 9, 10, 11, 12], 5))  # Expected: [0, 7, 0]\n",
    "\n",
    "# Test Case 4: All deadlines are later\n",
    "print(tasksTypes([20, 21, 22], 5))  # Expected: [0, 0, 3]\n",
    "\n",
    "# Test Case 5: Mixed edge cases\n",
    "print(tasksTypes([5, 6, 13], 5))  # Expected: [1, 1, 1]\n"
   ]
  },
  {
   "cell_type": "markdown",
   "id": "ded4384d-2e5e-4a3f-a9d2-cb08dbe1cd68",
   "metadata": {},
   "source": [
    "## ✅ Conclusion\n",
    "\n",
    "In this notebook, we:\n",
    "- Implemented `tasksTypes()` to classify tasks by urgency.\n",
    "- Tested multiple cases, including edge conditions.\n",
    "- Added a verbose version for debugging or learning purposes.\n",
    "\n",
    "This is a simple O(n) linear scan with constant space usage.\n"
   ]
  },
  {
   "cell_type": "markdown",
   "id": "d1719b91-f564-4d0e-be72-52da5e53a0d5",
   "metadata": {},
   "source": [
    "# 🔢 uniqueDigitProducts\n",
    "\n",
    "## Problem:\n",
    "Given a list of integers, compute the product of digits for each number and return the number of **unique digit products**.\n",
    "\n",
    "---\n",
    "\n",
    "## Example:\n",
    "Input:\n",
    "```python\n",
    "[123, 234, 345, 111]\n"
   ]
  },
  {
   "cell_type": "markdown",
   "id": "de4c41dc-d74a-4f37-8163-36b7fc6bcc0d",
   "metadata": {},
   "source": [
    "## 🔧 Plan:\n",
    "\n",
    "1. Define a helper function to compute the product of digits of an integer.\n",
    "2. Loop through each number in the input array:\n",
    "   - Compute the digit product.\n",
    "   - Store it in a set to ensure uniqueness.\n",
    "3. Return the size of the set."
   ]
  },
  {
   "cell_type": "code",
   "execution_count": 11,
   "id": "ea62b915-d434-4f85-a7eb-c9d49d8b7b42",
   "metadata": {},
   "outputs": [],
   "source": [
    "def digit_product(n):\n",
    "    \"\"\"\n",
    "    Computes the product of digits of a given number n.\n",
    "    \"\"\"\n",
    "    product = 1\n",
    "    for digit in str(n):\n",
    "        product *= int(digit)\n",
    "    return product\n",
    "\n",
    "def uniqueDigitProducts(nums):\n",
    "    \"\"\"\n",
    "    Returns the number of unique digit products in the list of integers.\n",
    "\n",
    "    Parameters:\n",
    "    nums (list of int): List of integers.\n",
    "\n",
    "    Returns:\n",
    "    int: Count of unique digit products.\n",
    "    \"\"\"\n",
    "    products = set()\n",
    "    for num in nums:\n",
    "        dp = digit_product(num)\n",
    "        products.add(dp)\n",
    "    return len(products)\n"
   ]
  },
  {
   "cell_type": "markdown",
   "id": "8907978a-efc9-4c8f-abdf-8535d8e763f6",
   "metadata": {},
   "source": [
    "## 🧪 Test Cases\n",
    "\n",
    "Test `uniqueDigitProducts()` with various input scenarios:\n"
   ]
  },
  {
   "cell_type": "code",
   "execution_count": 12,
   "id": "7abffbcd-020e-49ab-ae62-ee1f8620b67c",
   "metadata": {},
   "outputs": [
    {
     "name": "stdout",
     "output_type": "stream",
     "text": [
      "4\n",
      "2\n",
      "1\n",
      "2\n",
      "1\n"
     ]
    }
   ],
   "source": [
    "# Test Case 1: All unique\n",
    "print(uniqueDigitProducts([123, 234, 345, 111]))  # Expected: 4\n",
    "\n",
    "# Test Case 2: Some duplicate products\n",
    "print(uniqueDigitProducts([12, 21, 33]))  # 12 → 2, 21 → 2, 33 → 9 → Expected: 2\n",
    "\n",
    "# Test Case 3: Single element\n",
    "print(uniqueDigitProducts([999]))  # 9*9*9 = 729 → Expected: 1\n",
    "\n",
    "# Test Case 4: Mixed simple digits\n",
    "print(uniqueDigitProducts([10, 100, 11]))  # 10→0, 100→0, 11→1 → Expected: 2\n",
    "\n",
    "# Test Case 5: Edge case with 0 digits\n",
    "print(uniqueDigitProducts([101, 202]))  # 1*0*1=0, 2*0*2=0 → Expected: 1\n"
   ]
  },
  {
   "cell_type": "markdown",
   "id": "15ef2d67-0b4b-4070-8fe5-bc5a80aef7fc",
   "metadata": {},
   "source": [
    "## ✅ Conclusion\n",
    "\n",
    "- We built a function to compute the product of digits for each number.\n",
    "- Used a set to track unique digit products.\n",
    "- The function runs in O(n * d) time, where `n` is the number of elements and `d` is the average number of digits.\n",
    "\n",
    "You can use this technique in cases where digit-based hashing or features are needed.\n"
   ]
  },
  {
   "cell_type": "markdown",
   "id": "f7f81b02-f2c6-449f-b16a-2244d28598f0",
   "metadata": {},
   "source": [
    "# ⏰ validTime\n",
    "\n",
    "## Problem:\n",
    "You're given a time string in \"HH:MM\" 24-hour format.  \n",
    "Determine whether it represents a **valid time**.\n",
    "\n",
    "---\n",
    "\n",
    "## Valid Conditions:\n",
    "- HH (hours): from 00 to 23\n",
    "- MM (minutes): from 00 to 59\n",
    "\n",
    "## Example:\n",
    "- \"13:58\" → ✅ Valid → True\n",
    "- \"25:51\" → ❌ Invalid hour → False\n",
    "- \"02:76\" → ❌ Invalid minute → False\n"
   ]
  },
  {
   "cell_type": "markdown",
   "id": "810d2823-c754-435b-a5af-edf25fd31417",
   "metadata": {},
   "source": [
    "## 🔧 Plan\n",
    "\n",
    "1. Split the time string by `\":\"` into two parts: `hours` and `minutes`.\n",
    "2. Check that:\n",
    "   - Both parts are digits and of correct length.\n",
    "   - `0 <= int(hours) <= 23`\n",
    "   - `0 <= int(minutes) <= 59`\n",
    "3. Return True if all checks pass, else False.\n"
   ]
  },
  {
   "cell_type": "code",
   "execution_count": 13,
   "id": "087b5c1e-3f8e-436e-afdd-161b3214b01a",
   "metadata": {},
   "outputs": [],
   "source": [
    "def validTime(time_str):\n",
    "    \"\"\"\n",
    "    Checks if a given time string is a valid 24-hour format time.\n",
    "\n",
    "    Parameters:\n",
    "    time_str (str): Time string in \"HH:MM\" format.\n",
    "\n",
    "    Returns:\n",
    "    bool: True if valid time, False otherwise.\n",
    "    \"\"\"\n",
    "    if \":\" not in time_str:\n",
    "        return False\n",
    "    \n",
    "    parts = time_str.split(\":\")\n",
    "    \n",
    "    if len(parts) != 2:\n",
    "        return False\n",
    "    \n",
    "    hours, minutes = parts\n",
    "    \n",
    "    if not (hours.isdigit() and minutes.isdigit()):\n",
    "        return False\n",
    "    \n",
    "    if len(hours) != 2 or len(minutes) != 2:\n",
    "        return False\n",
    "    \n",
    "    h = int(hours)\n",
    "    m = int(minutes)\n",
    "    \n",
    "    return 0 <= h <= 23 and 0 <= m <= 59\n"
   ]
  },
  {
   "cell_type": "markdown",
   "id": "6b1307c5-6e6b-4d08-a0cd-73dfe3777435",
   "metadata": {},
   "source": [
    "## 🧪 Test Cases\n",
    "\n",
    "Test the `validTime` function with different scenarios:\n"
   ]
  },
  {
   "cell_type": "code",
   "execution_count": 14,
   "id": "83faaa78-95b3-47fb-b83b-f6258967f27a",
   "metadata": {},
   "outputs": [
    {
     "name": "stdout",
     "output_type": "stream",
     "text": [
      "True\n",
      "False\n",
      "False\n",
      "True\n",
      "True\n",
      "False\n",
      "False\n",
      "False\n",
      "False\n"
     ]
    }
   ],
   "source": [
    "print(validTime(\"13:58\"))  # ✅ True\n",
    "print(validTime(\"25:51\"))  # ❌ False\n",
    "print(validTime(\"02:76\"))  # ❌ False\n",
    "print(validTime(\"00:00\"))  # ✅ True\n",
    "print(validTime(\"23:59\"))  # ✅ True\n",
    "print(validTime(\"24:00\"))  # ❌ False\n",
    "print(validTime(\"9:00\"))   # ❌ False (missing leading zero)\n",
    "print(validTime(\"12:5\"))   # ❌ False (missing leading zero)\n",
    "print(validTime(\"ab:cd\"))  # ❌ False\n"
   ]
  },
  {
   "cell_type": "code",
   "execution_count": null,
   "id": "0032a54e-b3ce-49ab-b788-17c88fdb77fc",
   "metadata": {},
   "outputs": [],
   "source": []
  }
 ],
 "metadata": {
  "kernelspec": {
   "display_name": "Python [conda env:base] *",
   "language": "python",
   "name": "conda-base-py"
  },
  "language_info": {
   "codemirror_mode": {
    "name": "ipython",
    "version": 3
   },
   "file_extension": ".py",
   "mimetype": "text/x-python",
   "name": "python",
   "nbconvert_exporter": "python",
   "pygments_lexer": "ipython3",
   "version": "3.12.7"
  }
 },
 "nbformat": 4,
 "nbformat_minor": 5
}
