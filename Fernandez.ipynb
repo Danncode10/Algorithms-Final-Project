{
 "cells": [
  {
   "cell_type": "markdown",
   "id": "1faedefb-f991-45ab-9585-954ded43340e",
   "metadata": {},
   "source": [
    "# **JOSHUA JING FERNANDEZ**\n",
    "---"
   ]
  },
  {
   "cell_type": "markdown",
   "id": "e37a0f89-f359-4822-8161-28e62a1c34a2",
   "metadata": {},
   "source": [
    "# **ArrayChange**\n",
    "---\n",
    "## **TASK**\n",
    "You are given an array of integers. On each move you are allowed to increase exactly one of its element by one. Find the minimal number of moves required to obtain a strictly increasing sequence from the input.\n",
    "\n",
    "**Example**\n",
    "\n",
    "For inputArray = [1, 1, 1], the output should be\n",
    "arrayChange(inputArray) = 3.\n",
    "\n",
    "**Input/Output**\n",
    "\n",
    "- **[time limit] 4000ms (js)**\n",
    "- **[input] array.integer inputArray**\n",
    "\n",
    "*Guaranteed constraints:*\n",
    "\n",
    "3 ≤ inputArray.length ≤ 105,\n",
    "\n",
    "-105 ≤ inputArray[i] ≤ 105.\n",
    "\n",
    "- **[output] integer**\n",
    "\n",
    "The minimal number of moves needed to obtain a strictly increasing sequence from inputArray.\n",
    "It's guaranteed that for the given test cases the answer always fits signed 32-bit integer type.\n",
    "## **ANSWER**"
   ]
  },
  {
   "cell_type": "code",
   "execution_count": 1,
   "id": "960d08ef-7c0a-4c88-8c1c-82fd707c4b53",
   "metadata": {},
   "outputs": [
    {
     "name": "stdout",
     "output_type": "stream",
     "text": [
      "Minimal number of moves: 3\n"
     ]
    }
   ],
   "source": [
    "def arrayChange(inputArray):\n",
    "    moves = 0\n",
    "    for i in range(1, len(inputArray)):\n",
    "        if inputArray[i] <= inputArray[i - 1]:\n",
    "            increase = inputArray[i - 1] - inputArray[i] + 1\n",
    "            inputArray[i] += increase\n",
    "            moves += increase\n",
    "    return moves\n",
    "\n",
    "# Example usage:\n",
    "inputArray = [1, 1, 1]\n",
    "print(\"Minimal number of moves:\", arrayChange(inputArray))\n"
   ]
  },
  {
   "cell_type": "markdown",
   "id": "683280fc-1458-4045-9cc1-a5aae4a3ca31",
   "metadata": {},
   "source": [
    "The goal of this problem is to determine the minimum number of moves required to transform a given array into a strictly increasing sequence. A strictly increasing sequence means that each element in the array must be greater than the previous one.\n",
    "\n",
    "**Strategy for Solving**\n",
    "**1.Iterate through the array**\n",
    "\n",
    "+ Start from the second element and compare it with the previous element.\n",
    "\n",
    "**2.Ensure Increasing Order**\n",
    "\n",
    "+ If the current element is not greater than the previous one, calculate how much it needs to be increased.\n",
    "\n",
    "+ Add the difference to a counter tracking the total number of moves.\n",
    "\n",
    "**3. Update the Array**\n",
    "\n",
    "+ Modify the current element accordingly so that the sequence remains valid.\n",
    "\n",
    "**Implementation Key Points**\n",
    "+ Keep track of moves using a variable.\n",
    "\n",
    "+ Traverse the array while ensuring each element is greater than the previous one.\n",
    "\n",
    "+ Increase elements only when necessary and count the operations."
   ]
  },
  {
   "cell_type": "markdown",
   "id": "a549f61c-77ef-44ea-a745-38ff3bed5c84",
   "metadata": {},
   "source": [
    "---\n",
    "# **ArrayConversion**\n",
    "---\n",
    "## **TASK**\n",
    "Given an array of 2k integers (for some integer k), perform the following operations until the array contains only one element:\n",
    "\n",
    "-   On the 1st, 3rd, 5th, etc. iterations (1-based) replace each pair of consecutive elements with their sum;\n",
    "-   On the 2nd, 4th, 6th, etc. iterations replace each pair of consecutive elements with their product.\n",
    "After the algorithm has finished, there will be a single element left in the array. Return that element.\n",
    "\n",
    "**Example**\n",
    "\n",
    "For inputArray = [1, 2, 3, 4, 5, 6, 7, 8], the output should be\n",
    "arrayConversion(inputArray) = 186. \n",
    "\n",
    "We have [1, 2, 3, 4, 5, 6, 7, 8] -> [3, 7, 11, 15] -> [21, 165] -> [186], so the answer is 186.\n",
    "\n",
    "**Hints**\n",
    "-   push()\n",
    "\n",
    "**Input/Output**\n",
    "\n",
    "- **[execution time limit] 5 seconds (ts)**\n",
    "- **[input] array.integer inputArray**\n",
    "\n",
    "*Guaranteed constraints:*\n",
    "\n",
    "1 ≤ inputArray.length ≤ 20,\n",
    "\n",
    "-9 ≤ inputArray[i] ≤ 99.\n",
    "\n",
    "- **[output] integer**\n",
    "## **ANSWER**"
   ]
  },
  {
   "cell_type": "code",
   "execution_count": 3,
   "id": "515a7817-86eb-4bff-be3e-08f4796253ac",
   "metadata": {},
   "outputs": [
    {
     "name": "stdout",
     "output_type": "stream",
     "text": [
      "Result: 186\n"
     ]
    }
   ],
   "source": [
    "def arrayConversion(inputArray):\n",
    "    iteration = 1  # Start from the first iteration\n",
    "\n",
    "    while len(inputArray) > 1:\n",
    "        newArray = []\n",
    "        for i in range(0, len(inputArray), 2):\n",
    "            if iteration % 2 == 1:\n",
    "                # Odd iteration: sum pairs\n",
    "                newArray.append(inputArray[i] + inputArray[i + 1])\n",
    "            else:\n",
    "                # Even iteration: multiply pairs\n",
    "                newArray.append(inputArray[i] * inputArray[i + 1])\n",
    "        inputArray = newArray\n",
    "        iteration += 1  # Move to the next iteration\n",
    "\n",
    "    return inputArray[0]  # Only one element left\n",
    "\n",
    "\n",
    "# Test case\n",
    "inputArray = [1, 2, 3, 4, 5, 6, 7, 8]\n",
    "result = arrayConversion(inputArray)\n",
    "print(f\"Result: {result}\")  # Expected: 186\n"
   ]
  },
  {
   "cell_type": "markdown",
   "id": "941eedef-f7a5-4e93-b54f-db9cd8a3fc83",
   "metadata": {},
   "source": [
    "The goal of this problem is to determine the minimum number of moves required to transform a given array into a strictly increasing sequence. A strictly increasing sequence means that each element in the array must be greater than the previous one.\n",
    "\n",
    "**Strategy for Solving**\n",
    "**1.Iterate through the array**\n",
    "\n",
    "+ Start from the second element and compare it with the previous element.\n",
    "\n",
    "**2.Ensure Increasing Order**\n",
    "\n",
    "+ If the current element is not greater than the previous one, calculate how much it needs to be increased.\n",
    "\n",
    "+ Add the difference to a counter tracking the total number of moves.\n",
    "\n",
    "**3.Update the Array**\n",
    "\n",
    "+ Modify the current element accordingly so that the sequence remains valid.\n",
    "  **Implementation Key Points**\n",
    "+ Keep track of moves using a variable.\n",
    "\n",
    "+ Traverse the array while ensuring each element is greater than the previous one.\n",
    "\n",
    "+ Increase elements only when necessary and count the operations."
   ]
  },
  {
   "cell_type": "markdown",
   "id": "05f3d2a5-5c12-44bf-8482-66acda43a4c9",
   "metadata": {},
   "source": [
    "---\n",
    "# **ArrayMaxConsecutiveSum**\n",
    "---\n",
    "## **TASK**\n",
    "Given array of integers, find the maximal possible sum of some of its k consecutive elements.\n",
    "\n",
    "Example\n",
    "\n",
    "For inputArray = [2, 3, 5, 1, 6] and k = 2, the output should be arrayMaxConsecutiveSum(inputArray, k) = 8. All possible sums of 2 consecutive elements are:\n",
    "\n",
    "2 + 3 = 5;\n",
    "3 + 5 = 8;\n",
    "5 + 1 = 6;\n",
    "1 + 6 = 7.\n",
    "Thus, the answer is 8\n",
    "\n",
    "Input/Output\n",
    "\n",
    "[execution time limit] 4 seconds (js)\n",
    "[input] array.integer inputArray Array of positive integers.\n",
    "Guaranteed constraints:\n",
    "\n",
    "3 ≤ inputArray.length ≤ 105,\n",
    "\n",
    "1 ≤ inputArray[i] ≤ 1000.\n",
    "\n",
    "[input] integer k\n",
    "An integer (not greater than the length of inputArray).\n",
    "\n",
    "Guaranteed constraints: 1 ≤ k ≤ inputArray.length.\n",
    "\n",
    "[output] integer\n",
    "The maximal possible sum.\n",
    "## **ANSWER**"
   ]
  },
  {
   "cell_type": "code",
   "execution_count": 4,
   "id": "b6f0a23d-2c3c-45a2-ad94-42c9d8a7ece7",
   "metadata": {},
   "outputs": [
    {
     "name": "stdout",
     "output_type": "stream",
     "text": [
      "Maximum sum of 2 consecutive elements: 8\n"
     ]
    }
   ],
   "source": [
    "def arrayMaxConsecutiveSum(inputArray, k):\n",
    "    # Compute the sum of the first 'k' elements\n",
    "    current_sum = sum(inputArray[:k])\n",
    "    max_sum = current_sum\n",
    "\n",
    "    # Use sliding window to update the sum efficiently\n",
    "    for i in range(k, len(inputArray)):\n",
    "        current_sum = current_sum - inputArray[i - k] + inputArray[i]\n",
    "        max_sum = max(max_sum, current_sum)\n",
    "    \n",
    "    return max_sum\n",
    "\n",
    "# Example usage\n",
    "inputArray = [2, 3, 5, 1, 6]\n",
    "k = 2\n",
    "print(\"Maximum sum of\", k, \"consecutive elements:\", arrayMaxConsecutiveSum(inputArray, k))\n"
   ]
  },
  {
   "cell_type": "markdown",
   "id": "c47f718b-faf3-4372-8e09-848b7562d2fd",
   "metadata": {},
   "source": [
    "The goal of this problem is to determine the **minimum** number of moves required to transform a given array into a **strictly increasing** sequence. A **strictly increasing sequence** means that each element in the array must be **greater** than the previous one.\n",
    "\n",
    "**Strategy for Solving**\n",
    "**1.Iterate through the array**\n",
    "\n",
    "+ Start from the second element and compare it with the previous element.\n",
    "\n",
    "**2.Ensure Increasing Order**\n",
    "\n",
    "+ If the current element is not greater than the previous one, calculate how much it needs to be increased.\n",
    "\n",
    "+ Add the difference to a counter tracking the total number of moves.\n",
    "\n",
    "  **Implementation Key Points**\n",
    "+ Keep track of moves using a variable.\n",
    "\n",
    "+ Traverse the array while ensuring each element is greater than the previous one.\n",
    "\n",
    "+ Increase elements only when necessary and count the operations."
   ]
  },
  {
   "cell_type": "markdown",
   "id": "23f5fb82-8336-4f23-bda5-6813a8f9ffa1",
   "metadata": {},
   "source": [
    "---\n",
    "# **ArrayMaximalAdjacentDifference**\n",
    "---\n",
    "## **TASK**\n",
    "Given an array of integers, find the maximal absolute difference between any two of its adjacent elements.\n",
    "\n",
    "Example\n",
    "\n",
    "For inputArray = [2, 4, 1, 0], the output should be arrayMaximalAdjacentDifference(inputArray) = 3.\n",
    "\n",
    "For inputArray = [2, 9, 1, 0], the output should be arrayMaximalAdjacentDifference(inputArray) = 8.\n",
    "\n",
    "Hints\n",
    "\n",
    "Math.abs()\n",
    "Input/Output\n",
    "\n",
    "[time limit] 4000ms (js)\n",
    "[input] array.integer inputArray\n",
    "Guaranteed constraints:\n",
    "\n",
    "3 ≤ inputArray.length ≤ 10,\n",
    "\n",
    "-15 ≤ inputArray[i] ≤ 15.\n",
    "\n",
    "[output] integer\n",
    "The maximal absolute difference.\n",
    "## **ANSWER**"
   ]
  },
  {
   "cell_type": "code",
   "execution_count": 5,
   "id": "536826e5-cc0f-4111-bb36-bae91da9bfe2",
   "metadata": {},
   "outputs": [
    {
     "name": "stdout",
     "output_type": "stream",
     "text": [
      "3\n",
      "8\n"
     ]
    }
   ],
   "source": [
    "def arrayMaximalAdjacentDifference(inputArray):\n",
    "    max_diff = 0\n",
    "    \n",
    "    for i in range(len(inputArray) - 1):\n",
    "        diff = abs(inputArray[i] - inputArray[i + 1])\n",
    "        if diff > max_diff:\n",
    "            max_diff = diff\n",
    "\n",
    "    return max_diff\n",
    "print(arrayMaximalAdjacentDifference([2, 4, 1, 0]))  # Output: 3\n",
    "print(arrayMaximalAdjacentDifference([2, 9, 1, 0]))  # Output: 8\n",
    "\n"
   ]
  },
  {
   "cell_type": "markdown",
   "id": "b40cc100-70a5-4460-9b32-e1e885f570a4",
   "metadata": {},
   "source": [
    "The goal of this function is to find the **largest difference between two side-by-side (adjacent) numbers** in a given list (array). It's useful for identifying the biggest jump between values in a sequence.\n",
    "\n",
    "1. **Initialize `max_diff`**  \n",
    "   The code starts by setting `max_diff` to 0. This variable keeps track of the biggest difference found so far.\n",
    "\n",
    "2. **Loop Through the Array**  \n",
    "   The `for` loop goes through each pair of adjacent elements in the list using their index.\n",
    "\n",
    "3. **Calculate Difference**  \n",
    "   For each pair, it calculates the absolute difference using `abs()` so the result is always positive.\n",
    "\n",
    "4. **Compare and Update**  \n",
    "   If the current difference is greater than `max_diff`, the code updates `max_diff` with the new larger value.\n",
    "\n",
    "5. **Return the Result**  \n",
    "   After checking all adjacent pairs, it returns the largest difference found.\n",
    "\n"
   ]
  },
  {
   "cell_type": "markdown",
   "id": "5897f847-c320-4034-a132-4e7336f596eb",
   "metadata": {},
   "source": [
    "---\n",
    "# **ArrayPreviousLess**\n",
    "---\n",
    "## **TASK**\n",
    "Given array of integers, for each position i, search among the previous positions for the last (from the left) position that contains a smaller value. Store this value at position i in the answer. If no such value can be found, store -1 instead.\n",
    "\n",
    "Example\n",
    "\n",
    "For items = [3, 5, 2, 4, 5], the output should be arrayPreviousLess(items) = [-1, 3, -1, 2, 4].\n",
    "\n",
    "Hints\n",
    "\n",
    "unshift()\n",
    "Input/Output\n",
    "\n",
    "[execution time limit] 5 seconds (ts)\n",
    "\n",
    "[input] array.integer items\n",
    "\n",
    "Non-empty array of positive integers.\n",
    "\n",
    "Guaranteed constraints:\n",
    "\n",
    "3 ≤ items.length ≤ 15,\n",
    "\n",
    "1 ≤ items[i] ≤ 200.\n",
    "\n",
    "[output] array.integer\n",
    "\n",
    "Array containing answer values computed as described above.\n",
    "## **ANSWER**"
   ]
  },
  {
   "cell_type": "code",
   "execution_count": 6,
   "id": "943c668d-e06a-4f30-8954-af6e7c196f97",
   "metadata": {},
   "outputs": [
    {
     "name": "stdout",
     "output_type": "stream",
     "text": [
      "[-1, 3, -1, 2, 4]\n"
     ]
    }
   ],
   "source": [
    "def arrayPreviousLess(items):\n",
    "    result = []\n",
    "\n",
    "    for i in range(len(items)):\n",
    "        found = -1\n",
    "        for j in range(i - 1, -1, -1):\n",
    "            if items[j] < items[i]:\n",
    "                found = items[j]\n",
    "                break\n",
    "        result.append(found)\n",
    "\n",
    "    return result\n",
    "print(arrayPreviousLess([3, 5, 2, 4, 5]))  # Output: [-1, 3, -1, 2, 4]\n"
   ]
  },
  {
   "cell_type": "markdown",
   "id": "d175958d-56bd-4a73-88bf-cfae9b7ffaa4",
   "metadata": {},
   "source": [
    "The goal is to create a new array where **each element represents the most recent smaller value found to the left of the current item** in the original list.\n",
    "\n",
    "- If there's no smaller number before the current one, store `-1`.\n",
    "\n",
    "We go through each item in the array **from left to right**:\n",
    "\n",
    "- For every position `i`, we look **backward** to check the values before it (`0` to `i-1`).\n",
    "- We try to find the **last (closest to `i`) value that is smaller** than the current value.\n",
    "- If we find such a value, we store it in the new array at position `i`.\n",
    "- If we **don’t** find any smaller value before it, we store `-1`.\n",
    "\n"
   ]
  },
  {
   "cell_type": "markdown",
   "id": "b25e3b0f-4eb7-4e6a-95f5-cc85a8371143",
   "metadata": {},
   "source": [
    "---\n",
    "# **ArrayReplace**\n",
    "---\n",
    "## **TASK**\n",
    "Given an array of integers, replace all the occurrences of elemToReplace with substitutionElem.\n",
    "\n",
    "Example\n",
    "\n",
    "For inputArray = [1, 2, 1], elemToReplace = 1 and substitutionElem = 3, the output should be arrayReplace(inputArray, elemToReplace, substitutionElem) = [3, 2, 3].\n",
    "\n",
    "Input/Output\n",
    "\n",
    "[time limit] 4000ms (js)\n",
    "[input] array.integer inputArray\n",
    "Guaranteed constraints:\n",
    "\n",
    "2 ≤ inputArray.length ≤ 10,\n",
    "\n",
    "0 ≤ inputArray[i] ≤ 10.\n",
    "\n",
    "[input] integer elemToReplace\n",
    "Guaranteed constraints:\n",
    "\n",
    "0 ≤ elemToReplace ≤ 10.\n",
    "\n",
    "[input] integer substitutionElem\n",
    "Guaranteed constraints:\n",
    "\n",
    "0 ≤ substitutionElem ≤ 10.\n",
    "\n",
    "[output] array.integer\n",
    "## **ANSWER**"
   ]
  },
  {
   "cell_type": "code",
   "execution_count": 7,
   "id": "acd6cabf-b05e-4588-a3d0-d536cf7076bb",
   "metadata": {},
   "outputs": [
    {
     "name": "stdout",
     "output_type": "stream",
     "text": [
      "[3, 2, 3]\n"
     ]
    }
   ],
   "source": [
    "def arrayReplace(inputArray, elemToReplace, substitutionElem):\n",
    "    return [substitutionElem if x == elemToReplace else x for x in inputArray]\n",
    "print(arrayReplace([1, 2, 1], 1, 3))  # Output: [3, 2, 3]\n"
   ]
  },
  {
   "cell_type": "markdown",
   "id": "562dadaa-75cf-4a99-9b52-0058f2cc3512",
   "metadata": {},
   "source": [
    "The goal is to **replace every occurrence of a specific value** in an array with a new value.\n",
    "\n",
    "Given:\n",
    "- An input array of integers\n",
    "- A number to search for (`elemToReplace`)\n",
    "- A number to replace it with (`substitutionElem`)\n",
    "\n",
    "You return a **new array** where every time `elemToReplace` appears, it is replaced by `substitutionElem`.\n",
    "\n",
    "We go through each item in the array one by one:\n",
    "\n",
    "- If the item is equal to `elemToReplace`, we replace it with `substitutionElem`.\n",
    "- If it is not equal, we leave it as it is.\n",
    "- We do this for every element in the array.\n"
   ]
  },
  {
   "cell_type": "code",
   "execution_count": null,
   "id": "ffc0ef07-aba3-444b-a762-ad3073574502",
   "metadata": {},
   "outputs": [],
   "source": []
  }
 ],
 "metadata": {
  "kernelspec": {
   "display_name": "Python 3 (ipykernel)",
   "language": "python",
   "name": "python3"
  },
  "language_info": {
   "codemirror_mode": {
    "name": "ipython",
    "version": 3
   },
   "file_extension": ".py",
   "mimetype": "text/x-python",
   "name": "python",
   "nbconvert_exporter": "python",
   "pygments_lexer": "ipython3",
   "version": "3.12.7"
  }
 },
 "nbformat": 4,
 "nbformat_minor": 5
}
