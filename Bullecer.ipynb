{
 "cells": [
  {
   "cell_type": "markdown",
   "id": "4f64da6e",
   "metadata": {},
   "source": [
    "### Algorithms Final Projects"
   ]
  },
  {
   "cell_type": "markdown",
   "id": "035989a1",
   "metadata": {},
   "source": [
    "DARYL WILLIAMS B. BULLECER"
   ]
  },
  {
   "cell_type": "markdown",
   "id": "a8d00d56",
   "metadata": {},
   "source": [
    "### LargestNumber"
   ]
  },
  {
   "cell_type": "markdown",
   "id": "d478a077",
   "metadata": {},
   "source": [
    "### TASK"
   ]
  },
  {
   "cell_type": "markdown",
   "id": "3e286b49",
   "metadata": {},
   "source": [
    "## Example\n",
    "\n",
    "For `n = 2`, the output should be `largestNumber(n) = 99`.\n",
    "\n",
    "### Hints\n",
    "- `concat()`\n",
    "- `parseInt()`\n",
    "\n",
    "### Input/Output\n",
    "\n",
    "- **[execution time limit]** 4 seconds (js)\n",
    "- **[input]** integer `n`\n",
    "    - Guaranteed constraints:\n",
    "      - `1 ≤ n ≤ 9`\n",
    "\n",
    "- **[output]** integer\n",
    "    - Guaranteed constraints:\n",
    "      - The largest integer of length `n`.\n"
   ]
  },
  {
   "cell_type": "markdown",
   "id": "7cb7b069",
   "metadata": {},
   "source": [
    "## Problem Explanation:\n",
    "\n",
    "You are tasked with generating the largest integer that has a length of `n` digits. The integer must be made using the largest possible digit, which is `9`.\n",
    "\n",
    "### Example:\n",
    "For `n = 2`, the output should be `largestNumber(n) = 99`.\n",
    "\n",
    "## Approach:\n",
    "The problem is asking for the largest integer of length `n`. Since the largest digit is `9`, for any `n`, you can simply create a string of `n` nines and then convert it to an integer.\n",
    "\n",
    "For example:\n",
    "- If `n = 2`, the largest number is `\"99\"`.\n",
    "- If `n = 3`, the largest number is `\"999\"`.\n",
    "- If `n = 5`, the largest number is `\"99999\"`.\n",
    "\n",
    "This approach works because `9` is the largest possible digit, so the largest number of length `n` is just `n` repeated `9`s.\n"
   ]
  },
  {
   "cell_type": "markdown",
   "id": "46a19623",
   "metadata": {},
   "source": [
    "### ANSWER"
   ]
  },
  {
   "cell_type": "code",
   "execution_count": null,
   "id": "16a429e5",
   "metadata": {},
   "outputs": [
    {
     "name": "stdout",
     "output_type": "stream",
     "text": [
      "99\n",
      "999\n",
      "99999\n"
     ]
    }
   ],
   "source": [
    "def largestNumber(n):\n",
    "    # Create a string with 'n' nines and convert it to an integer\n",
    "    return int('9' * n)\n",
    "\n",
    "# Example: n = 2\n",
    "print(largestNumber(2))  # Output: 99\n",
    "\n",
    "# Example: n = 3\n",
    "print(largestNumber(3))  # Output: 999\n",
    "\n",
    "# Example: n = 5\n",
    "print(largestNumber(5))  # Output: 99999\n"
   ]
  },
  {
   "cell_type": "markdown",
   "id": "6b02442b",
   "metadata": {},
   "source": [
    "## Explanation:\n",
    "\n",
    "- **`'9' * n`**: This creates a string consisting of `n` repeated characters of `'9'`. For example, if `n = 2`, it will produce the string `\"99\"`.\n",
    "\n",
    "- **`int()`**: Converts the string to an integer. For instance, `\"99\"` becomes `99`.\n",
    "\n",
    "### Output:\n",
    "- For `n = 2`, the output will be `99`.\n",
    "- For `n = 3`, the output will be `999`.\n",
    "- For `n = 5`, the output will be `99999`.\n",
    "\n",
    "### Why it works:\n",
    "Since `9` is the largest single digit, and the number needs to have exactly `n` digits, the largest number of length `n` is simply a string of `n` `'9'` characters.\n",
    "\n",
    "This Python solution is straightforward and efficient for the given constraints `1 ≤ n ≤ 9`.\n"
   ]
  },
  {
   "cell_type": "markdown",
   "id": "c3905b60",
   "metadata": {},
   "source": [
    "### LargestOfFour"
   ]
  },
  {
   "cell_type": "markdown",
   "id": "bde5fbab",
   "metadata": {},
   "source": [
    "### Task"
   ]
  },
  {
   "cell_type": "markdown",
   "id": "1ac06def",
   "metadata": {},
   "source": [
    "## Problem Statement:\n",
    "\n",
    "Return an array consisting of the largest number from each provided sub-array. For simplicity, the provided array will contain exactly 4 sub-arrays.\n",
    "\n",
    "Remember, you can iterate through an array with a simple for loop, and access each member with array syntax `arr[i]`.\n",
    "\n",
    "### Example:\n",
    "\n",
    "```javascript\n",
    "largestOfFour([ [4, 5, 1, 3], [13, 27, 18, 26], [32, 35, 37, 39], [1000, 1001, 857, 1]])\n",
    "// returns [5, 27, 39, 1001]\n",
    "\n",
    "largestOfFour([ [4, 9, 1, 3], [13, 35, 18, 26], [32, 35, 97, 39], [1000000, 1001, 857, 1]])\n",
    "// returns [9, 35, 97, 1000000]\n"
   ]
  },
  {
   "cell_type": "markdown",
   "id": "d5c6860b",
   "metadata": {},
   "source": [
    "### Task:\n",
    "The task is to find the largest number in each of the four provided sub-arrays and return an array containing those largest values.\n",
    "\n",
    "### Approach:\n",
    "1. Iterate over each sub-array in the main array.\n",
    "2. For each sub-array, find the largest number.\n",
    "3. Store the largest number from each sub-array.\n",
    "4. Return an array containing these largest numbers.\n",
    "\n",
    "### Example:\n",
    "\n",
    "- For the sub-array `[4, 5, 1, 3]`, the largest number is `5`.\n",
    "- For the sub-array `[13, 27, 18, 26]`, the largest number is `27`.\n",
    "- For the sub-array `[32, 35, 37, 39]`, the largest number is `39`.\n",
    "- For the sub-array `[1000, 1001, 857, 1]`, the largest number is `1001`.\n",
    "\n",
    "### Final Result:\n",
    "The final result will be `[5, 27, 39, 1001]`.\n"
   ]
  },
  {
   "cell_type": "markdown",
   "id": "f74c9445",
   "metadata": {},
   "source": [
    "### ANSWER"
   ]
  },
  {
   "cell_type": "code",
   "execution_count": null,
   "id": "83ed947d",
   "metadata": {},
   "outputs": [
    {
     "name": "stdout",
     "output_type": "stream",
     "text": [
      "[5, 27, 39, 1001]\n",
      "[9, 35, 97, 1000000]\n"
     ]
    }
   ],
   "source": [
    "def largestOfFour(arr):\n",
    "    # Create a list to store the largest numbers\n",
    "    largest_numbers = []\n",
    "    \n",
    "    # Iterate over each sub-array\n",
    "    for sub_array in arr:\n",
    "        # Find the largest number in the current sub-array\n",
    "        largest_numbers.append(max(sub_array))\n",
    "    \n",
    "    # Return the list of largest numbers\n",
    "    return largest_numbers\n",
    "\n",
    "# Example Usage:\n",
    "print(largestOfFour([[4, 5, 1, 3], [13, 27, 18, 26], [32, 35, 37, 39], [1000, 1001, 857, 1]]))\n",
    "# Output: [5, 27, 39, 1001]\n",
    "\n",
    "print(largestOfFour([[4, 9, 1, 3], [13, 35, 18, 26], [32, 35, 97, 39], [1000000, 1001, 857, 1]]))\n",
    "# Output: [9, 35, 97, 1000000]\n"
   ]
  },
  {
   "cell_type": "markdown",
   "id": "216a27aa",
   "metadata": {},
   "source": [
    "### Explanation of the Code:\n",
    "\n",
    "- **max(sub_array)**: This function is used to find the maximum (largest) number in each sub-array.\n",
    "- **append()**: Adds the largest number of the current sub-array to the result list `largest_numbers`.\n",
    "\n",
    "After iterating through all the sub-arrays, the function returns a list containing the largest number from each sub-array.\n",
    "\n",
    "### Output for the Examples:\n",
    "\n",
    "1. `largestOfFour([[4, 5, 1, 3], [13, 27, 18, 26], [32, 35, 37, 39], [1000, 1001, 857, 1]])` returns `[5, 27, 39, 1001]`.\n",
    "2. `largestOfFour([[4, 9, 1, 3], [13, 35, 18, 26], [32, 35, 97, 39], [1000000, 1001, 857, 1]])` returns `[9, 35, 97, 1000000]`.\n"
   ]
  },
  {
   "cell_type": "markdown",
   "id": "88ade6af",
   "metadata": {},
   "source": [
    "### LongestDigitsPrefix"
   ]
  },
  {
   "cell_type": "markdown",
   "id": "79db9ea8",
   "metadata": {},
   "source": [
    "### Task"
   ]
  },
  {
   "cell_type": "markdown",
   "id": "87506572",
   "metadata": {},
   "source": [
    "### Problem Description:\n",
    "\n",
    "Given a string, output its longest prefix which contains only digits.\n",
    "\n",
    "### Example:\n",
    "\n",
    "For `inputString = \"123aa1\"`, the output should be:\n",
    "```python\n",
    "longestDigitsPrefix(inputString) = \"123\"\n",
    " Hints:\n",
    "- `split()`\n",
    "- `includes()`\n",
    "- `push()`\n",
    "- `join()`\n",
    "\n",
    " Input/Output:\n",
    "\n",
    "- **Time Limit**: 4000ms (JavaScript)\n",
    "- **Input**: A string `inputString` where `3 ≤ inputString.length ≤ 35`.\n",
    "- **Output**: A string.\n"
   ]
  },
  {
   "cell_type": "markdown",
   "id": "e7519788",
   "metadata": {},
   "source": [
    "### Explanation:\n",
    "\n",
    "The task is to find the longest prefix of a string that consists only of digits. A prefix is defined as the initial portion of the string. The goal is to extract the part of the string that starts from the beginning and contains only numeric characters (0-9).\n",
    "\n",
    "### Steps to Solve:\n",
    "\n",
    "1. Iterate through the characters of the input string.\n",
    "2. As long as the character is a digit, keep adding it to the result.\n",
    "3. Once you encounter a non-digit character, stop and return the collected digits as the result.\n",
    "4. In case the string starts with no digits, the result will be an empty string.\n"
   ]
  },
  {
   "cell_type": "markdown",
   "id": "f5ac144c",
   "metadata": {},
   "source": [
    "### ANSWER"
   ]
  },
  {
   "cell_type": "code",
   "execution_count": null,
   "id": "726bfefb",
   "metadata": {},
   "outputs": [
    {
     "name": "stdout",
     "output_type": "stream",
     "text": [
      "123\n",
      "4567\n",
      "\n"
     ]
    }
   ],
   "source": [
    "def longestDigitsPrefix(inputString):\n",
    "    # Initialize an empty result string\n",
    "    result = ''\n",
    "    \n",
    "    # Iterate over each character in the inputString\n",
    "    for char in inputString:\n",
    "        # Check if the character is a digit\n",
    "        if char.isdigit():\n",
    "            result += char  # Append the digit to the result string\n",
    "        else:\n",
    "            break  # Stop if a non-digit character is encountered\n",
    "    \n",
    "    # Return the longest digits prefix\n",
    "    return result\n",
    "\n",
    "# Example usage:\n",
    "print(longestDigitsPrefix(\"123aa1\"))  # Output: \"123\"\n",
    "print(longestDigitsPrefix(\"4567abc\"))  # Output: \"4567\"\n",
    "print(longestDigitsPrefix(\"abc123\"))  # Output: \"\"\n"
   ]
  },
  {
   "cell_type": "markdown",
   "id": "99967c76",
   "metadata": {},
   "source": [
    "### Explanation of the Code:\n",
    "\n",
    "- **isdigit()**: This built-in string method checks whether a character is a digit (from 0 to 9). If it is, the character is added to the result string.\n",
    "  \n",
    "- **+=**: This operator is used to append the digit to the result string as we iterate through the input string.\n",
    "  \n",
    "- **break**: Once a non-digit character is encountered, the loop terminates as we no longer need to continue looking for the prefix of digits.\n",
    "\n",
    "### Edge Case:\n",
    "- If the input string starts with non-digits (e.g., \"abc123\"), the result will be an empty string, as no digits appear at the start.\n",
    "\n",
    "### Output for the Examples:\n",
    "\n",
    "- For `longestDigitsPrefix(\"123aa1\")`, the output will be `\"123\"`.\n",
    "- For `longestDigitsPrefix(\"4567abc\")`, the output will be `\"4567\"`.\n",
    "- For `longestDigitsPrefix(\"abc123\")`, the output will be `\"\"` (an empty string).\n"
   ]
  },
  {
   "cell_type": "markdown",
   "id": "ea9b20d9",
   "metadata": {},
   "source": [
    "### MakeArrayConsecutive2"
   ]
  },
  {
   "cell_type": "markdown",
   "id": "60171d3c",
   "metadata": {},
   "source": [
    "### Task"
   ]
  },
  {
   "cell_type": "markdown",
   "id": "16cd71f3",
   "metadata": {},
   "source": [
    "### Problem Description:\n",
    "\n",
    "Ratiorg got statues of different sizes as a present from CodeMaster for his birthday, each statue having a non-negative integer size. Since he likes to make things perfect, he wants to arrange them from smallest to largest so that each statue will be bigger than the previous one exactly by 1. He may need some additional statues to be able to accomplish that. Help him figure out the minimum number of additional statues needed.\n",
    "\n",
    "### Example:\n",
    "\n",
    "For `statues = [6, 2, 3, 8]`, the output should be:\n",
    "```python\n",
    "makeArrayConsecutive2(statues) = 3\n",
    " Problem Description:\n",
    "\n",
    "Ratiorg needs statues of sizes 4, 5, and 7.\n",
    "\n",
    " Hints:\n",
    "- `sort()`\n",
    "- `indexOf()`\n",
    "\n",
    " Input/Output:\n",
    "\n",
    "- **Time Limit**: 4000ms (JavaScript)\n",
    "\n",
    "- **Input**: An array of distinct non-negative integers `statues`.\n",
    "\n",
    "- **Guaranteed Constraints**:\n",
    "  - `1 ≤ statues.length ≤ 10`\n",
    "  - `0 ≤ statues[i] ≤ 20`\n",
    "\n",
    "- **Output**: An integer, the minimal number of statues that need to be added to the existing statues such that it contains every integer size from an interval `[L, R]` (for some `L, R`) and no other sizes.\n"
   ]
  },
  {
   "cell_type": "markdown",
   "id": "76457c2e",
   "metadata": {},
   "source": [
    "### 🎯 Goal:\n",
    "Given an array of distinct statue sizes (non-negative integers), determine how many statues are missing to make the sequence consecutive — i.e., every size from the smallest to the largest should appear, with no gaps.\n",
    "\n",
    "### 🔧 How It Works:\n",
    "\n",
    "1. **Find the smallest and largest values** in the array.\n",
    "2. **Count how many numbers** should be in the full consecutive sequence (from smallest to largest, inclusive).\n",
    "3. **Subtract the number of statues you already have** from the total count to get the number of missing statues.\n"
   ]
  },
  {
   "cell_type": "markdown",
   "id": "41c56622",
   "metadata": {},
   "source": [
    "### ANSWER"
   ]
  },
  {
   "cell_type": "code",
   "execution_count": null,
   "id": "7cc8bc60",
   "metadata": {},
   "outputs": [
    {
     "name": "stdout",
     "output_type": "stream",
     "text": [
      "3\n",
      "1\n",
      "0\n"
     ]
    }
   ],
   "source": [
    "def makeArrayConsecutive2(statues):\n",
    "    min_size = min(statues)\n",
    "    max_size = max(statues)\n",
    "    \n",
    "    # Total numbers expected in the consecutive sequence\n",
    "    total_needed = max_size - min_size + 1\n",
    "    \n",
    "    # Subtract the number we already have\n",
    "    return total_needed - len(statues)\n",
    "\n",
    "# Example usage\n",
    "print(makeArrayConsecutive2([6, 2, 3, 8]))  # Output: 3\n",
    "print(makeArrayConsecutive2([0, 1, 3]))     # Output: 1 (missing 2)\n",
    "print(makeArrayConsecutive2([5, 4, 6, 7]))  # Output: 0 (already consecutive)\n"
   ]
  },
  {
   "cell_type": "markdown",
   "id": "1a9cda6a",
   "metadata": {},
   "source": [
    "### 🧠 Why It Works:\n",
    "\n",
    "- `max(statues) - min(statues) + 1`: Gives the total count of numbers in the full consecutive sequence.\n",
    "- `len(statues)`: Number of statues we already have.\n",
    "- The **difference** tells how many statues are missing.\n",
    "\n",
    "### 📌 Constraints Recap:\n",
    "\n",
    "- `1 ≤ statues.length ≤ 10`\n",
    "- `0 ≤ statues[i] ≤ 20`\n",
    "\n",
    "So this simple approach is **efficient and safe**.\n"
   ]
  },
  {
   "cell_type": "markdown",
   "id": "0a41ec23",
   "metadata": {},
   "source": [
    "### MatrixElementsSum"
   ]
  },
  {
   "cell_type": "markdown",
   "id": "466756a5",
   "metadata": {},
   "source": [
    "### Task"
   ]
  },
  {
   "cell_type": "markdown",
   "id": "32521978",
   "metadata": {},
   "source": [
    "### 🏢 Problem Description:\n",
    "\n",
    "After becoming famous, CodeBots decided to move to a new building and live together. The building is represented by a rectangular matrix of rooms, each cell containing an integer — the price of the room.\n",
    "\n",
    "Some rooms are free (their cost is 0), but that's probably because they are haunted 👻, so all the bots are afraid of them. That is why **any room that is free or is located anywhere below a free room in the same column is not considered suitable** for the bots.\n",
    "\n",
    "Help the bots calculate the **total price of all the rooms** that are suitable for them.\n",
    "\n",
    "---\n",
    "\n",
    "### 📌 Example:\n",
    "\n",
    "For:\n",
    "\n",
    "```python\n",
    "matrix = [\n",
    "  [0, 1, 1, 2],\n",
    "  [0, 5, 0, 0],\n",
    "  [2, 0, 3, 3]\n",
    "]\n",
    "### 🧾 Output Example:\n",
    "\n",
    "The output should be:\n",
    "\n",
    "```python\n",
    "matrixElementsSum(matrix) = 9\n",
    "\n",
    "Thus, the answer is:  \n",
    "**1 + 5 + 1 + 2 = 9**\n",
    "\n",
    "---\n",
    "\n",
    "### 💡 Hints:\n",
    "- `push()`\n",
    "- `indexOf()`\n",
    "\n",
    "---\n",
    "\n",
    "### 🔢 Input/Output:\n",
    "\n",
    "- **Time Limit**: 4000ms (JavaScript)\n",
    "\n",
    "#### Input:\n",
    "A 2-dimensional array of integers `matrix`, representing a rectangular matrix of the building.\n",
    "\n",
    "#### Guaranteed Constraints:\n",
    "- `1 ≤ matrix.length ≤ 5`\n",
    "- `1 ≤ matrix[i].length ≤ 5`\n",
    "- `0 ≤ matrix[i][j] ≤ 10`\n",
    "\n",
    "#### Output:\n",
    "An integer — the total cost of suitable rooms.\n"
   ]
  },
  {
   "cell_type": "markdown",
   "id": "3e09efc7",
   "metadata": {},
   "source": [
    "### 🏢 Problem Explanation: `matrixElementsSum`\n",
    "\n",
    "You are given a **2D matrix** where:\n",
    "\n",
    "- Each number represents the **cost of a room**.\n",
    "\n",
    "---\n",
    "\n",
    "### ❌ A room is unsuitable if:\n",
    "- It is **free** (has a value of `0`), **or**\n",
    "- It is **below a free room in the same column**.\n",
    "\n",
    "---\n",
    "\n",
    "### ✅ Your task:\n",
    "Sum the values of only the **suitable rooms** — that is, rooms that:\n",
    "- Are not free,\n",
    "- And are **not located beneath** a free room in their column.\n",
    "### ✅ Example\n",
    "\n",
    "**Input:**\n",
    "```python\n",
    "matrix = [\n",
    "  [0, 1, 1, 2],\n",
    "  [0, 5, 0, 0],\n",
    "  [2, 0, 3, 3]\n",
    "]\n",
    "### ✅ Result: 9\n",
    "\n",
    "Because the suitable rooms are:\n",
    "\n",
    "### ✅ Suitable Rooms Matrix:\n",
    "\n",
    "First row:   [x, 1, 1, 2]  \n",
    "Second row:  [x, 5, x, x]  \n",
    "Third row:   [x, x, x, x]\n",
    "\n",
    "Where `x` marks the unsuitable rooms.\n",
    "\n",
    "---\n",
    "\n",
    "### 🔧 Strategy\n",
    "\n",
    "- Traverse the matrix **column by column**.\n",
    "- If a room is `0`, **mark that column as \"haunted\"** from that row downward.\n",
    "- **Only add to the sum** if the column **has not been haunted yet**.\n"
   ]
  },
  {
   "cell_type": "markdown",
   "id": "8899540f",
   "metadata": {},
   "source": [
    "### ANSWER"
   ]
  },
  {
   "cell_type": "code",
   "execution_count": null,
   "id": "b9ea5dba",
   "metadata": {},
   "outputs": [
    {
     "name": "stdout",
     "output_type": "stream",
     "text": [
      "9\n"
     ]
    }
   ],
   "source": [
    "def matrixElementsSum(matrix):\n",
    "    total = 0\n",
    "    rows = len(matrix)\n",
    "    cols = len(matrix[0])\n",
    "\n",
    "    # Track haunted columns\n",
    "    for col in range(cols):\n",
    "        for row in range(rows):\n",
    "            if matrix[row][col] == 0:\n",
    "                break  # All rooms below are unsuitable\n",
    "            total += matrix[row][col]\n",
    "\n",
    "    return total\n",
    "\n",
    "# Example usage:\n",
    "matrix = [\n",
    "    [0, 1, 1, 2],\n",
    "    [0, 5, 0, 0],\n",
    "    [2, 0, 3, 3]\n",
    "]\n",
    "print(matrixElementsSum(matrix))  # Output: 9\n"
   ]
  },
  {
   "cell_type": "markdown",
   "id": "41f09fb5",
   "metadata": {},
   "source": [
    "### 🧠 Why It Works:\n",
    "\n",
    "- **Looping top-down** ensures that when we hit a `0`, we can **skip the rest of the column** below it, as all subsequent rooms in that column are unsuitable.\n",
    "  \n",
    "- The **time complexity** is small (<= 25 elements), so using **nested loops** is efficient.\n"
   ]
  }
 ],
 "metadata": {
  "kernelspec": {
   "display_name": "base",
   "language": "python",
   "name": "python3"
  },
  "language_info": {
   "codemirror_mode": {
    "name": "ipython",
    "version": 3
   },
   "file_extension": ".py",
   "mimetype": "text/x-python",
   "name": "python",
   "nbconvert_exporter": "python",
   "pygments_lexer": "ipython3",
   "version": "3.12.4"
  }
 },
 "nbformat": 4,
 "nbformat_minor": 5
}
